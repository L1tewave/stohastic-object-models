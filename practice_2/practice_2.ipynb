{
 "cells": [
  {
   "cell_type": "markdown",
   "metadata": {},
   "source": [
    "# Предварительный анализ данных"
   ]
  },
  {
   "cell_type": "markdown",
   "metadata": {},
   "source": [
    "## Подключение библиотек"
   ]
  },
  {
   "cell_type": "code",
   "execution_count": 1,
   "metadata": {},
   "outputs": [],
   "source": [
    "import matplotlib.pyplot as plt\n",
    "import seaborn as sns\n",
    "import pandas as pd\n",
    "import numpy as np\n",
    "import scipy\n",
    "from collections import Counter\n",
    "from sklearn.preprocessing import LabelEncoder, OneHotEncoder, MinMaxScaler, StandardScaler, scale\n",
    "from sklearn.impute import KNNImputer\n",
    "\n",
    "\n",
    "%matplotlib inline"
   ]
  },
  {
   "cell_type": "markdown",
   "metadata": {},
   "source": [
    "## Загрузка данных"
   ]
  },
  {
   "cell_type": "code",
   "execution_count": 2,
   "metadata": {},
   "outputs": [],
   "source": [
    "data = pd.read_excel('practice_dataframe.xlsx', usecols=['cat16_city', 'cat11_nationality', 'num1_5', 'num2_5', 'num3_5'])"
   ]
  },
  {
   "cell_type": "markdown",
   "metadata": {},
   "source": [
    "## Вариант 4. Признаки для анализа:\n",
    "1. cat16_city\n",
    "2. cat11_nationality\n",
    "3. num1_5\n",
    "4. num2_5\n",
    "5. num3_5"
   ]
  },
  {
   "cell_type": "markdown",
   "metadata": {},
   "source": [
    "## Обработка данных"
   ]
  },
  {
   "cell_type": "code",
   "execution_count": 3,
   "metadata": {},
   "outputs": [
    {
     "data": {
      "text/html": [
       "<div>\n",
       "<style scoped>\n",
       "    .dataframe tbody tr th:only-of-type {\n",
       "        vertical-align: middle;\n",
       "    }\n",
       "\n",
       "    .dataframe tbody tr th {\n",
       "        vertical-align: top;\n",
       "    }\n",
       "\n",
       "    .dataframe thead th {\n",
       "        text-align: right;\n",
       "    }\n",
       "</style>\n",
       "<table border=\"1\" class=\"dataframe\">\n",
       "  <thead>\n",
       "    <tr style=\"text-align: right;\">\n",
       "      <th></th>\n",
       "      <th>cat11_nationality</th>\n",
       "      <th>cat16_city</th>\n",
       "      <th>num1_5</th>\n",
       "      <th>num2_5</th>\n",
       "      <th>num3_5</th>\n",
       "    </tr>\n",
       "  </thead>\n",
       "  <tbody>\n",
       "    <tr>\n",
       "      <th>0</th>\n",
       "      <td>german</td>\n",
       "      <td>moscow</td>\n",
       "      <td>200.404132</td>\n",
       "      <td>374.849841</td>\n",
       "      <td>537.784</td>\n",
       "    </tr>\n",
       "    <tr>\n",
       "      <th>1</th>\n",
       "      <td>German</td>\n",
       "      <td>St. Petersburg</td>\n",
       "      <td>236.691176</td>\n",
       "      <td>757.925894</td>\n",
       "      <td>525.436</td>\n",
       "    </tr>\n",
       "    <tr>\n",
       "      <th>2</th>\n",
       "      <td>german</td>\n",
       "      <td>St. Petersburg</td>\n",
       "      <td>-26.114921</td>\n",
       "      <td>556.885394</td>\n",
       "      <td>572.672</td>\n",
       "    </tr>\n",
       "    <tr>\n",
       "      <th>3</th>\n",
       "      <td>German</td>\n",
       "      <td>Moscow</td>\n",
       "      <td>-82.764817</td>\n",
       "      <td>915.702660</td>\n",
       "      <td>570.468</td>\n",
       "    </tr>\n",
       "    <tr>\n",
       "      <th>4</th>\n",
       "      <td>german</td>\n",
       "      <td>Chelyabinsk</td>\n",
       "      <td>389.350889</td>\n",
       "      <td>595.813259</td>\n",
       "      <td>457.3</td>\n",
       "    </tr>\n",
       "  </tbody>\n",
       "</table>\n",
       "</div>"
      ],
      "text/plain": [
       "  cat11_nationality      cat16_city      num1_5      num2_5   num3_5\n",
       "0            german          moscow  200.404132  374.849841  537.784\n",
       "1            German  St. Petersburg  236.691176  757.925894  525.436\n",
       "2            german  St. Petersburg  -26.114921  556.885394  572.672\n",
       "3            German          Moscow  -82.764817  915.702660  570.468\n",
       "4            german     Chelyabinsk  389.350889  595.813259    457.3"
      ]
     },
     "execution_count": 3,
     "metadata": {},
     "output_type": "execute_result"
    }
   ],
   "source": [
    "data.head()"
   ]
  },
  {
   "cell_type": "code",
   "execution_count": 4,
   "metadata": {
    "scrolled": true
   },
   "outputs": [
    {
     "name": "stdout",
     "output_type": "stream",
     "text": [
      "<class 'pandas.core.frame.DataFrame'>\n",
      "RangeIndex: 1000 entries, 0 to 999\n",
      "Data columns (total 5 columns):\n",
      " #   Column             Non-Null Count  Dtype  \n",
      "---  ------             --------------  -----  \n",
      " 0   cat11_nationality  980 non-null    object \n",
      " 1   cat16_city         980 non-null    object \n",
      " 2   num1_5             1000 non-null   float64\n",
      " 3   num2_5             951 non-null    float64\n",
      " 4   num3_5             971 non-null    object \n",
      "dtypes: float64(2), object(3)\n",
      "memory usage: 39.2+ KB\n"
     ]
    }
   ],
   "source": [
    "data.info()"
   ]
  },
  {
   "cell_type": "code",
   "execution_count": 5,
   "metadata": {},
   "outputs": [
    {
     "data": {
      "text/html": [
       "<div>\n",
       "<style scoped>\n",
       "    .dataframe tbody tr th:only-of-type {\n",
       "        vertical-align: middle;\n",
       "    }\n",
       "\n",
       "    .dataframe tbody tr th {\n",
       "        vertical-align: top;\n",
       "    }\n",
       "\n",
       "    .dataframe thead th {\n",
       "        text-align: right;\n",
       "    }\n",
       "</style>\n",
       "<table border=\"1\" class=\"dataframe\">\n",
       "  <thead>\n",
       "    <tr style=\"text-align: right;\">\n",
       "      <th></th>\n",
       "      <th>num1_5</th>\n",
       "      <th>num2_5</th>\n",
       "    </tr>\n",
       "  </thead>\n",
       "  <tbody>\n",
       "    <tr>\n",
       "      <th>count</th>\n",
       "      <td>1000.000000</td>\n",
       "      <td>951.000000</td>\n",
       "    </tr>\n",
       "    <tr>\n",
       "      <th>mean</th>\n",
       "      <td>-215.020836</td>\n",
       "      <td>477.456885</td>\n",
       "    </tr>\n",
       "    <tr>\n",
       "      <th>std</th>\n",
       "      <td>2304.593027</td>\n",
       "      <td>367.932609</td>\n",
       "    </tr>\n",
       "    <tr>\n",
       "      <th>min</th>\n",
       "      <td>-9999.000000</td>\n",
       "      <td>-680.684885</td>\n",
       "    </tr>\n",
       "    <tr>\n",
       "      <th>25%</th>\n",
       "      <td>-271.827089</td>\n",
       "      <td>253.822944</td>\n",
       "    </tr>\n",
       "    <tr>\n",
       "      <th>50%</th>\n",
       "      <td>233.072300</td>\n",
       "      <td>471.862930</td>\n",
       "    </tr>\n",
       "    <tr>\n",
       "      <th>75%</th>\n",
       "      <td>711.946661</td>\n",
       "      <td>695.402804</td>\n",
       "    </tr>\n",
       "    <tr>\n",
       "      <th>max</th>\n",
       "      <td>2777.457729</td>\n",
       "      <td>1637.450840</td>\n",
       "    </tr>\n",
       "  </tbody>\n",
       "</table>\n",
       "</div>"
      ],
      "text/plain": [
       "            num1_5       num2_5\n",
       "count  1000.000000   951.000000\n",
       "mean   -215.020836   477.456885\n",
       "std    2304.593027   367.932609\n",
       "min   -9999.000000  -680.684885\n",
       "25%    -271.827089   253.822944\n",
       "50%     233.072300   471.862930\n",
       "75%     711.946661   695.402804\n",
       "max    2777.457729  1637.450840"
      ]
     },
     "execution_count": 5,
     "metadata": {},
     "output_type": "execute_result"
    }
   ],
   "source": [
    "data.describe()"
   ]
  },
  {
   "cell_type": "code",
   "execution_count": 6,
   "metadata": {},
   "outputs": [
    {
     "data": {
      "text/plain": [
       "array(['german', 'German', 'French', '-', 'italian', nan, 'Italian', ' '],\n",
       "      dtype=object)"
      ]
     },
     "execution_count": 6,
     "metadata": {},
     "output_type": "execute_result"
    }
   ],
   "source": [
    "data.cat11_nationality.unique()"
   ]
  },
  {
   "cell_type": "code",
   "execution_count": 7,
   "metadata": {},
   "outputs": [
    {
     "data": {
      "text/plain": [
       "array(['German', 'French', None, 'Italian'], dtype=object)"
      ]
     },
     "execution_count": 7,
     "metadata": {},
     "output_type": "execute_result"
    }
   ],
   "source": [
    "data['cat11_nationality'] = data['cat11_nationality'].replace(\n",
    "    {'german': 'German', \n",
    "     'italian': 'Italian', \n",
    "     '-': None, \n",
    "     ' ': None,\n",
    "     np.nan: None}\n",
    ")\n",
    "data.cat11_nationality.unique()"
   ]
  },
  {
   "cell_type": "code",
   "execution_count": 8,
   "metadata": {},
   "outputs": [
    {
     "data": {
      "text/plain": [
       "array(['moscow', 'St. Petersburg', 'Moscow', 'Chelyabinsk', 'novosibirsk',\n",
       "       nan, '-', 'Novosibirsk', ' '], dtype=object)"
      ]
     },
     "execution_count": 8,
     "metadata": {},
     "output_type": "execute_result"
    }
   ],
   "source": [
    "data.cat16_city.unique()"
   ]
  },
  {
   "cell_type": "code",
   "execution_count": 9,
   "metadata": {},
   "outputs": [
    {
     "data": {
      "text/plain": [
       "array(['Moscow', 'St. Petersburg', 'Chelyabinsk', 'Novosibirsk', None],\n",
       "      dtype=object)"
      ]
     },
     "execution_count": 9,
     "metadata": {},
     "output_type": "execute_result"
    }
   ],
   "source": [
    "data['cat16_city'] = data['cat16_city'].replace(\n",
    "    {'moscow': 'Moscow', \n",
    "     'novosibirsk': 'Novosibirsk', \n",
    "     '-': None, \n",
    "     ' ': None,\n",
    "     np.nan: None}\n",
    ")\n",
    "data.cat16_city.unique()"
   ]
  },
  {
   "cell_type": "code",
   "execution_count": 10,
   "metadata": {},
   "outputs": [
    {
     "data": {
      "text/html": [
       "<div>\n",
       "<style scoped>\n",
       "    .dataframe tbody tr th:only-of-type {\n",
       "        vertical-align: middle;\n",
       "    }\n",
       "\n",
       "    .dataframe tbody tr th {\n",
       "        vertical-align: top;\n",
       "    }\n",
       "\n",
       "    .dataframe thead th {\n",
       "        text-align: right;\n",
       "    }\n",
       "</style>\n",
       "<table border=\"1\" class=\"dataframe\">\n",
       "  <thead>\n",
       "    <tr style=\"text-align: right;\">\n",
       "      <th></th>\n",
       "      <th>cat11_nationality</th>\n",
       "      <th>cat16_city</th>\n",
       "      <th>num1_5</th>\n",
       "      <th>num2_5</th>\n",
       "      <th>num3_5</th>\n",
       "    </tr>\n",
       "  </thead>\n",
       "  <tbody>\n",
       "    <tr>\n",
       "      <th>0</th>\n",
       "      <td>German</td>\n",
       "      <td>Moscow</td>\n",
       "      <td>200.404132</td>\n",
       "      <td>374.849841</td>\n",
       "      <td>537.784087</td>\n",
       "    </tr>\n",
       "    <tr>\n",
       "      <th>1</th>\n",
       "      <td>German</td>\n",
       "      <td>St. Petersburg</td>\n",
       "      <td>236.691176</td>\n",
       "      <td>757.925894</td>\n",
       "      <td>525.436417</td>\n",
       "    </tr>\n",
       "    <tr>\n",
       "      <th>2</th>\n",
       "      <td>German</td>\n",
       "      <td>St. Petersburg</td>\n",
       "      <td>-26.114921</td>\n",
       "      <td>556.885394</td>\n",
       "      <td>572.672166</td>\n",
       "    </tr>\n",
       "    <tr>\n",
       "      <th>3</th>\n",
       "      <td>German</td>\n",
       "      <td>Moscow</td>\n",
       "      <td>-82.764817</td>\n",
       "      <td>915.702660</td>\n",
       "      <td>570.468156</td>\n",
       "    </tr>\n",
       "    <tr>\n",
       "      <th>4</th>\n",
       "      <td>German</td>\n",
       "      <td>Chelyabinsk</td>\n",
       "      <td>389.350889</td>\n",
       "      <td>595.813259</td>\n",
       "      <td>457.299999</td>\n",
       "    </tr>\n",
       "    <tr>\n",
       "      <th>...</th>\n",
       "      <td>...</td>\n",
       "      <td>...</td>\n",
       "      <td>...</td>\n",
       "      <td>...</td>\n",
       "      <td>...</td>\n",
       "    </tr>\n",
       "    <tr>\n",
       "      <th>995</th>\n",
       "      <td>French</td>\n",
       "      <td>Moscow</td>\n",
       "      <td>1120.816296</td>\n",
       "      <td>652.583299</td>\n",
       "      <td>NaN</td>\n",
       "    </tr>\n",
       "    <tr>\n",
       "      <th>996</th>\n",
       "      <td>German</td>\n",
       "      <td>Novosibirsk</td>\n",
       "      <td>-293.568986</td>\n",
       "      <td>334.198157</td>\n",
       "      <td>455.503513</td>\n",
       "    </tr>\n",
       "    <tr>\n",
       "      <th>997</th>\n",
       "      <td>German</td>\n",
       "      <td>Novosibirsk</td>\n",
       "      <td>402.936795</td>\n",
       "      <td>-36.892527</td>\n",
       "      <td>509.947684</td>\n",
       "    </tr>\n",
       "    <tr>\n",
       "      <th>998</th>\n",
       "      <td>German</td>\n",
       "      <td>Novosibirsk</td>\n",
       "      <td>-157.655030</td>\n",
       "      <td>165.774970</td>\n",
       "      <td>455.301733</td>\n",
       "    </tr>\n",
       "    <tr>\n",
       "      <th>999</th>\n",
       "      <td>German</td>\n",
       "      <td>Moscow</td>\n",
       "      <td>977.483615</td>\n",
       "      <td>655.035162</td>\n",
       "      <td>510.341900</td>\n",
       "    </tr>\n",
       "  </tbody>\n",
       "</table>\n",
       "<p>1000 rows × 5 columns</p>\n",
       "</div>"
      ],
      "text/plain": [
       "    cat11_nationality      cat16_city       num1_5      num2_5      num3_5\n",
       "0              German          Moscow   200.404132  374.849841  537.784087\n",
       "1              German  St. Petersburg   236.691176  757.925894  525.436417\n",
       "2              German  St. Petersburg   -26.114921  556.885394  572.672166\n",
       "3              German          Moscow   -82.764817  915.702660  570.468156\n",
       "4              German     Chelyabinsk   389.350889  595.813259  457.299999\n",
       "..                ...             ...          ...         ...         ...\n",
       "995            French          Moscow  1120.816296  652.583299         NaN\n",
       "996            German     Novosibirsk  -293.568986  334.198157  455.503513\n",
       "997            German     Novosibirsk   402.936795  -36.892527  509.947684\n",
       "998            German     Novosibirsk  -157.655030  165.774970  455.301733\n",
       "999            German          Moscow   977.483615  655.035162  510.341900\n",
       "\n",
       "[1000 rows x 5 columns]"
      ]
     },
     "execution_count": 10,
     "metadata": {},
     "output_type": "execute_result"
    }
   ],
   "source": [
    "data['num3_5'] = data['num3_5'].replace(\n",
    "    {'-': np.nan,\n",
    "     ' ': np.nan}\n",
    ")\n",
    "data"
   ]
  },
  {
   "cell_type": "code",
   "execution_count": 11,
   "metadata": {},
   "outputs": [
    {
     "name": "stdout",
     "output_type": "stream",
     "text": [
      "<class 'pandas.core.frame.DataFrame'>\n",
      "RangeIndex: 1000 entries, 0 to 999\n",
      "Data columns (total 5 columns):\n",
      " #   Column             Non-Null Count  Dtype  \n",
      "---  ------             --------------  -----  \n",
      " 0   cat11_nationality  941 non-null    object \n",
      " 1   cat16_city         942 non-null    object \n",
      " 2   num1_5             1000 non-null   float64\n",
      " 3   num2_5             951 non-null    float64\n",
      " 4   num3_5             912 non-null    float64\n",
      "dtypes: float64(3), object(2)\n",
      "memory usage: 39.2+ KB\n"
     ]
    }
   ],
   "source": [
    "copy_data = data.copy()\n",
    "data.info()"
   ]
  },
  {
   "cell_type": "markdown",
   "metadata": {},
   "source": [
    "## Визуальный анализ данных\n",
    "\n",
    "Для качественных данных строятся столбчатая и круговая диаграммы.\n",
    "Для количественных данных строятся гистограмма, оценка плотности распределения и диаграмма \"ящик с усами\"."
   ]
  },
  {
   "cell_type": "code",
   "execution_count": 12,
   "metadata": {},
   "outputs": [],
   "source": [
    "# Названия столбцов по их типам\n",
    "quantitative_columns = [*data.columns[(data.dtypes.values == np.dtype('float64'))]]\n",
    "categorical_columns = [*data.columns[(data.dtypes.values != np.dtype('float64'))]]"
   ]
  },
  {
   "cell_type": "markdown",
   "metadata": {},
   "source": [
    "### Категориальные признаки"
   ]
  },
  {
   "cell_type": "code",
   "execution_count": 13,
   "metadata": {},
   "outputs": [
    {
     "data": {
      "image/png": "[encoded data removed]",
      "text/plain": [
       "<Figure size 432x288 with 1 Axes>"
      ]
     },
     "metadata": {
      "needs_background": "light"
     },
     "output_type": "display_data"
    },
    {
     "data": {
      "image/png": "[encoded data removed]",
      "text/plain": [
       "<Figure size 432x288 with 1 Axes>"
      ]
     },
     "metadata": {},
     "output_type": "display_data"
    },
    {
     "data": {
      "image/png": "[encoded data removed]",
      "text/plain": [
       "<Figure size 432x288 with 1 Axes>"
      ]
     },
     "metadata": {
      "needs_background": "light"
     },
     "output_type": "display_data"
    },
    {
     "data": {
      "image/png": "[encoded data removed]",
      "text/plain": [
       "<Figure size 432x288 with 1 Axes>"
      ]
     },
     "metadata": {},
     "output_type": "display_data"
    }
   ],
   "source": [
    "for column in categorical_columns:\n",
    "    # Столбчатая диаграмма\n",
    "    counts = Counter(data[column].dropna())\n",
    "    plt.bar(counts.keys(), counts.values())\n",
    "    plt.title(f'Распределение {column} в наборе данных')\n",
    "    plt.xlabel(column)\n",
    "    plt.ylabel('Количество человек')\n",
    "    plt.show()\n",
    "    \n",
    "    # Круговая диаграмма\n",
    "    plt.pie(counts.values(), labels=counts.keys(), autopct='%1.0f%%')\n",
    "    plt.title(f'Распределение {column} в наборе данных')\n",
    "    plt.show()"
   ]
  },
  {
   "cell_type": "markdown",
   "metadata": {},
   "source": [
    "### Количественные признаки"
   ]
  },
  {
   "cell_type": "code",
   "execution_count": 14,
   "metadata": {},
   "outputs": [
    {
     "data": {
      "image/png": "[encoded data removed]",
      "text/plain": [
       "<Figure size 288x288 with 1 Axes>"
      ]
     },
     "metadata": {
      "needs_background": "light"
     },
     "output_type": "display_data"
    },
    {
     "data": {
      "image/png": "[encoded data removed]",
      "text/plain": [
       "<Figure size 432x288 with 1 Axes>"
      ]
     },
     "metadata": {
      "needs_background": "light"
     },
     "output_type": "display_data"
    },
    {
     "data": {
      "image/png": "[encoded data removed]",
      "text/plain": [
       "<Figure size 288x288 with 1 Axes>"
      ]
     },
     "metadata": {
      "needs_background": "light"
     },
     "output_type": "display_data"
    },
    {
     "data": {
      "image/png": "[encoded data removed]",
      "text/plain": [
       "<Figure size 432x288 with 1 Axes>"
      ]
     },
     "metadata": {
      "needs_background": "light"
     },
     "output_type": "display_data"
    },
    {
     "data": {
      "image/png": "[encoded data removed]",
      "text/plain": [
       "<Figure size 288x288 with 1 Axes>"
      ]
     },
     "metadata": {
      "needs_background": "light"
     },
     "output_type": "display_data"
    },
    {
     "data": {
      "image/png": "[encoded data removed]",
      "text/plain": [
       "<Figure size 432x288 with 1 Axes>"
      ]
     },
     "metadata": {
      "needs_background": "light"
     },
     "output_type": "display_data"
    }
   ],
   "source": [
    "for column in quantitative_columns:\n",
    "    # Гистограмма + kde\n",
    "    sns.displot(data[column], kde=True, height=4)\n",
    "    plt.title(f'Гистограмма {column} признака')\n",
    "    plt.xlabel('Значения')\n",
    "    plt.ylabel('Количество')\n",
    "    plt.show()\n",
    "    # Ящик с усами\n",
    "    sns.boxplot(data=data[column])\n",
    "    plt.title(f'Ящик с усами для {column} признака')\n",
    "    plt.ylabel('Количество')\n",
    "    plt.show()"
   ]
  },
  {
   "cell_type": "markdown",
   "metadata": {},
   "source": [
    "## Поиск аномальных значений"
   ]
  },
  {
   "cell_type": "code",
   "execution_count": 15,
   "metadata": {},
   "outputs": [
    {
     "name": "stdout",
     "output_type": "stream",
     "text": [
      "<class 'pandas.core.frame.DataFrame'>\n",
      "Int64Index: 937 entries, 0 to 999\n",
      "Data columns (total 5 columns):\n",
      " #   Column             Non-Null Count  Dtype  \n",
      "---  ------             --------------  -----  \n",
      " 0   cat11_nationality  884 non-null    object \n",
      " 1   cat16_city         884 non-null    object \n",
      " 2   num1_5             937 non-null    float64\n",
      " 3   num2_5             889 non-null    float64\n",
      " 4   num3_5             859 non-null    float64\n",
      "dtypes: float64(3), object(2)\n",
      "memory usage: 43.9+ KB\n"
     ]
    },
    {
     "name": "stderr",
     "output_type": "stream",
     "text": [
      "C:\\Users\\panke\\anaconda3\\lib\\site-packages\\numpy\\core\\_methods.py:233: RuntimeWarning: Degrees of freedom <= 0 for slice\n",
      "  ret = _var(a, axis=axis, dtype=dtype, out=out, ddof=ddof,\n",
      "C:\\Users\\panke\\anaconda3\\lib\\site-packages\\numpy\\core\\_methods.py:194: RuntimeWarning: invalid value encountered in true_divide\n",
      "  arrmean = um.true_divide(\n",
      "C:\\Users\\panke\\anaconda3\\lib\\site-packages\\numpy\\core\\_methods.py:226: RuntimeWarning: invalid value encountered in double_scalars\n",
      "  ret = ret.dtype.type(ret / rcount)\n",
      "C:\\Users\\panke\\anaconda3\\lib\\site-packages\\scipy\\stats\\stats.py:3218: RuntimeWarning: Mean of empty slice.\n",
      "  c_mean = c.mean()\n",
      "C:\\Users\\panke\\anaconda3\\lib\\site-packages\\numpy\\core\\_methods.py:170: RuntimeWarning: invalid value encountered in double_scalars\n",
      "  ret = ret.dtype.type(ret / rcount)\n"
     ]
    }
   ],
   "source": [
    "# Метод квартилей\n",
    "def quartile_method(dataset, low=0.05, high=0.95):\n",
    "    columns = [*dataset.columns[(dataset.dtypes.values == np.dtype('float64'))]]\n",
    "    q1 = dataset[columns].quantile(low)\n",
    "    q3 = dataset[columns].quantile(high)\n",
    "    iqr = q3 - q1\n",
    "    filtered_dataset = dataset[~((dataset[columns] < (q1 - 1.5 * iqr)) |\n",
    "                                 (dataset[columns] > (q3 + 1.5 * iqr))).any(axis=1)]\n",
    "    abnormal_data = dataset[((dataset[columns] < (q1 - 1.5 * iqr)) | \n",
    "                              (dataset[columns] > (q3 + 1.5 * iqr))).any(axis=1)]\n",
    "    return filtered_dataset, abnormal_data\n",
    "\n",
    "# Метод сигм\n",
    "def sigm_method(dataset, sigma=3.0):\n",
    "    columns = [*dataset.columns[(dataset.dtypes.values == np.dtype('float64'))]]\n",
    "    for column in columns:\n",
    "        _, lower, upper = scipy.stats.sigmaclip(dataset[column], sigma, sigma)\n",
    "        if any([np.isnan(lower), np.isnan(upper)]):\n",
    "            continue\n",
    "        dataset = dataset[(dataset[column] > lower) & (dataset[column] < upper)]\n",
    "    return dataset    \n",
    "    \n",
    "data = sigm_method(data)\n",
    "data.info()"
   ]
  },
  {
   "cell_type": "markdown",
   "metadata": {},
   "source": [
    "## Преобразование данных"
   ]
  },
  {
   "cell_type": "code",
   "execution_count": 16,
   "metadata": {},
   "outputs": [
    {
     "name": "stderr",
     "output_type": "stream",
     "text": [
      "C:\\Users\\panke\\anaconda3\\lib\\site-packages\\pandas\\core\\indexing.py:659: SettingWithCopyWarning: \n",
      "A value is trying to be set on a copy of a slice from a DataFrame.\n",
      "Try using .loc[row_indexer,col_indexer] = value instead\n",
      "\n",
      "See the caveats in the documentation: https://pandas.pydata.org/pandas-docs/stable/user_guide/indexing.html#returning-a-view-versus-a-copy\n",
      "  self.obj[k] = np.nan\n",
      "<ipython-input-16-f080d1b1f7ff>:3: SettingWithCopyWarning: \n",
      "A value is trying to be set on a copy of a slice from a DataFrame.\n",
      "Try using .loc[row_indexer,col_indexer] = value instead\n",
      "\n",
      "See the caveats in the documentation: https://pandas.pydata.org/pandas-docs/stable/user_guide/indexing.html#returning-a-view-versus-a-copy\n",
      "  data[[column + \"_scaled\" for column in quantitative_columns]] = scaled_values\n",
      "C:\\Users\\panke\\anaconda3\\lib\\site-packages\\pandas\\core\\indexing.py:1736: SettingWithCopyWarning: \n",
      "A value is trying to be set on a copy of a slice from a DataFrame.\n",
      "Try using .loc[row_indexer,col_indexer] = value instead\n",
      "\n",
      "See the caveats in the documentation: https://pandas.pydata.org/pandas-docs/stable/user_guide/indexing.html#returning-a-view-versus-a-copy\n",
      "  isetter(loc, value[:, i].tolist())\n"
     ]
    },
    {
     "data": {
      "text/plain": [
       "array([-1.21572864e-01, -6.63251247e-02, -4.66452580e-01, -5.52703162e-01,\n",
       "        1.66102294e-01,  6.03467270e-01, -7.96979780e-01, -2.19510865e+00,\n",
       "        5.65761314e-03,  1.85451523e+00, -4.13571583e-01,  7.09783814e-01,\n",
       "       -8.08742970e-01, -4.02033192e-01, -7.73034133e-01,  6.38704198e-01,\n",
       "        5.40722541e-01,  1.37527069e+00,  3.20735654e-01,  7.70506828e-01,\n",
       "        1.06190080e+00, -1.44030399e+00,  2.31175685e-01,  1.85146060e+00,\n",
       "       -4.50104108e-01, -1.33925761e+00,  2.17505801e-01, -3.65357977e-01,\n",
       "        6.57507716e-01,  1.52853611e+00, -3.91763403e-01,  1.00876648e+00,\n",
       "       -8.60660020e-01,  2.50460108e-02,  1.88036379e+00,  3.07047187e-01,\n",
       "        1.09744231e+00, -2.73380459e-01,  8.69739549e-01,  3.37752015e-01,\n",
       "        1.22570265e+00,  1.65091174e+00,  1.37185831e+00,  6.72943824e-01,\n",
       "        1.90299273e+00, -1.18124039e-01,  1.18801434e+00,  1.88491068e+00,\n",
       "       -9.22941792e-01, -1.17037449e+00, -1.33308171e-01, -5.62529050e-01,\n",
       "        7.53946307e-01,  2.03714722e+00, -5.45136114e-02,  1.08799176e+00,\n",
       "       -3.16882968e-01,  1.71099818e+00,  5.97660096e-01, -1.32172834e+00,\n",
       "        2.27994422e-01,  1.94865444e+00, -1.09916964e+00, -9.71446581e-01,\n",
       "        2.21155459e-01,  1.05779723e+00, -4.05823097e-01,  1.52449200e+00,\n",
       "       -1.19909304e+00, -1.01627493e+00, -1.05017582e+00, -3.89800151e-01,\n",
       "        3.22516876e-01,  1.76011691e-01,  1.25211445e+00,  8.94878410e-01,\n",
       "       -2.96630661e-01,  1.73047091e-01, -1.16344371e+00,  1.49612657e-01,\n",
       "        9.79250987e-01, -1.00627315e+00,  3.93733738e-01, -1.33903170e+00,\n",
       "        3.02981729e-01,  1.42307303e+00,  1.29604718e-01,  1.31459350e+00,\n",
       "        1.85758071e-01,  1.62216927e+00,  6.51662875e-02,  4.37319871e-01,\n",
       "       -3.62680591e-01, -3.41056729e-01,  4.59238439e-01, -2.28907430e-01,\n",
       "       -3.95342286e-02,  6.75904265e-01,  8.21319010e-01,  5.55496401e-01,\n",
       "        9.65595417e-01,  9.29497959e-01, -2.30192322e-01,  2.54248184e+00,\n",
       "        5.90593042e-01,  1.67885085e+00,  1.78749248e+00, -1.07315191e+00,\n",
       "       -1.19527674e+00,  4.80693253e-03,  3.05964112e-01,  2.67921838e-01,\n",
       "        2.23565976e-01,  4.62538375e-01, -2.36641184e+00, -6.76660010e-01,\n",
       "        5.52042993e-01, -1.00267642e+00, -1.27965134e-01,  5.72041316e-01,\n",
       "       -1.85121715e+00, -9.39873013e-01,  1.45348074e+00, -1.25900843e+00,\n",
       "        1.19287018e+00, -2.31070621e-01, -7.03675551e-02, -1.59628478e-01,\n",
       "       -1.04377293e+00,  7.84704880e-01, -5.75021065e-01, -5.76356290e-01,\n",
       "       -2.52456318e+00, -1.03872859e+00,  7.80034483e-01, -2.77281932e-01,\n",
       "       -9.81712946e-01,  9.49975736e-02,  1.22156173e+00,  9.98328467e-01,\n",
       "        1.79769959e+00,  1.61376346e+00, -1.03873217e+00,  1.65923130e+00,\n",
       "        1.68502656e+00, -7.47649123e-01,  3.55339882e-01, -1.32236374e-02,\n",
       "        3.09378365e-01, -6.64406375e-01, -8.16400678e-01,  6.35528626e-01,\n",
       "       -9.93558048e-01,  1.77384643e+00, -9.49870372e-01, -9.27909416e-02,\n",
       "       -5.79193288e-01, -6.15698842e-01, -3.92796311e-01, -2.59430758e-01,\n",
       "       -2.75361633e-01,  2.11490993e+00,  1.17161896e+00, -1.38330622e+00,\n",
       "       -4.73185001e-01, -7.73432732e-01,  3.97808821e-01,  1.55158487e-01,\n",
       "        1.51265013e+00, -9.89529860e-01, -4.55928495e-02,  1.35049402e+00,\n",
       "       -1.57034929e+00,  7.62405193e-01,  5.19797807e-01, -5.46423016e-01,\n",
       "        1.23663605e+00, -4.27996174e-01, -1.47913893e+00, -1.73117886e+00,\n",
       "        2.98872621e-01, -6.16559785e-01, -4.13411662e-02,  4.69357427e-03,\n",
       "       -1.33209893e-01, -9.21740438e-01,  1.08963078e+00, -1.68647633e+00,\n",
       "       -2.66083323e-01, -1.00809154e+00,  1.07786687e+00,  7.60676354e-01,\n",
       "       -3.57853112e-01,  1.83830232e+00,  1.31620452e+00, -6.42492166e-01,\n",
       "       -8.89251909e-01, -1.06573961e+00, -6.66070574e-01,  5.70577218e-02,\n",
       "       -3.21355404e-01,  8.28862109e-01, -1.48953053e+00,  8.87491261e-01,\n",
       "       -8.24812289e-01, -1.42286484e+00, -2.08341049e+00,  1.26436244e+00,\n",
       "       -1.34843474e+00,  1.05662373e+00, -2.50656731e+00,  2.58851456e-01,\n",
       "       -1.30955419e+00, -2.02536530e-01, -1.09640339e-01, -8.17564905e-01,\n",
       "       -4.10310416e-01,  2.89646547e-02,  9.59444097e-01,  4.82737447e-01,\n",
       "        4.76999597e-01,  3.82811773e-01,  1.79850474e+00,  4.21967014e-02,\n",
       "        1.83901292e-01,  1.55051847e-01, -7.72589671e-01, -1.22779349e+00,\n",
       "        3.80885917e-01,  1.91517200e+00, -2.72942991e-01,  2.23395081e+00,\n",
       "       -6.57648037e-01, -1.40560645e-01, -5.75528590e-01,  9.49278592e-01,\n",
       "       -1.16972241e+00,  3.24593059e-01,  1.20144005e+00, -2.35103459e+00,\n",
       "        2.26197603e+00,  7.22434739e-01,  6.67598587e-01, -1.29483678e+00,\n",
       "        1.99171410e-01,  7.31151632e-01,  5.22523089e-01, -6.74561024e-01,\n",
       "       -8.14012437e-01,  9.69219358e-01, -6.10291228e-01, -5.72211066e-02,\n",
       "        1.38655207e-01,  1.64837703e-02, -2.79094748e+00, -5.76764328e-01,\n",
       "       -1.31994466e-01,  6.44814101e-01,  1.21820202e+00, -7.30121589e-02,\n",
       "        2.75356098e-01,  8.35625877e-01,  9.44865089e-01,  3.45436803e-01,\n",
       "       -6.80115299e-01,  8.63121119e-01,  6.72210179e-01, -6.77603546e-02,\n",
       "        6.75332813e-01,  1.91199823e-01, -5.79315663e-01,  1.83583715e+00,\n",
       "        5.64110341e-01, -8.91089895e-01,  1.76514270e+00,  1.64986829e+00,\n",
       "        1.14283393e+00,  3.48836584e-01, -6.97138339e-01,  7.68999799e-01,\n",
       "        4.07614526e-01, -4.11879293e-01,  1.73622551e+00, -5.45212964e-01,\n",
       "        2.16583200e-01, -1.33780680e-01, -1.44668026e-01, -1.34866968e+00,\n",
       "        2.47641347e-01,  5.44429345e-01, -1.17082829e+00, -1.05910340e-01,\n",
       "       -1.27274717e+00,  1.25359087e-01, -1.74539411e+00, -3.53604156e-02,\n",
       "        3.85770946e-01, -5.67784751e-01, -1.74844069e-01,  5.20969164e-01,\n",
       "       -8.09323978e-01,  8.27549155e-01, -2.48982781e+00,  1.09026689e-02,\n",
       "        5.14453178e-01, -3.86412641e-02, -1.39526949e+00, -1.55630074e-01,\n",
       "       -9.39645957e-01, -9.79579472e-01,  2.94422960e-03, -3.09760884e-01,\n",
       "       -1.35920982e+00,  9.54398985e-01,  8.05033134e-01, -1.50468082e+00,\n",
       "        1.25378956e-01,  8.13139441e-01, -1.97354322e-01, -9.46888256e-01,\n",
       "       -9.94468236e-01,  8.33611757e-01, -3.75235272e-01,  1.59476682e+00,\n",
       "       -5.90723378e-01,  1.91292973e+00,  6.73209769e-01, -1.74441233e+00,\n",
       "        5.82392105e-01,  2.34347956e+00,  8.85528038e-01, -3.61617338e-01,\n",
       "       -6.40082376e-01,  7.03252703e-02, -1.97402107e+00,  2.13092731e-01,\n",
       "        1.41616317e+00, -7.25165317e-01,  1.11034517e+00,  1.45646020e+00,\n",
       "       -2.31868321e-01, -1.08896227e+00,  1.06155760e+00, -4.28276089e-01,\n",
       "        2.24875462e+00, -2.49913587e-01,  2.77445018e-01,  3.76084664e-01,\n",
       "        1.31894053e+00,  2.95376652e-01, -2.75741138e-02, -1.18101170e+00,\n",
       "        1.00868145e-01, -5.07590302e-01,  9.37241851e-01, -7.82441262e-01,\n",
       "       -1.01867785e+00, -1.29879155e-01, -6.20955466e-01,  7.64691188e-01,\n",
       "       -1.01770325e-01,  1.47650069e-02, -8.96087648e-01,  3.29540315e-02,\n",
       "        1.47105196e+00, -1.04821487e+00, -9.50111487e-01, -1.54409508e+00,\n",
       "       -3.89964716e-01, -1.40002866e+00, -2.52164593e-01, -4.22703654e-01,\n",
       "       -1.40664176e+00, -4.88337632e-01,  4.16681852e-01, -3.32083687e-01,\n",
       "        1.81572168e+00,  8.62348333e-01, -1.67813095e+00, -1.82493498e+00,\n",
       "       -5.37384541e-01, -4.55631373e-01, -1.01849451e+00,  5.81390391e-01,\n",
       "       -6.95178361e-01, -1.82199325e+00,  1.47495257e+00, -1.26528165e+00,\n",
       "       -8.04313816e-01,  7.12718066e-01, -1.00262194e+00,  4.52011767e-01,\n",
       "       -1.94390263e-01, -3.58813298e-01, -1.40083994e+00, -8.61688222e-01,\n",
       "       -7.98252626e-01,  5.64150514e-01,  5.44472185e-02,  4.76358126e-01,\n",
       "       -1.55712978e+00, -1.87248726e+00,  1.27566170e+00,  1.84909884e-01,\n",
       "       -1.11863898e-01,  1.73278478e+00, -7.23662137e-02,  1.86220855e+00,\n",
       "        1.38948030e+00, -1.61249961e+00,  1.58589879e+00,  2.09113324e+00,\n",
       "       -1.02951722e+00, -1.88348453e-01, -7.81671296e-01,  4.73553443e-01,\n",
       "       -9.36709571e-01,  7.27794957e-01, -5.68372016e-01,  7.96207288e-02,\n",
       "       -8.96003498e-01, -8.16759313e-04,  2.51396037e-01,  3.99018057e-01,\n",
       "        1.97354517e+00, -1.65700561e+00, -8.92110952e-01,  8.23624953e-01,\n",
       "       -1.51392054e-01,  8.08399909e-02,  1.00636180e+00,  3.56900332e-01,\n",
       "        4.02375883e-01,  5.88638896e-01,  1.09730834e+00, -3.62474455e-01,\n",
       "        3.58647325e-01,  1.02059559e+00, -4.19227715e-01, -6.71337673e-01,\n",
       "        1.75402794e-01, -9.31021121e-01, -6.64750255e-01, -7.14928983e-01,\n",
       "        2.05102451e+00,  1.34754642e-02,  7.98501741e-03, -9.38133892e-01,\n",
       "       -1.79807233e+00,  7.45608432e-01,  9.74774079e-01,  1.91574324e+00,\n",
       "       -1.97545710e-01,  6.50238684e-01,  1.23296442e+00, -2.13833269e+00,\n",
       "       -6.13783486e-01,  2.58524944e-01, -7.13036563e-02, -1.88316987e-01,\n",
       "        8.45262396e-01,  1.11277422e+00, -6.08094196e-01, -9.64955707e-01,\n",
       "       -9.00476673e-02, -1.51816962e+00,  4.26437162e-02, -1.90605576e+00,\n",
       "        1.71191675e+00, -5.59933046e-01, -2.44032685e-01, -1.35468173e-01,\n",
       "        1.46340021e-01,  1.74480311e+00,  2.10823693e-01, -8.47052992e-02,\n",
       "        9.87936378e-01, -6.33563220e-01,  4.09781906e-02, -1.20374045e+00,\n",
       "        5.75071444e-01,  1.81097292e+00, -3.30436755e-01,  9.60872307e-01,\n",
       "        4.57527068e-03, -1.47046888e+00,  6.71524662e-01, -6.18357253e-01,\n",
       "       -3.64405027e-01, -7.66053726e-01, -1.84511685e+00, -2.91654505e-01,\n",
       "        3.74511997e-01,  1.99861512e+00, -6.11177638e-01,  3.62790018e-02,\n",
       "       -1.05454210e+00, -4.52032639e-01,  1.98641012e-01,  2.12637524e+00,\n",
       "        2.72147246e-01, -1.34908006e+00,  8.54337944e-01,  2.08748272e-01,\n",
       "        1.64020737e-01, -6.10303423e-01, -7.79204789e-01, -4.43028036e-01,\n",
       "       -1.06916869e+00, -7.85237326e-01, -5.44816945e-01,  1.97681979e+00,\n",
       "        6.99140044e-01, -1.66371329e-01,  1.36469494e-01, -8.24413794e-01,\n",
       "        4.95359442e-01,  1.11420494e+00,  7.60666010e-02,  1.45391223e+00,\n",
       "       -3.20339676e-02, -1.29386906e+00,  6.24852453e-01,  1.14369819e+00,\n",
       "       -1.44370345e+00,  3.77369195e-01, -5.85338818e-01, -2.68554132e-01,\n",
       "       -7.46233828e-02, -7.09111310e-02,  1.89533517e-01,  7.25219299e-01,\n",
       "        2.92029192e+00,  9.17860298e-01, -2.06285041e+00, -8.47159696e-03,\n",
       "        8.84295129e-01,  1.58644232e+00, -4.65035870e-01, -6.09608088e-01,\n",
       "        3.72407207e-01, -5.20885493e-01, -6.38315962e-01, -1.11444101e+00,\n",
       "        3.87640034e-01,  1.58961304e-01, -2.87716724e-01, -1.90957674e-01,\n",
       "       -3.13943273e-01, -3.52123224e-01,  4.70332396e-01, -2.05320931e-02,\n",
       "       -3.16566645e-01,  8.34284255e-01, -2.17163289e+00,  1.29642396e+00,\n",
       "       -1.53042878e+00,  1.51440304e+00,  6.96288444e-01,  1.07620703e+00,\n",
       "        6.45878681e-02, -8.16505036e-01,  4.41926988e-01, -1.14267303e-01,\n",
       "       -4.83542968e-02, -4.51319190e-01,  4.04769010e-02, -1.06373736e+00,\n",
       "        1.54613432e+00, -3.49185031e-02, -8.98888043e-02,  1.81631207e+00,\n",
       "       -4.50190807e-01,  2.49066959e-01,  1.66096514e-01, -2.13043989e+00,\n",
       "       -1.10114094e+00,  5.30454237e-01, -1.56743667e+00, -7.83325491e-01,\n",
       "        5.14526930e-01, -1.28499624e+00, -7.03827724e-01, -1.40164593e+00,\n",
       "        1.36468601e-02, -5.67663033e-02, -1.07127407e+00,  3.19429531e-01,\n",
       "       -1.05085548e+00, -1.81408129e-01,  1.08373776e+00, -4.96117645e-02,\n",
       "        6.79632989e-01,  1.22620489e+00,  4.49804495e-01,  9.37498525e-01,\n",
       "       -1.30478972e+00,  3.19945013e-01,  2.84006244e-01, -1.05692368e+00,\n",
       "        1.07559854e+00,  5.74994143e-01,  9.28518058e-02,  5.17672599e-01,\n",
       "       -1.30689583e+00, -4.10118848e-01, -5.84691586e-02,  1.26870908e+00,\n",
       "        1.45408023e+00, -9.00581088e-01, -1.18848999e+00,  9.58539438e-01,\n",
       "       -1.90548879e+00,  2.10070332e-01, -2.31690975e-01, -1.92712291e+00,\n",
       "        6.65605160e-01, -3.28873737e-01,  9.13043757e-01, -9.15837265e-02,\n",
       "       -5.02694739e-01,  1.53263492e-01, -1.85167841e+00,  1.95552686e+00,\n",
       "       -1.37208187e-01, -7.89939488e-01, -7.53610534e-01,  1.10219599e+00,\n",
       "        8.91520667e-01, -1.13125153e+00,  3.10077734e-01, -5.57049922e-02,\n",
       "        5.82147037e-01, -3.23287352e-01, -1.38771019e+00,  1.22579585e-01,\n",
       "       -8.50259574e-01,  1.66994995e+00, -4.34833970e-01,  1.13620817e-01,\n",
       "        1.90161186e+00, -1.55382422e+00, -1.10799086e+00, -1.22185108e+00,\n",
       "        1.71532119e+00, -6.04607533e-01, -2.06474148e+00,  3.35219799e-01,\n",
       "       -1.20591171e+00,  2.56520977e-01, -3.84305903e-01, -1.54121329e+00,\n",
       "       -1.01470767e+00,  1.95446224e-01, -1.95173753e-01,  6.57178370e-01,\n",
       "        4.52275929e-02,  6.98016993e-01, -1.05355320e+00, -3.15815457e-01,\n",
       "       -1.51808899e+00,  9.50490776e-02,  1.42058309e+00, -3.50914328e-01,\n",
       "       -2.94183861e-01, -3.84054684e-01, -4.63697587e-01,  3.54117212e-01,\n",
       "       -5.27702821e-01, -1.65708648e+00,  1.45337034e+00, -2.12805920e+00,\n",
       "        2.44742343e+00, -1.13837496e-01,  1.05118325e-01,  1.82885947e+00,\n",
       "       -9.46659701e-01,  1.38501054e+00,  2.47876030e-01, -3.07664389e-01,\n",
       "       -4.58806254e-01, -7.86944047e-01, -1.08447542e+00,  1.69276083e+00,\n",
       "       -8.64783998e-01,  2.42167647e-01,  3.27282997e-01, -1.51687147e+00,\n",
       "       -5.72682874e-01, -9.61122400e-01,  5.42009633e-01, -5.42170343e-01,\n",
       "       -1.07150088e+00, -3.32491319e-01,  1.69221942e-02,  5.13548608e-01,\n",
       "        5.89141022e-01, -1.22397363e+00, -6.15510397e-01,  2.62772502e-01,\n",
       "       -7.67907635e-01, -3.40414474e-01,  1.77941564e+00, -1.76350334e+00,\n",
       "       -3.85830015e-01, -2.21554660e+00, -1.77777871e+00, -1.85655685e+00,\n",
       "        2.93526550e-01,  1.08778848e+00,  4.30145390e-01,  5.09411711e-01,\n",
       "        1.46314249e-01,  9.51877024e-01,  4.96275983e-01, -4.73883468e-01,\n",
       "       -3.49626350e-01,  7.30211757e-01, -1.00980916e-01,  1.79546717e+00,\n",
       "       -5.44200886e-01,  1.42111624e+00,  7.39417587e-02,  3.39948822e-01,\n",
       "       -1.69373849e+00,  7.27980739e-01,  2.02963748e-01, -7.55716995e-01,\n",
       "       -1.29802517e+00, -5.33381180e-01, -1.38326553e+00,  7.87868265e-01,\n",
       "        5.50242789e-01, -5.83573755e-01,  1.84923465e+00,  3.02292705e-01,\n",
       "        1.52244458e+00, -4.79436875e-01,  3.92706316e-01, -6.40757954e-01,\n",
       "       -1.79855501e+00, -2.83186058e-01,  4.05989187e-01,  3.18318005e-01,\n",
       "        6.84025296e-01,  4.19707626e-01, -6.21516128e-01,  4.82991054e-01,\n",
       "       -8.89626093e-01,  1.38192003e-01,  1.99346440e+00, -1.26997002e+00,\n",
       "        3.68789845e-01,  7.22482316e-01,  8.24960669e-01, -1.39983299e-01,\n",
       "       -6.79654800e-01, -4.68589323e-01, -1.29097324e+00,  2.48880745e-01,\n",
       "        1.72083741e+00, -1.65263759e-01, -2.01793665e-01, -6.24576148e-01,\n",
       "       -2.08737292e+00, -1.44256299e+00,  1.00578678e+00,  8.67995985e-01,\n",
       "        9.97701021e-01, -2.81015121e-01, -1.37757483e-01, -6.39897424e-01,\n",
       "       -8.73460240e-01, -6.76026629e-01,  2.55064616e-01, -8.18016661e-01,\n",
       "        1.56363800e+00,  1.61929511e-01, -1.58373085e+00, -2.33268106e-02,\n",
       "        4.47642060e-01,  4.74775808e-01,  3.12649493e-01, -9.19665707e-01,\n",
       "       -1.71584284e+00, -1.11043274e-01,  4.15314812e-01,  1.05309226e+00,\n",
       "        1.24241193e+00, -7.07457407e-02,  7.21411340e-01,  1.60477101e+00,\n",
       "        4.11617716e-02, -3.05525337e-01, -1.03313075e-01,  1.27173596e+00,\n",
       "       -5.68188888e-01, -5.47585090e-01,  9.78744508e-01, -7.00805231e-01,\n",
       "       -6.94301797e-01,  9.25716980e-01,  1.05868059e+00,  7.72614257e-02,\n",
       "        1.25126664e+00,  1.52627929e-01,  7.87678710e-01,  5.82356218e-01,\n",
       "       -1.13896866e+00, -2.10653035e-01,  5.93454708e-01,  1.36127588e-02,\n",
       "        3.06728603e-01,  2.15393411e+00,  5.01295378e-01,  4.87780478e-01,\n",
       "        9.78306569e-01,  1.17387456e+00, -2.30544538e+00, -4.60483479e-01,\n",
       "       -9.82793177e-01, -6.40035755e-01, -1.97433296e-01,  5.41164380e-01,\n",
       "       -1.66005509e+00,  6.84867420e-02,  1.73696185e+00, -6.32929333e-01,\n",
       "        2.88327697e+00,  4.56229380e-01, -8.31661904e-01,  6.80364453e-01,\n",
       "       -1.21877872e+00, -1.32644078e+00, -3.64782063e-01,  1.26312569e+00,\n",
       "       -1.25500414e+00,  8.40538674e-01, -4.46829812e-01, -1.57499582e-01,\n",
       "       -1.28838984e+00, -3.75823671e-02, -1.24267705e+00, -5.93251129e-01,\n",
       "       -7.16041144e-01,  1.01428109e+00, -1.04736748e+00, -1.00135111e+00,\n",
       "       -5.80053467e-01, -6.48502498e-01, -8.13064457e-01,  1.29871796e+00,\n",
       "       -1.58469748e+00,  5.36492375e-01, -1.53151407e+00, -3.76794286e-01,\n",
       "        8.51086709e-01, -2.27561214e+00, -1.55642008e+00,  9.64911398e-01,\n",
       "       -2.38728871e-01,  7.57497852e-01,  1.63939428e+00, -4.97455122e-01,\n",
       "       -8.37319067e-01,  9.95610963e-01, -1.57545204e+00, -1.10709279e+00,\n",
       "        1.35647971e+00, -2.22509057e-01,  1.44422964e+00,  1.96139307e+00,\n",
       "        1.15606962e-01,  8.72411627e-01, -9.57686761e-01,  1.07124902e+00,\n",
       "       -1.01489944e+00,  7.90404099e-01, -2.34552172e-01,  1.61750273e+00,\n",
       "       -1.58360477e+00,  4.78388641e-01,  3.14371355e-01,  6.35689904e-01,\n",
       "       -1.11616824e+00, -7.05123966e-01,  5.02798330e-02,  2.30861733e-01,\n",
       "       -6.82960620e-01,  1.03205525e+00,  1.69559646e+00,  6.40899398e-01,\n",
       "       -1.48472791e-01,  4.15806948e-03, -8.53912313e-02, -1.01189014e+00,\n",
       "        1.17654669e+00,  9.61224512e-01,  1.05259650e-01,  3.35094860e-01,\n",
       "       -6.36359044e-01,  1.56275481e+00, -1.34973011e+00, -4.53424023e-01,\n",
       "        1.46390552e+00,  6.34053360e-01, -8.63907132e-01,  1.29156615e+00,\n",
       "        1.49467054e-01,  3.98874116e-01,  2.47536082e-01,  4.81385704e-02,\n",
       "       -2.42385246e+00, -4.47198357e-01,  5.89818203e-01, -1.35424290e+00,\n",
       "       -1.42129992e+00, -4.99799242e-01,  6.69670990e-01, -1.63115351e+00,\n",
       "       -1.06373597e+00, -1.90371823e-01,  5.51101210e-01,  1.53032856e+00,\n",
       "        5.19888054e-01, -6.29437932e-01,  6.93045316e-01, -1.62453272e+00,\n",
       "        6.37292194e-01,  1.29834964e-01,  7.58493912e-01,  5.44511177e-01,\n",
       "        1.27977278e+00, -8.73656660e-01,  1.86787103e-01, -6.66724987e-01,\n",
       "        1.06154595e+00])"
      ]
     },
     "execution_count": 16,
     "metadata": {},
     "output_type": "execute_result"
    }
   ],
   "source": [
    "scaler = MinMaxScaler()\n",
    "scaled_values = scaler.fit_transform(data[quantitative_columns])\n",
    "data[[column + \"_scaled\" for column in quantitative_columns]] = scaled_values\n",
    "\n",
    "scale(data.num1_5)"
   ]
  },
  {
   "cell_type": "markdown",
   "metadata": {},
   "source": [
    "## Заполнение пропусков"
   ]
  },
  {
   "cell_type": "markdown",
   "metadata": {},
   "source": [
    "### Метод k ближайших соседей"
   ]
  },
  {
   "cell_type": "code",
   "execution_count": 17,
   "metadata": {},
   "outputs": [
    {
     "name": "stderr",
     "output_type": "stream",
     "text": [
      "<ipython-input-17-274489ad61c4>:3: SettingWithCopyWarning: \n",
      "A value is trying to be set on a copy of a slice from a DataFrame.\n",
      "Try using .loc[row_indexer,col_indexer] = value instead\n",
      "\n",
      "See the caveats in the documentation: https://pandas.pydata.org/pandas-docs/stable/user_guide/indexing.html#returning-a-view-versus-a-copy\n",
      "  data['cat11_nationality'] = data['cat11_nationality'].replace(np.nan, '')\n",
      "<ipython-input-17-274489ad61c4>:19: SettingWithCopyWarning: \n",
      "A value is trying to be set on a copy of a slice from a DataFrame.\n",
      "Try using .loc[row_indexer,col_indexer] = value instead\n",
      "\n",
      "See the caveats in the documentation: https://pandas.pydata.org/pandas-docs/stable/user_guide/indexing.html#returning-a-view-versus-a-copy\n",
      "  data['cat11_nationality'] = onehot_encoder.inverse_transform(enc_df.iloc[:, :4])\n"
     ]
    },
    {
     "data": {
      "image/png": "[encoded data removed]",
      "text/plain": [
       "<Figure size 432x288 with 1 Axes>"
      ]
     },
     "metadata": {
      "needs_background": "light"
     },
     "output_type": "display_data"
    }
   ],
   "source": [
    "# Onehot encoding\n",
    "onehot_encoder = OneHotEncoder(handle_unknown='ignore')\n",
    "data['cat11_nationality'] = data['cat11_nationality'].replace(np.nan, '')\n",
    "onehot_encoder.fit(data[['cat11_nationality']])\n",
    "enc_df = pd.DataFrame(onehot_encoder.transform(data[['cat11_nationality']]).toarray())\n",
    "enc_df[1] = np.where(enc_df[0] == 1, np.nan, enc_df[1])\n",
    "enc_df[2] = np.where(enc_df[0] == 1, np.nan, enc_df[2])\n",
    "enc_df[3] = np.where(enc_df[0] == 1, np.nan, enc_df[3])\n",
    "enc_df[4] = data.num1_5_scaled\n",
    "enc_df = enc_df.drop(columns=[0])\n",
    "\n",
    "knn_imputer = KNNImputer()\n",
    "enc_df = pd.DataFrame(knn_imputer.fit_transform(enc_df))\n",
    "\n",
    "max_value_index = enc_df.idxmax(axis = 1) \n",
    "enc_df[2] = np.where((enc_df[2] >= enc_df[0]) & (enc_df[2] >= enc_df[1]), 1, 0)\n",
    "enc_df[1] = np.where((enc_df[1] >= enc_df[0]) & (enc_df[1] >= enc_df[2]), 1, 0)\n",
    "enc_df[0] = np.where((enc_df[0] >= enc_df[1]) & (enc_df[0] >= enc_df[2]), 1, 0)\n",
    "data['cat11_nationality'] = onehot_encoder.inverse_transform(enc_df.iloc[:, :4])\n",
    "вф"
   ]
  },
  {
   "cell_type": "markdown",
   "metadata": {},
   "source": [
    "### Замена самым популярным значением"
   ]
  },
  {
   "cell_type": "code",
   "execution_count": 18,
   "metadata": {},
   "outputs": [
    {
     "name": "stderr",
     "output_type": "stream",
     "text": [
      "C:\\Users\\panke\\anaconda3\\lib\\site-packages\\pandas\\core\\generic.py:5168: SettingWithCopyWarning: \n",
      "A value is trying to be set on a copy of a slice from a DataFrame.\n",
      "Try using .loc[row_indexer,col_indexer] = value instead\n",
      "\n",
      "See the caveats in the documentation: https://pandas.pydata.org/pandas-docs/stable/user_guide/indexing.html#returning-a-view-versus-a-copy\n",
      "  self[name] = value\n"
     ]
    }
   ],
   "source": [
    "city_mode = data.cat16_city.mode()\n",
    "data.cat16_city = data.cat16_city.fillna(city_mode[0])"
   ]
  },
  {
   "cell_type": "markdown",
   "metadata": {},
   "source": [
    "### Замена средним значением"
   ]
  },
  {
   "cell_type": "code",
   "execution_count": 19,
   "metadata": {},
   "outputs": [
    {
     "name": "stderr",
     "output_type": "stream",
     "text": [
      "C:\\Users\\panke\\anaconda3\\lib\\site-packages\\pandas\\core\\series.py:4517: SettingWithCopyWarning: \n",
      "A value is trying to be set on a copy of a slice from a DataFrame\n",
      "\n",
      "See the caveats in the documentation: https://pandas.pydata.org/pandas-docs/stable/user_guide/indexing.html#returning-a-view-versus-a-copy\n",
      "  return super().fillna(\n"
     ]
    }
   ],
   "source": [
    "data['num1_5_scaled'].fillna(np.mean(data['num1_5_scaled'].dropna()), inplace=True)"
   ]
  },
  {
   "cell_type": "markdown",
   "metadata": {},
   "source": [
    "### Замена медианой"
   ]
  },
  {
   "cell_type": "code",
   "execution_count": 20,
   "metadata": {},
   "outputs": [],
   "source": [
    "data['num2_5_scaled'].fillna(np.median(data['num2_5_scaled'].dropna()), inplace=True)"
   ]
  },
  {
   "cell_type": "markdown",
   "metadata": {},
   "source": [
    "### Метод k ближайших соседей"
   ]
  },
  {
   "cell_type": "code",
   "execution_count": 21,
   "metadata": {},
   "outputs": [
    {
     "name": "stderr",
     "output_type": "stream",
     "text": [
      "<ipython-input-21-de12a03ef0b1>:2: SettingWithCopyWarning: \n",
      "A value is trying to be set on a copy of a slice from a DataFrame.\n",
      "Try using .loc[row_indexer,col_indexer] = value instead\n",
      "\n",
      "See the caveats in the documentation: https://pandas.pydata.org/pandas-docs/stable/user_guide/indexing.html#returning-a-view-versus-a-copy\n",
      "  data['num3_5_scaled'] = enc_df[:, 0]\n"
     ]
    }
   ],
   "source": [
    "enc_df = knn_imputer.fit_transform(data[['num1_5_scaled', 'num3_5_scaled']])\n",
    "data['num3_5_scaled'] = enc_df[:, 0]"
   ]
  },
  {
   "cell_type": "code",
   "execution_count": 22,
   "metadata": {},
   "outputs": [
    {
     "name": "stdout",
     "output_type": "stream",
     "text": [
      "<class 'pandas.core.frame.DataFrame'>\n",
      "Int64Index: 937 entries, 0 to 999\n",
      "Data columns (total 8 columns):\n",
      " #   Column             Non-Null Count  Dtype  \n",
      "---  ------             --------------  -----  \n",
      " 0   cat11_nationality  937 non-null    object \n",
      " 1   cat16_city         937 non-null    object \n",
      " 2   num1_5             937 non-null    float64\n",
      " 3   num2_5             889 non-null    float64\n",
      " 4   num3_5             859 non-null    float64\n",
      " 5   num1_5_scaled      937 non-null    float64\n",
      " 6   num2_5_scaled      937 non-null    float64\n",
      " 7   num3_5_scaled      937 non-null    float64\n",
      "dtypes: float64(6), object(2)\n",
      "memory usage: 105.9+ KB\n"
     ]
    }
   ],
   "source": [
    "data.info()"
   ]
  },
  {
   "cell_type": "code",
   "execution_count": 23,
   "metadata": {},
   "outputs": [
    {
     "name": "stdout",
     "output_type": "stream",
     "text": [
      "{0: 'Chelyabinsk', 1: 'Moscow', 2: 'Novosibirsk', 3: 'St. Petersburg'}\n"
     ]
    },
    {
     "data": {
      "image/png": "[encoded data removed]",
      "text/plain": [
       "<Figure size 432x288 with 1 Axes>"
      ]
     },
     "metadata": {
      "needs_background": "light"
     },
     "output_type": "display_data"
    }
   ],
   "source": [
    "# Label encoding\n",
    "label_encoder = LabelEncoder()\n",
    "encoded_city = pd.Series(label_encoder.fit_transform(data['cat16_city']))\n",
    "encoded_city.value_counts().plot.barh()\n",
    "print(dict(enumerate(label_encoder.classes_)))"
   ]
  }
 ],
 "metadata": {
  "kernelspec": {
   "display_name": "Python 3",
   "language": "python",
   "name": "python3"
  },
  "language_info": {
   "codemirror_mode": {
    "name": "ipython",
    "version": 3
   },
   "file_extension": ".py",
   "mimetype": "text/x-python",
   "name": "python",
   "nbconvert_exporter": "python",
   "pygments_lexer": "ipython3",
   "version": "3.8.5"
  }
 },
 "nbformat": 4,
 "nbformat_minor": 4
}
