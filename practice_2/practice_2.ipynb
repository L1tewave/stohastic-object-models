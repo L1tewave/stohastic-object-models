{
 "cells": [
  {
   "cell_type": "markdown",
   "metadata": {},
   "source": [
    "# Предварительный анализ данных"
   ]
  },
  {
   "cell_type": "markdown",
   "metadata": {},
   "source": [
    "## Подключение библиотек"
   ]
  },
  {
   "cell_type": "code",
   "execution_count": 63,
   "metadata": {},
   "outputs": [],
   "source": [
    "import matplotlib.pyplot as plt\n",
    "import seaborn as sns\n",
    "import pandas as pd\n",
    "import numpy as np\n",
    "\n",
    "from collections import Counter, OrderedDict\n",
    "\n",
    "from sklearn.preprocessing import LabelEncoder, OneHotEncoder, MinMaxScaler, StandardScaler\n",
    "from sklearn.impute import KNNImputer\n",
    "\n",
    "from IPython.display import Image\n",
    "\n",
    "%matplotlib inline"
   ]
  },
  {
   "cell_type": "markdown",
   "metadata": {},
   "source": [
    "## Загрузка данных"
   ]
  },
  {
   "cell_type": "code",
   "execution_count": 64,
   "metadata": {},
   "outputs": [],
   "source": [
    "data = pd.read_excel('practice_dataframe.xlsx', usecols=['cat16_city', 'cat11_nationality', 'num1_5', 'num2_5', 'num3_5'])"
   ]
  },
  {
   "cell_type": "markdown",
   "metadata": {},
   "source": [
    "### Вариант 4\n",
    "Признаки для анализа:\n",
    "- cat16_city\n",
    "- cat11_nationality\n",
    "- num1_5\n",
    "- num2_5\n",
    "- num3_5"
   ]
  },
  {
   "cell_type": "markdown",
   "metadata": {},
   "source": [
    "## Обработка данных"
   ]
  },
  {
   "cell_type": "code",
   "execution_count": 65,
   "metadata": {},
   "outputs": [
    {
     "data": {
      "text/html": [
       "<div>\n",
       "<style scoped>\n",
       "    .dataframe tbody tr th:only-of-type {\n",
       "        vertical-align: middle;\n",
       "    }\n",
       "\n",
       "    .dataframe tbody tr th {\n",
       "        vertical-align: top;\n",
       "    }\n",
       "\n",
       "    .dataframe thead th {\n",
       "        text-align: right;\n",
       "    }\n",
       "</style>\n",
       "<table border=\"1\" class=\"dataframe\">\n",
       "  <thead>\n",
       "    <tr style=\"text-align: right;\">\n",
       "      <th></th>\n",
       "      <th>cat11_nationality</th>\n",
       "      <th>cat16_city</th>\n",
       "      <th>num1_5</th>\n",
       "      <th>num2_5</th>\n",
       "      <th>num3_5</th>\n",
       "    </tr>\n",
       "  </thead>\n",
       "  <tbody>\n",
       "    <tr>\n",
       "      <th>0</th>\n",
       "      <td>german</td>\n",
       "      <td>moscow</td>\n",
       "      <td>200.404132</td>\n",
       "      <td>374.849841</td>\n",
       "      <td>537.784</td>\n",
       "    </tr>\n",
       "    <tr>\n",
       "      <th>1</th>\n",
       "      <td>German</td>\n",
       "      <td>St. Petersburg</td>\n",
       "      <td>236.691176</td>\n",
       "      <td>757.925894</td>\n",
       "      <td>525.436</td>\n",
       "    </tr>\n",
       "    <tr>\n",
       "      <th>2</th>\n",
       "      <td>german</td>\n",
       "      <td>St. Petersburg</td>\n",
       "      <td>-26.114921</td>\n",
       "      <td>556.885394</td>\n",
       "      <td>572.672</td>\n",
       "    </tr>\n",
       "    <tr>\n",
       "      <th>3</th>\n",
       "      <td>German</td>\n",
       "      <td>Moscow</td>\n",
       "      <td>-82.764817</td>\n",
       "      <td>915.702660</td>\n",
       "      <td>570.468</td>\n",
       "    </tr>\n",
       "    <tr>\n",
       "      <th>4</th>\n",
       "      <td>german</td>\n",
       "      <td>Chelyabinsk</td>\n",
       "      <td>389.350889</td>\n",
       "      <td>595.813259</td>\n",
       "      <td>457.3</td>\n",
       "    </tr>\n",
       "  </tbody>\n",
       "</table>\n",
       "</div>"
      ],
      "text/plain": [
       "  cat11_nationality      cat16_city      num1_5      num2_5   num3_5\n",
       "0            german          moscow  200.404132  374.849841  537.784\n",
       "1            German  St. Petersburg  236.691176  757.925894  525.436\n",
       "2            german  St. Petersburg  -26.114921  556.885394  572.672\n",
       "3            German          Moscow  -82.764817  915.702660  570.468\n",
       "4            german     Chelyabinsk  389.350889  595.813259    457.3"
      ]
     },
     "execution_count": 65,
     "metadata": {},
     "output_type": "execute_result"
    }
   ],
   "source": [
    "data.head()"
   ]
  },
  {
   "cell_type": "code",
   "execution_count": 66,
   "metadata": {
    "scrolled": true
   },
   "outputs": [
    {
     "name": "stdout",
     "output_type": "stream",
     "text": [
      "<class 'pandas.core.frame.DataFrame'>\n",
      "RangeIndex: 1000 entries, 0 to 999\n",
      "Data columns (total 5 columns):\n",
      " #   Column             Non-Null Count  Dtype  \n",
      "---  ------             --------------  -----  \n",
      " 0   cat11_nationality  980 non-null    object \n",
      " 1   cat16_city         980 non-null    object \n",
      " 2   num1_5             1000 non-null   float64\n",
      " 3   num2_5             951 non-null    float64\n",
      " 4   num3_5             971 non-null    object \n",
      "dtypes: float64(2), object(3)\n",
      "memory usage: 39.2+ KB\n"
     ]
    }
   ],
   "source": [
    "data.info()"
   ]
  },
  {
   "cell_type": "code",
   "execution_count": 67,
   "metadata": {},
   "outputs": [
    {
     "data": {
      "text/html": [
       "<div>\n",
       "<style scoped>\n",
       "    .dataframe tbody tr th:only-of-type {\n",
       "        vertical-align: middle;\n",
       "    }\n",
       "\n",
       "    .dataframe tbody tr th {\n",
       "        vertical-align: top;\n",
       "    }\n",
       "\n",
       "    .dataframe thead th {\n",
       "        text-align: right;\n",
       "    }\n",
       "</style>\n",
       "<table border=\"1\" class=\"dataframe\">\n",
       "  <thead>\n",
       "    <tr style=\"text-align: right;\">\n",
       "      <th></th>\n",
       "      <th>num1_5</th>\n",
       "      <th>num2_5</th>\n",
       "    </tr>\n",
       "  </thead>\n",
       "  <tbody>\n",
       "    <tr>\n",
       "      <th>count</th>\n",
       "      <td>1000.000000</td>\n",
       "      <td>951.000000</td>\n",
       "    </tr>\n",
       "    <tr>\n",
       "      <th>mean</th>\n",
       "      <td>-215.020836</td>\n",
       "      <td>477.456885</td>\n",
       "    </tr>\n",
       "    <tr>\n",
       "      <th>std</th>\n",
       "      <td>2304.593027</td>\n",
       "      <td>367.932609</td>\n",
       "    </tr>\n",
       "    <tr>\n",
       "      <th>min</th>\n",
       "      <td>-9999.000000</td>\n",
       "      <td>-680.684885</td>\n",
       "    </tr>\n",
       "    <tr>\n",
       "      <th>25%</th>\n",
       "      <td>-271.827089</td>\n",
       "      <td>253.822944</td>\n",
       "    </tr>\n",
       "    <tr>\n",
       "      <th>50%</th>\n",
       "      <td>233.072300</td>\n",
       "      <td>471.862930</td>\n",
       "    </tr>\n",
       "    <tr>\n",
       "      <th>75%</th>\n",
       "      <td>711.946661</td>\n",
       "      <td>695.402804</td>\n",
       "    </tr>\n",
       "    <tr>\n",
       "      <th>max</th>\n",
       "      <td>2777.457729</td>\n",
       "      <td>1637.450840</td>\n",
       "    </tr>\n",
       "  </tbody>\n",
       "</table>\n",
       "</div>"
      ],
      "text/plain": [
       "            num1_5       num2_5\n",
       "count  1000.000000   951.000000\n",
       "mean   -215.020836   477.456885\n",
       "std    2304.593027   367.932609\n",
       "min   -9999.000000  -680.684885\n",
       "25%    -271.827089   253.822944\n",
       "50%     233.072300   471.862930\n",
       "75%     711.946661   695.402804\n",
       "max    2777.457729  1637.450840"
      ]
     },
     "execution_count": 67,
     "metadata": {},
     "output_type": "execute_result"
    }
   ],
   "source": [
    "data.describe()"
   ]
  },
  {
   "cell_type": "code",
   "execution_count": 68,
   "metadata": {},
   "outputs": [
    {
     "data": {
      "text/plain": [
       "array(['german', 'German', 'French', '-', 'italian', nan, 'Italian', ' '],\n",
       "      dtype=object)"
      ]
     },
     "execution_count": 68,
     "metadata": {},
     "output_type": "execute_result"
    }
   ],
   "source": [
    "data.cat11_nationality.unique()"
   ]
  },
  {
   "cell_type": "code",
   "execution_count": 69,
   "metadata": {},
   "outputs": [
    {
     "data": {
      "text/plain": [
       "array(['German', 'French', None, 'Italian'], dtype=object)"
      ]
     },
     "execution_count": 69,
     "metadata": {},
     "output_type": "execute_result"
    }
   ],
   "source": [
    "data['cat11_nationality'] = data['cat11_nationality'].replace(\n",
    "    {'german': 'German', \n",
    "     'italian': 'Italian', \n",
    "     '-': None, \n",
    "     ' ': None,\n",
    "     np.nan: None}\n",
    ")\n",
    "data.cat11_nationality.unique()"
   ]
  },
  {
   "cell_type": "code",
   "execution_count": 70,
   "metadata": {},
   "outputs": [
    {
     "data": {
      "text/plain": [
       "array(['moscow', 'St. Petersburg', 'Moscow', 'Chelyabinsk', 'novosibirsk',\n",
       "       nan, '-', 'Novosibirsk', ' '], dtype=object)"
      ]
     },
     "execution_count": 70,
     "metadata": {},
     "output_type": "execute_result"
    }
   ],
   "source": [
    "data.cat16_city.unique()"
   ]
  },
  {
   "cell_type": "code",
   "execution_count": 71,
   "metadata": {},
   "outputs": [
    {
     "data": {
      "text/plain": [
       "array(['Moscow', 'St. Petersburg', 'Chelyabinsk', 'Novosibirsk', None],\n",
       "      dtype=object)"
      ]
     },
     "execution_count": 71,
     "metadata": {},
     "output_type": "execute_result"
    }
   ],
   "source": [
    "data['cat16_city'] = data['cat16_city'].replace(\n",
    "    {'moscow': 'Moscow', \n",
    "     'novosibirsk': 'Novosibirsk', \n",
    "     '-': None, \n",
    "     ' ': None,\n",
    "     np.nan: None}\n",
    ")\n",
    "data.cat16_city.unique()"
   ]
  },
  {
   "cell_type": "code",
   "execution_count": 72,
   "metadata": {},
   "outputs": [
    {
     "data": {
      "text/html": [
       "<div>\n",
       "<style scoped>\n",
       "    .dataframe tbody tr th:only-of-type {\n",
       "        vertical-align: middle;\n",
       "    }\n",
       "\n",
       "    .dataframe tbody tr th {\n",
       "        vertical-align: top;\n",
       "    }\n",
       "\n",
       "    .dataframe thead th {\n",
       "        text-align: right;\n",
       "    }\n",
       "</style>\n",
       "<table border=\"1\" class=\"dataframe\">\n",
       "  <thead>\n",
       "    <tr style=\"text-align: right;\">\n",
       "      <th></th>\n",
       "      <th>cat11_nationality</th>\n",
       "      <th>cat16_city</th>\n",
       "      <th>num1_5</th>\n",
       "      <th>num2_5</th>\n",
       "      <th>num3_5</th>\n",
       "    </tr>\n",
       "  </thead>\n",
       "  <tbody>\n",
       "    <tr>\n",
       "      <th>0</th>\n",
       "      <td>German</td>\n",
       "      <td>Moscow</td>\n",
       "      <td>200.404132</td>\n",
       "      <td>374.849841</td>\n",
       "      <td>537.784087</td>\n",
       "    </tr>\n",
       "    <tr>\n",
       "      <th>1</th>\n",
       "      <td>German</td>\n",
       "      <td>St. Petersburg</td>\n",
       "      <td>236.691176</td>\n",
       "      <td>757.925894</td>\n",
       "      <td>525.436417</td>\n",
       "    </tr>\n",
       "    <tr>\n",
       "      <th>2</th>\n",
       "      <td>German</td>\n",
       "      <td>St. Petersburg</td>\n",
       "      <td>-26.114921</td>\n",
       "      <td>556.885394</td>\n",
       "      <td>572.672166</td>\n",
       "    </tr>\n",
       "    <tr>\n",
       "      <th>3</th>\n",
       "      <td>German</td>\n",
       "      <td>Moscow</td>\n",
       "      <td>-82.764817</td>\n",
       "      <td>915.702660</td>\n",
       "      <td>570.468156</td>\n",
       "    </tr>\n",
       "    <tr>\n",
       "      <th>4</th>\n",
       "      <td>German</td>\n",
       "      <td>Chelyabinsk</td>\n",
       "      <td>389.350889</td>\n",
       "      <td>595.813259</td>\n",
       "      <td>457.299999</td>\n",
       "    </tr>\n",
       "    <tr>\n",
       "      <th>...</th>\n",
       "      <td>...</td>\n",
       "      <td>...</td>\n",
       "      <td>...</td>\n",
       "      <td>...</td>\n",
       "      <td>...</td>\n",
       "    </tr>\n",
       "    <tr>\n",
       "      <th>995</th>\n",
       "      <td>French</td>\n",
       "      <td>Moscow</td>\n",
       "      <td>1120.816296</td>\n",
       "      <td>652.583299</td>\n",
       "      <td>NaN</td>\n",
       "    </tr>\n",
       "    <tr>\n",
       "      <th>996</th>\n",
       "      <td>German</td>\n",
       "      <td>Novosibirsk</td>\n",
       "      <td>-293.568986</td>\n",
       "      <td>334.198157</td>\n",
       "      <td>455.503513</td>\n",
       "    </tr>\n",
       "    <tr>\n",
       "      <th>997</th>\n",
       "      <td>German</td>\n",
       "      <td>Novosibirsk</td>\n",
       "      <td>402.936795</td>\n",
       "      <td>-36.892527</td>\n",
       "      <td>509.947684</td>\n",
       "    </tr>\n",
       "    <tr>\n",
       "      <th>998</th>\n",
       "      <td>German</td>\n",
       "      <td>Novosibirsk</td>\n",
       "      <td>-157.655030</td>\n",
       "      <td>165.774970</td>\n",
       "      <td>455.301733</td>\n",
       "    </tr>\n",
       "    <tr>\n",
       "      <th>999</th>\n",
       "      <td>German</td>\n",
       "      <td>Moscow</td>\n",
       "      <td>977.483615</td>\n",
       "      <td>655.035162</td>\n",
       "      <td>510.341900</td>\n",
       "    </tr>\n",
       "  </tbody>\n",
       "</table>\n",
       "<p>1000 rows × 5 columns</p>\n",
       "</div>"
      ],
      "text/plain": [
       "    cat11_nationality      cat16_city       num1_5      num2_5      num3_5\n",
       "0              German          Moscow   200.404132  374.849841  537.784087\n",
       "1              German  St. Petersburg   236.691176  757.925894  525.436417\n",
       "2              German  St. Petersburg   -26.114921  556.885394  572.672166\n",
       "3              German          Moscow   -82.764817  915.702660  570.468156\n",
       "4              German     Chelyabinsk   389.350889  595.813259  457.299999\n",
       "..                ...             ...          ...         ...         ...\n",
       "995            French          Moscow  1120.816296  652.583299         NaN\n",
       "996            German     Novosibirsk  -293.568986  334.198157  455.503513\n",
       "997            German     Novosibirsk   402.936795  -36.892527  509.947684\n",
       "998            German     Novosibirsk  -157.655030  165.774970  455.301733\n",
       "999            German          Moscow   977.483615  655.035162  510.341900\n",
       "\n",
       "[1000 rows x 5 columns]"
      ]
     },
     "execution_count": 72,
     "metadata": {},
     "output_type": "execute_result"
    }
   ],
   "source": [
    "data['num3_5'] = data['num3_5'].replace(\n",
    "    {'-': np.nan,\n",
    "     ' ': np.nan}\n",
    ")\n",
    "data"
   ]
  },
  {
   "cell_type": "code",
   "execution_count": 73,
   "metadata": {},
   "outputs": [
    {
     "name": "stdout",
     "output_type": "stream",
     "text": [
      "<class 'pandas.core.frame.DataFrame'>\n",
      "RangeIndex: 1000 entries, 0 to 999\n",
      "Data columns (total 5 columns):\n",
      " #   Column             Non-Null Count  Dtype  \n",
      "---  ------             --------------  -----  \n",
      " 0   cat11_nationality  941 non-null    object \n",
      " 1   cat16_city         942 non-null    object \n",
      " 2   num1_5             1000 non-null   float64\n",
      " 3   num2_5             951 non-null    float64\n",
      " 4   num3_5             912 non-null    float64\n",
      "dtypes: float64(3), object(2)\n",
      "memory usage: 39.2+ KB\n"
     ]
    }
   ],
   "source": [
    "data.info()"
   ]
  },
  {
   "cell_type": "markdown",
   "metadata": {},
   "source": [
    "## Визуальный анализ данных\n",
    "\n",
    "Для качественных данных строятся столбчатая и круговая диаграммы.\n",
    "Для количественных данных строятся гистограмма, оценка плотности распределения и диаграмма \"ящик с усами\"."
   ]
  },
  {
   "cell_type": "markdown",
   "metadata": {},
   "source": [
    "### Категориальные признаки"
   ]
  },
  {
   "cell_type": "code",
   "execution_count": 96,
   "metadata": {},
   "outputs": [
    {
     "data": {
      "image/png": "[encoded data removed]",
      "text/plain": [
       "<Figure size 432x288 with 1 Axes>"
      ]
     },
     "metadata": {
      "needs_background": "light"
     },
     "output_type": "display_data"
    },
    {
     "data": {
      "image/png": "[encoded data removed]",
      "text/plain": [
       "<Figure size 432x288 with 1 Axes>"
      ]
     },
     "metadata": {},
     "output_type": "display_data"
    },
    {
     "data": {
      "image/png": "[encoded data removed]",
      "text/plain": [
       "<Figure size 432x288 with 1 Axes>"
      ]
     },
     "metadata": {
      "needs_background": "light"
     },
     "output_type": "display_data"
    },
    {
     "data": {
      "image/png": "[encoded data removed]",
      "text/plain": [
       "<Figure size 432x288 with 1 Axes>"
      ]
     },
     "metadata": {},
     "output_type": "display_data"
    }
   ],
   "source": [
    "for column_name in data.iloc[:, 0:2]:\n",
    "    # Столбчатая диаграмма\n",
    "    counts = Counter(data[column_name].dropna())\n",
    "    plt.bar(counts.keys(), counts.values())\n",
    "    plt.title(f'Распределение {column_name} в наборе данных')\n",
    "    plt.xlabel(column_name)\n",
    "    plt.ylabel('Количество человек')\n",
    "    plt.show()\n",
    "    \n",
    "    # Круговая диаграмма\n",
    "    plt.pie(counts.values(), labels=counts.keys(), autopct='%1.0f%%')\n",
    "    plt.title(f'Распределение {column_name} в наборе данных')\n",
    "    plt.show()"
   ]
  },
  {
   "cell_type": "markdown",
   "metadata": {},
   "source": [
    "### Количественные признаки"
   ]
  },
  {
   "cell_type": "code",
   "execution_count": 97,
   "metadata": {},
   "outputs": [
    {
     "data": {
      "image/png": "[encoded data removed]",
      "text/plain": [
       "<Figure size 288x288 with 1 Axes>"
      ]
     },
     "metadata": {
      "needs_background": "light"
     },
     "output_type": "display_data"
    },
    {
     "data": {
      "image/png": "[encoded data removed]",
      "text/plain": [
       "<Figure size 432x288 with 1 Axes>"
      ]
     },
     "metadata": {
      "needs_background": "light"
     },
     "output_type": "display_data"
    },
    {
     "data": {
      "image/png": "[encoded data removed]",
      "text/plain": [
       "<Figure size 288x288 with 1 Axes>"
      ]
     },
     "metadata": {
      "needs_background": "light"
     },
     "output_type": "display_data"
    },
    {
     "data": {
      "image/png": "[encoded data removed]",
      "text/plain": [
       "<Figure size 432x288 with 1 Axes>"
      ]
     },
     "metadata": {
      "needs_background": "light"
     },
     "output_type": "display_data"
    },
    {
     "data": {
      "image/png": "[encoded data removed]",
      "text/plain": [
       "<Figure size 288x288 with 1 Axes>"
      ]
     },
     "metadata": {
      "needs_background": "light"
     },
     "output_type": "display_data"
    },
    {
     "data": {
      "image/png": "[encoded data removed]",
      "text/plain": [
       "<Figure size 432x288 with 1 Axes>"
      ]
     },
     "metadata": {
      "needs_background": "light"
     },
     "output_type": "display_data"
    }
   ],
   "source": [
    "for column_name in data.iloc[:, 2:5]:\n",
    "    # Гистограмма + kde\n",
    "    sns.displot(data[column_name], kde=True, height=4)\n",
    "    plt.title(f'Гистограмма {column_name} признака')\n",
    "    plt.xlabel('Значения')\n",
    "    plt.ylabel('Количество')\n",
    "    plt.show()\n",
    "    # Ящик с усами\n",
    "    sns.boxplot(data=data[column_name])\n",
    "    plt.title(f'Ящик с усами для {column_name} признака')\n",
    "    plt.ylabel('Количество')\n",
    "    plt.show()"
   ]
  },
  {
   "cell_type": "markdown",
   "metadata": {},
   "source": [
    "## Поиск аномальных значений"
   ]
  },
  {
   "cell_type": "code",
   "execution_count": null,
   "metadata": {},
   "outputs": [],
   "source": []
  },
  {
   "cell_type": "markdown",
   "metadata": {},
   "source": [
    "## Преобразование данных"
   ]
  },
  {
   "cell_type": "code",
   "execution_count": 101,
   "metadata": {},
   "outputs": [
    {
     "data": {
      "text/html": [
       "<div>\n",
       "<style scoped>\n",
       "    .dataframe tbody tr th:only-of-type {\n",
       "        vertical-align: middle;\n",
       "    }\n",
       "\n",
       "    .dataframe tbody tr th {\n",
       "        vertical-align: top;\n",
       "    }\n",
       "\n",
       "    .dataframe thead th {\n",
       "        text-align: right;\n",
       "    }\n",
       "</style>\n",
       "<table border=\"1\" class=\"dataframe\">\n",
       "  <thead>\n",
       "    <tr style=\"text-align: right;\">\n",
       "      <th></th>\n",
       "      <th>cat11_nationality</th>\n",
       "      <th>cat16_city</th>\n",
       "      <th>num1_5</th>\n",
       "      <th>num2_5</th>\n",
       "      <th>num3_5</th>\n",
       "      <th>num1_5_scaled</th>\n",
       "      <th>num2_5_scaled</th>\n",
       "      <th>num3_5_scaled</th>\n",
       "    </tr>\n",
       "  </thead>\n",
       "  <tbody>\n",
       "    <tr>\n",
       "      <th>0</th>\n",
       "      <td>German</td>\n",
       "      <td>Moscow</td>\n",
       "      <td>200.404132</td>\n",
       "      <td>374.849841</td>\n",
       "      <td>537.784087</td>\n",
       "      <td>0.798297</td>\n",
       "      <td>0.455338</td>\n",
       "      <td>0.554085</td>\n",
       "    </tr>\n",
       "    <tr>\n",
       "      <th>1</th>\n",
       "      <td>German</td>\n",
       "      <td>St. Petersburg</td>\n",
       "      <td>236.691176</td>\n",
       "      <td>757.925894</td>\n",
       "      <td>525.436417</td>\n",
       "      <td>0.801137</td>\n",
       "      <td>0.620590</td>\n",
       "      <td>0.512769</td>\n",
       "    </tr>\n",
       "    <tr>\n",
       "      <th>2</th>\n",
       "      <td>German</td>\n",
       "      <td>St. Petersburg</td>\n",
       "      <td>-26.114921</td>\n",
       "      <td>556.885394</td>\n",
       "      <td>572.672166</td>\n",
       "      <td>0.780567</td>\n",
       "      <td>0.533864</td>\n",
       "      <td>0.670823</td>\n",
       "    </tr>\n",
       "    <tr>\n",
       "      <th>3</th>\n",
       "      <td>German</td>\n",
       "      <td>Moscow</td>\n",
       "      <td>-82.764817</td>\n",
       "      <td>915.702660</td>\n",
       "      <td>570.468156</td>\n",
       "      <td>0.776133</td>\n",
       "      <td>0.688651</td>\n",
       "      <td>0.663448</td>\n",
       "    </tr>\n",
       "    <tr>\n",
       "      <th>4</th>\n",
       "      <td>German</td>\n",
       "      <td>Chelyabinsk</td>\n",
       "      <td>389.350889</td>\n",
       "      <td>595.813259</td>\n",
       "      <td>457.299999</td>\n",
       "      <td>0.813085</td>\n",
       "      <td>0.550657</td>\n",
       "      <td>0.284778</td>\n",
       "    </tr>\n",
       "    <tr>\n",
       "      <th>...</th>\n",
       "      <td>...</td>\n",
       "      <td>...</td>\n",
       "      <td>...</td>\n",
       "      <td>...</td>\n",
       "      <td>...</td>\n",
       "      <td>...</td>\n",
       "      <td>...</td>\n",
       "      <td>...</td>\n",
       "    </tr>\n",
       "    <tr>\n",
       "      <th>995</th>\n",
       "      <td>French</td>\n",
       "      <td>Moscow</td>\n",
       "      <td>1120.816296</td>\n",
       "      <td>652.583299</td>\n",
       "      <td>NaN</td>\n",
       "      <td>0.870336</td>\n",
       "      <td>0.575147</td>\n",
       "      <td>NaN</td>\n",
       "    </tr>\n",
       "    <tr>\n",
       "      <th>996</th>\n",
       "      <td>German</td>\n",
       "      <td>Novosibirsk</td>\n",
       "      <td>-293.568986</td>\n",
       "      <td>334.198157</td>\n",
       "      <td>455.503513</td>\n",
       "      <td>0.759634</td>\n",
       "      <td>0.437801</td>\n",
       "      <td>0.278767</td>\n",
       "    </tr>\n",
       "    <tr>\n",
       "      <th>997</th>\n",
       "      <td>German</td>\n",
       "      <td>Novosibirsk</td>\n",
       "      <td>402.936795</td>\n",
       "      <td>-36.892527</td>\n",
       "      <td>509.947684</td>\n",
       "      <td>0.814149</td>\n",
       "      <td>0.277720</td>\n",
       "      <td>0.460942</td>\n",
       "    </tr>\n",
       "    <tr>\n",
       "      <th>998</th>\n",
       "      <td>German</td>\n",
       "      <td>Novosibirsk</td>\n",
       "      <td>-157.655030</td>\n",
       "      <td>165.774970</td>\n",
       "      <td>455.301733</td>\n",
       "      <td>0.770272</td>\n",
       "      <td>0.365147</td>\n",
       "      <td>0.278092</td>\n",
       "    </tr>\n",
       "    <tr>\n",
       "      <th>999</th>\n",
       "      <td>German</td>\n",
       "      <td>Moscow</td>\n",
       "      <td>977.483615</td>\n",
       "      <td>655.035162</td>\n",
       "      <td>510.341900</td>\n",
       "      <td>0.859118</td>\n",
       "      <td>0.576204</td>\n",
       "      <td>0.462261</td>\n",
       "    </tr>\n",
       "  </tbody>\n",
       "</table>\n",
       "<p>1000 rows × 8 columns</p>\n",
       "</div>"
      ],
      "text/plain": [
       "    cat11_nationality      cat16_city       num1_5      num2_5      num3_5  \\\n",
       "0              German          Moscow   200.404132  374.849841  537.784087   \n",
       "1              German  St. Petersburg   236.691176  757.925894  525.436417   \n",
       "2              German  St. Petersburg   -26.114921  556.885394  572.672166   \n",
       "3              German          Moscow   -82.764817  915.702660  570.468156   \n",
       "4              German     Chelyabinsk   389.350889  595.813259  457.299999   \n",
       "..                ...             ...          ...         ...         ...   \n",
       "995            French          Moscow  1120.816296  652.583299         NaN   \n",
       "996            German     Novosibirsk  -293.568986  334.198157  455.503513   \n",
       "997            German     Novosibirsk   402.936795  -36.892527  509.947684   \n",
       "998            German     Novosibirsk  -157.655030  165.774970  455.301733   \n",
       "999            German          Moscow   977.483615  655.035162  510.341900   \n",
       "\n",
       "     num1_5_scaled  num2_5_scaled  num3_5_scaled  \n",
       "0         0.798297       0.455338       0.554085  \n",
       "1         0.801137       0.620590       0.512769  \n",
       "2         0.780567       0.533864       0.670823  \n",
       "3         0.776133       0.688651       0.663448  \n",
       "4         0.813085       0.550657       0.284778  \n",
       "..             ...            ...            ...  \n",
       "995       0.870336       0.575147            NaN  \n",
       "996       0.759634       0.437801       0.278767  \n",
       "997       0.814149       0.277720       0.460942  \n",
       "998       0.770272       0.365147       0.278092  \n",
       "999       0.859118       0.576204       0.462261  \n",
       "\n",
       "[1000 rows x 8 columns]"
      ]
     },
     "execution_count": 101,
     "metadata": {},
     "output_type": "execute_result"
    }
   ],
   "source": [
    "scaler = MinMaxScaler()\n",
    "scaled_values = scaler.fit_transform(data[['num1_5', 'num2_5', 'num3_5']])\n",
    "data[['num1_5_scaled', 'num2_5_scaled', 'num3_5_scaled']] = scaled_values\n",
    "data"
   ]
  },
  {
   "cell_type": "markdown",
   "metadata": {},
   "source": [
    "## Заполнение пропусков"
   ]
  },
  {
   "cell_type": "markdown",
   "metadata": {},
   "source": [
    "Метод k ближайших соседей"
   ]
  },
  {
   "cell_type": "code",
   "execution_count": 105,
   "metadata": {},
   "outputs": [],
   "source": [
    "copied_data = data.copy()\n",
    "knn_imputer = KNNImputer()\n",
    "transformed_data = knn_imputer.fit_transform(copied_data[['num1_5_scaled', 'num2_5_scaled', 'num3_5_scaled']])\n",
    "data['num1_5_scaled'] = transformed_data[:, 0]"
   ]
  },
  {
   "cell_type": "code",
   "execution_count": null,
   "metadata": {},
   "outputs": [],
   "source": []
  }
 ],
 "metadata": {
  "kernelspec": {
   "display_name": "Python 3",
   "language": "python",
   "name": "python3"
  },
  "language_info": {
   "codemirror_mode": {
    "name": "ipython",
    "version": 3
   },
   "file_extension": ".py",
   "mimetype": "text/x-python",
   "name": "python",
   "nbconvert_exporter": "python",
   "pygments_lexer": "ipython3",
   "version": "3.8.5"
  }
 },
 "nbformat": 4,
 "nbformat_minor": 4
}
