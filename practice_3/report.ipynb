{
 "cells": [
  {
   "cell_type": "markdown",
   "metadata": {},
   "source": [
    "# Практическая работа №3. Проверка статистических гипотез"
   ]
  },
  {
   "cell_type": "markdown",
   "metadata": {},
   "source": [
    "## Цели:\r\n",
    "- знакомство с основными задачами проверки статистических гипотез; \r\n",
    "- изучение критериев проверки гипотез о виде неизвестного закона распределения генеральной совокупности и неизвестных параметрах известного закона распределения;\r\n",
    "- формирование навыков проверки статистических гипотез с помощью языка программирования Python.\r\n",
    "\r\n",
    "## Задачи:\r\n",
    "1. Проверка гипотез о средних и дисперсиях выборочных данных.\r\n",
    "2. Анализ устойчивости критериев к нарушению предположений о нормальности исходных данных.\r\n",
    "\r\n",
    "## Вариант 5"
   ]
  },
  {
   "cell_type": "code",
   "execution_count": 1,
   "metadata": {},
   "outputs": [
    {
     "name": "stdout",
     "output_type": "stream",
     "text": [
      "The Zen of Python, by Tim Peters\n",
      "\n",
      "Beautiful is better than ugly.\n",
      "Explicit is better than implicit.\n",
      "Simple is better than complex.\n",
      "Complex is better than complicated.\n",
      "Flat is better than nested.\n",
      "Sparse is better than dense.\n",
      "Readability counts.\n",
      "Special cases aren't special enough to break the rules.\n",
      "Although practicality beats purity.\n",
      "Errors should never pass silently.\n",
      "Unless explicitly silenced.\n",
      "In the face of ambiguity, refuse the temptation to guess.\n",
      "There should be one-- and preferably only one --obvious way to do it.\n",
      "Although that way may not be obvious at first unless you're Dutch.\n",
      "Now is better than never.\n",
      "Although never is often better than *right* now.\n",
      "If the implementation is hard to explain, it's a bad idea.\n",
      "If the implementation is easy to explain, it may be a good idea.\n",
      "Namespaces are one honking great idea -- let's do more of those!\n"
     ]
    }
   ],
   "source": [
    "import this"
   ]
  },
  {
   "cell_type": "code",
   "execution_count": 10,
   "metadata": {},
   "outputs": [],
   "source": [
    "# Импорты\r\n",
    "import pandas as pd\r\n",
    "import numpy as np"
   ]
  },
  {
   "cell_type": "code",
   "execution_count": 11,
   "metadata": {},
   "outputs": [],
   "source": [
    "dataframe = pd.read_csv(\"variant_5.csv\")"
   ]
  },
  {
   "cell_type": "code",
   "execution_count": 15,
   "metadata": {},
   "outputs": [
    {
     "data": {
      "text/html": "<div>\n<style scoped>\n    .dataframe tbody tr th:only-of-type {\n        vertical-align: middle;\n    }\n\n    .dataframe tbody tr th {\n        vertical-align: top;\n    }\n\n    .dataframe thead th {\n        text-align: right;\n    }\n</style>\n<table border=\"1\" class=\"dataframe\">\n  <thead>\n    <tr style=\"text-align: right;\">\n      <th></th>\n      <th>couple_1_1</th>\n      <th>couple_1_2</th>\n      <th>couple_2_1</th>\n      <th>couple_2_2</th>\n      <th>couple_3_1</th>\n      <th>couple_3_2</th>\n      <th>couple_4_1</th>\n      <th>couple_4_2</th>\n      <th>couple_5_1</th>\n      <th>couple_5_2</th>\n      <th>couple_6_1</th>\n      <th>couple_6_2</th>\n    </tr>\n  </thead>\n  <tbody>\n    <tr>\n      <th>count</th>\n      <td>50.000000</td>\n      <td>50.000000</td>\n      <td>50.000000</td>\n      <td>50.000000</td>\n      <td>50.000000</td>\n      <td>50.000000</td>\n      <td>50.000000</td>\n      <td>50.000000</td>\n      <td>50.000000</td>\n      <td>50.000000</td>\n      <td>50.000000</td>\n      <td>50.000000</td>\n    </tr>\n    <tr>\n      <th>mean</th>\n      <td>612.497420</td>\n      <td>471.734950</td>\n      <td>-511.743192</td>\n      <td>1050.612093</td>\n      <td>-502.213893</td>\n      <td>-993.526503</td>\n      <td>-422.792914</td>\n      <td>-378.603057</td>\n      <td>600.671009</td>\n      <td>810.569509</td>\n      <td>676.389386</td>\n      <td>482.801820</td>\n    </tr>\n    <tr>\n      <th>std</th>\n      <td>655.304147</td>\n      <td>100.627018</td>\n      <td>937.189055</td>\n      <td>989.316659</td>\n      <td>926.452169</td>\n      <td>912.716282</td>\n      <td>727.500766</td>\n      <td>662.550678</td>\n      <td>186.447990</td>\n      <td>106.168747</td>\n      <td>460.148492</td>\n      <td>577.484013</td>\n    </tr>\n    <tr>\n      <th>min</th>\n      <td>-763.905301</td>\n      <td>174.759138</td>\n      <td>-3044.762170</td>\n      <td>-543.066721</td>\n      <td>-3217.188001</td>\n      <td>-2764.297545</td>\n      <td>-2123.929175</td>\n      <td>-1579.273417</td>\n      <td>218.318488</td>\n      <td>513.982003</td>\n      <td>-274.032895</td>\n      <td>-535.602324</td>\n    </tr>\n    <tr>\n      <th>25%</th>\n      <td>66.144098</td>\n      <td>422.214758</td>\n      <td>-1083.113294</td>\n      <td>136.521664</td>\n      <td>-982.721733</td>\n      <td>-1634.881128</td>\n      <td>-865.665231</td>\n      <td>-930.662960</td>\n      <td>463.158459</td>\n      <td>725.092958</td>\n      <td>311.190781</td>\n      <td>-62.089037</td>\n    </tr>\n    <tr>\n      <th>50%</th>\n      <td>585.853298</td>\n      <td>471.324573</td>\n      <td>-553.522071</td>\n      <td>1071.738209</td>\n      <td>-391.706238</td>\n      <td>-1079.145721</td>\n      <td>-307.978730</td>\n      <td>-391.744673</td>\n      <td>583.083363</td>\n      <td>830.808089</td>\n      <td>675.731906</td>\n      <td>692.823288</td>\n    </tr>\n    <tr>\n      <th>75%</th>\n      <td>923.617527</td>\n      <td>516.505284</td>\n      <td>76.831344</td>\n      <td>1862.597833</td>\n      <td>46.979862</td>\n      <td>-375.833781</td>\n      <td>-38.197735</td>\n      <td>61.288172</td>\n      <td>753.792577</td>\n      <td>907.971894</td>\n      <td>949.469500</td>\n      <td>963.939739</td>\n    </tr>\n    <tr>\n      <th>max</th>\n      <td>2281.652768</td>\n      <td>749.680915</td>\n      <td>1240.267025</td>\n      <td>2622.471548</td>\n      <td>1119.924844</td>\n      <td>1629.281525</td>\n      <td>1648.699773</td>\n      <td>1148.436928</td>\n      <td>1147.263124</td>\n      <td>1022.691491</td>\n      <td>1658.889871</td>\n      <td>1227.682550</td>\n    </tr>\n  </tbody>\n</table>\n</div>",
      "text/plain": "        couple_1_1  couple_1_2   couple_2_1   couple_2_2   couple_3_1  \\\ncount    50.000000   50.000000    50.000000    50.000000    50.000000   \nmean    612.497420  471.734950  -511.743192  1050.612093  -502.213893   \nstd     655.304147  100.627018   937.189055   989.316659   926.452169   \nmin    -763.905301  174.759138 -3044.762170  -543.066721 -3217.188001   \n25%      66.144098  422.214758 -1083.113294   136.521664  -982.721733   \n50%     585.853298  471.324573  -553.522071  1071.738209  -391.706238   \n75%     923.617527  516.505284    76.831344  1862.597833    46.979862   \nmax    2281.652768  749.680915  1240.267025  2622.471548  1119.924844   \n\n        couple_3_2   couple_4_1   couple_4_2   couple_5_1   couple_5_2  \\\ncount    50.000000    50.000000    50.000000    50.000000    50.000000   \nmean   -993.526503  -422.792914  -378.603057   600.671009   810.569509   \nstd     912.716282   727.500766   662.550678   186.447990   106.168747   \nmin   -2764.297545 -2123.929175 -1579.273417   218.318488   513.982003   \n25%   -1634.881128  -865.665231  -930.662960   463.158459   725.092958   \n50%   -1079.145721  -307.978730  -391.744673   583.083363   830.808089   \n75%    -375.833781   -38.197735    61.288172   753.792577   907.971894   \nmax    1629.281525  1648.699773  1148.436928  1147.263124  1022.691491   \n\n        couple_6_1   couple_6_2  \ncount    50.000000    50.000000  \nmean    676.389386   482.801820  \nstd     460.148492   577.484013  \nmin    -274.032895  -535.602324  \n25%     311.190781   -62.089037  \n50%     675.731906   692.823288  \n75%     949.469500   963.939739  \nmax    1658.889871  1227.682550  "
     },
     "execution_count": 15,
     "metadata": {},
     "output_type": "execute_result"
    }
   ],
   "source": [
    "dataframe.describe()"
   ]
  },
  {
   "cell_type": "code",
   "execution_count": 17,
   "metadata": {},
   "outputs": [
    {
     "name": "stdout",
     "output_type": "stream",
     "text": [
      "<class 'pandas.core.frame.DataFrame'>\n",
      "RangeIndex: 50 entries, 0 to 49\n",
      "Data columns (total 12 columns):\n",
      " #   Column      Non-Null Count  Dtype  \n",
      "---  ------      --------------  -----  \n",
      " 0   couple_1_1  50 non-null     float64\n",
      " 1   couple_1_2  50 non-null     float64\n",
      " 2   couple_2_1  50 non-null     float64\n",
      " 3   couple_2_2  50 non-null     float64\n",
      " 4   couple_3_1  50 non-null     float64\n",
      " 5   couple_3_2  50 non-null     float64\n",
      " 6   couple_4_1  50 non-null     float64\n",
      " 7   couple_4_2  50 non-null     float64\n",
      " 8   couple_5_1  50 non-null     float64\n",
      " 9   couple_5_2  50 non-null     float64\n",
      " 10  couple_6_1  50 non-null     float64\n",
      " 11  couple_6_2  50 non-null     float64\n",
      "dtypes: float64(12)\n",
      "memory usage: 4.8 KB\n"
     ]
    }
   ],
   "source": [
    "dataframe.info()"
   ]
  }
 ],
 "metadata": {
  "kernelspec": {
   "display_name": "Python 3.8.5 64-bit (conda)",
   "name": "python385jvsc74a57bd086d711d8edd9a7e4da5ea0970306139b0261c59980634677d94522c88074b304"
  },
  "language_info": {
   "codemirror_mode": {
    "name": "ipython",
    "version": 3
   },
   "file_extension": ".py",
   "mimetype": "text/x-python",
   "name": "python",
   "nbconvert_exporter": "python",
   "pygments_lexer": "ipython3",
   "version": "3.8.5"
  },
  "metadata": {
   "interpreter": {
    "hash": "31ec593b7532e15836ef4e277fd30960d0cc1095a6cf852da19f4c11bcf0f387"
   }
  },
  "orig_nbformat": 2
 },
 "nbformat": 4,
 "nbformat_minor": 2
}