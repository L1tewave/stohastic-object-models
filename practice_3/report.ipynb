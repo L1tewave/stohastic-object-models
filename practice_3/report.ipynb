{
 "cells": [
  {
   "cell_type": "markdown",
   "metadata": {},
   "source": [
    "# Практическая работа №3. Проверка статистических гипотез"
   ]
  },
  {
   "cell_type": "markdown",
   "metadata": {},
   "source": [
    "## Цели:\r\n",
    "- знакомство с основными задачами проверки статистических гипотез; \r\n",
    "- изучение критериев проверки гипотез о виде неизвестного закона распределения генеральной совокупности и неизвестных параметрах известного закона распределения;\r\n",
    "- формирование навыков проверки статистических гипотез с помощью языка программирования Python.\r\n",
    "\r\n",
    "## Задачи:\r\n",
    "1. Проверка гипотез о средних и дисперсиях выборочных данных.\r\n",
    "2. Анализ устойчивости критериев к нарушению предположений о нормальности исходных данных.\r\n",
    "\r\n",
    "## Вариант 5"
   ]
  },
  {
   "cell_type": "code",
   "execution_count": 1,
   "metadata": {},
   "outputs": [],
   "source": [
    "# Импорты\r\n",
    "# a b c d e f g h i j k l m n o p q r s t u v w x y z\r\n",
    "import matplotlib.pyplot as plt\r\n",
    "import numpy as np\r\n",
    "import pandas as pd\r\n",
    "import scipy\r\n",
    "import seaborn as sns\r\n",
    "from sklearn import preprocessing\r\n",
    "from statsmodels.stats import weightstats"
   ]
  },
  {
   "cell_type": "code",
   "execution_count": 2,
   "metadata": {},
   "outputs": [
    {
     "name": "stdout",
     "output_type": "stream",
     "text": [
      "<class 'pandas.core.frame.DataFrame'>\n",
      "RangeIndex: 50 entries, 0 to 49\n",
      "Data columns (total 12 columns):\n",
      " #   Column      Non-Null Count  Dtype  \n",
      "---  ------      --------------  -----  \n",
      " 0   couple_1_1  50 non-null     float64\n",
      " 1   couple_1_2  50 non-null     float64\n",
      " 2   couple_2_1  50 non-null     float64\n",
      " 3   couple_2_2  50 non-null     float64\n",
      " 4   couple_3_1  50 non-null     float64\n",
      " 5   couple_3_2  50 non-null     float64\n",
      " 6   couple_4_1  50 non-null     float64\n",
      " 7   couple_4_2  50 non-null     float64\n",
      " 8   couple_5_1  50 non-null     float64\n",
      " 9   couple_5_2  50 non-null     float64\n",
      " 10  couple_6_1  50 non-null     float64\n",
      " 11  couple_6_2  50 non-null     float64\n",
      "dtypes: float64(12)\n",
      "memory usage: 4.8 KB\n"
     ]
    }
   ],
   "source": [
    "dataframe = pd.read_csv(\"variant_5.csv\")\r\n",
    "dataframe.info()"
   ]
  },
  {
   "cell_type": "markdown",
   "metadata": {},
   "source": [
    "## Задание 1. Даны 6 пар выборок заданного объема 𝑛 из генеральной совокупности неизвестных законов распределения."
   ]
  },
  {
   "cell_type": "code",
   "execution_count": 3,
   "metadata": {},
   "outputs": [
    {
     "data": {
      "text/html": "<div>\n<style scoped>\n    .dataframe tbody tr th:only-of-type {\n        vertical-align: middle;\n    }\n\n    .dataframe tbody tr th {\n        vertical-align: top;\n    }\n\n    .dataframe thead th {\n        text-align: right;\n    }\n</style>\n<table border=\"1\" class=\"dataframe\">\n  <thead>\n    <tr style=\"text-align: right;\">\n      <th></th>\n      <th>couple_1_1</th>\n      <th>couple_1_2</th>\n      <th>couple_2_1</th>\n      <th>couple_2_2</th>\n      <th>couple_3_1</th>\n      <th>couple_3_2</th>\n      <th>couple_4_1</th>\n      <th>couple_4_2</th>\n      <th>couple_5_1</th>\n      <th>couple_5_2</th>\n      <th>couple_6_1</th>\n      <th>couple_6_2</th>\n    </tr>\n  </thead>\n  <tbody>\n    <tr>\n      <th>count</th>\n      <td>50.000000</td>\n      <td>50.000000</td>\n      <td>50.000000</td>\n      <td>50.000000</td>\n      <td>50.000000</td>\n      <td>50.000000</td>\n      <td>50.000000</td>\n      <td>50.000000</td>\n      <td>50.000000</td>\n      <td>50.000000</td>\n      <td>50.000000</td>\n      <td>50.000000</td>\n    </tr>\n    <tr>\n      <th>mean</th>\n      <td>612.497420</td>\n      <td>471.734950</td>\n      <td>-511.743192</td>\n      <td>1050.612093</td>\n      <td>-502.213893</td>\n      <td>-993.526503</td>\n      <td>-422.792914</td>\n      <td>-378.603057</td>\n      <td>600.671009</td>\n      <td>810.569509</td>\n      <td>676.389386</td>\n      <td>482.801820</td>\n    </tr>\n    <tr>\n      <th>std</th>\n      <td>655.304147</td>\n      <td>100.627018</td>\n      <td>937.189055</td>\n      <td>989.316659</td>\n      <td>926.452169</td>\n      <td>912.716282</td>\n      <td>727.500766</td>\n      <td>662.550678</td>\n      <td>186.447990</td>\n      <td>106.168747</td>\n      <td>460.148492</td>\n      <td>577.484013</td>\n    </tr>\n    <tr>\n      <th>min</th>\n      <td>-763.905301</td>\n      <td>174.759138</td>\n      <td>-3044.762170</td>\n      <td>-543.066721</td>\n      <td>-3217.188001</td>\n      <td>-2764.297545</td>\n      <td>-2123.929175</td>\n      <td>-1579.273417</td>\n      <td>218.318488</td>\n      <td>513.982003</td>\n      <td>-274.032895</td>\n      <td>-535.602324</td>\n    </tr>\n    <tr>\n      <th>25%</th>\n      <td>66.144098</td>\n      <td>422.214758</td>\n      <td>-1083.113294</td>\n      <td>136.521664</td>\n      <td>-982.721733</td>\n      <td>-1634.881128</td>\n      <td>-865.665231</td>\n      <td>-930.662960</td>\n      <td>463.158459</td>\n      <td>725.092958</td>\n      <td>311.190781</td>\n      <td>-62.089037</td>\n    </tr>\n    <tr>\n      <th>50%</th>\n      <td>585.853298</td>\n      <td>471.324573</td>\n      <td>-553.522071</td>\n      <td>1071.738209</td>\n      <td>-391.706238</td>\n      <td>-1079.145721</td>\n      <td>-307.978730</td>\n      <td>-391.744673</td>\n      <td>583.083363</td>\n      <td>830.808089</td>\n      <td>675.731906</td>\n      <td>692.823288</td>\n    </tr>\n    <tr>\n      <th>75%</th>\n      <td>923.617527</td>\n      <td>516.505284</td>\n      <td>76.831344</td>\n      <td>1862.597833</td>\n      <td>46.979862</td>\n      <td>-375.833781</td>\n      <td>-38.197735</td>\n      <td>61.288172</td>\n      <td>753.792577</td>\n      <td>907.971894</td>\n      <td>949.469500</td>\n      <td>963.939739</td>\n    </tr>\n    <tr>\n      <th>max</th>\n      <td>2281.652768</td>\n      <td>749.680915</td>\n      <td>1240.267025</td>\n      <td>2622.471548</td>\n      <td>1119.924844</td>\n      <td>1629.281525</td>\n      <td>1648.699773</td>\n      <td>1148.436928</td>\n      <td>1147.263124</td>\n      <td>1022.691491</td>\n      <td>1658.889871</td>\n      <td>1227.682550</td>\n    </tr>\n  </tbody>\n</table>\n</div>",
      "text/plain": "        couple_1_1  couple_1_2   couple_2_1   couple_2_2   couple_3_1  \\\ncount    50.000000   50.000000    50.000000    50.000000    50.000000   \nmean    612.497420  471.734950  -511.743192  1050.612093  -502.213893   \nstd     655.304147  100.627018   937.189055   989.316659   926.452169   \nmin    -763.905301  174.759138 -3044.762170  -543.066721 -3217.188001   \n25%      66.144098  422.214758 -1083.113294   136.521664  -982.721733   \n50%     585.853298  471.324573  -553.522071  1071.738209  -391.706238   \n75%     923.617527  516.505284    76.831344  1862.597833    46.979862   \nmax    2281.652768  749.680915  1240.267025  2622.471548  1119.924844   \n\n        couple_3_2   couple_4_1   couple_4_2   couple_5_1   couple_5_2  \\\ncount    50.000000    50.000000    50.000000    50.000000    50.000000   \nmean   -993.526503  -422.792914  -378.603057   600.671009   810.569509   \nstd     912.716282   727.500766   662.550678   186.447990   106.168747   \nmin   -2764.297545 -2123.929175 -1579.273417   218.318488   513.982003   \n25%   -1634.881128  -865.665231  -930.662960   463.158459   725.092958   \n50%   -1079.145721  -307.978730  -391.744673   583.083363   830.808089   \n75%    -375.833781   -38.197735    61.288172   753.792577   907.971894   \nmax    1629.281525  1648.699773  1148.436928  1147.263124  1022.691491   \n\n        couple_6_1   couple_6_2  \ncount    50.000000    50.000000  \nmean    676.389386   482.801820  \nstd     460.148492   577.484013  \nmin    -274.032895  -535.602324  \n25%     311.190781   -62.089037  \n50%     675.731906   692.823288  \n75%     949.469500   963.939739  \nmax    1658.889871  1227.682550  "
     },
     "execution_count": 3,
     "metadata": {},
     "output_type": "execute_result"
    }
   ],
   "source": [
    "dataframe.describe()"
   ]
  },
  {
   "cell_type": "code",
   "execution_count": 9,
   "metadata": {},
   "outputs": [
    {
     "name": "stdout",
     "output_type": "stream",
     "text": [
      "\n",
      "1-ая Пара =======================================================\n",
      "Столбец couple_1_1 распределен нормально (p-value=0.719 > 0.05)\n",
      "Столбец couple_1_2 распределен нормально (p-value=0.080 > 0.05)\n",
      "\n",
      "2-ая Пара =======================================================\n",
      "Столбец couple_2_1 распределен нормально (p-value=0.168 > 0.05)\n",
      "Столбец couple_2_2 распределен не нормально (p-value=0.013 < 0.05)\n",
      "\n",
      "3-ая Пара =======================================================\n",
      "Столбец couple_3_1 распределен нормально (p-value=0.314 > 0.05)\n",
      "Столбец couple_3_2 распределен нормально (p-value=0.841 > 0.05)\n",
      "\n",
      "4-ая Пара =======================================================\n",
      "Столбец couple_4_1 распределен нормально (p-value=0.513 > 0.05)\n",
      "Столбец couple_4_2 распределен нормально (p-value=0.599 > 0.05)\n",
      "\n",
      "5-ая Пара =======================================================\n",
      "Столбец couple_5_1 распределен нормально (p-value=0.712 > 0.05)\n",
      "Столбец couple_5_2 распределен нормально (p-value=0.243 > 0.05)\n",
      "\n",
      "6-ая Пара =======================================================\n",
      "Столбец couple_6_1 распределен нормально (p-value=0.542 > 0.05)\n",
      "Столбец couple_6_2 распределен не нормально (p-value=0.000 < 0.05)\n"
     ]
    }
   ],
   "source": [
    "def make_batches(container, batch_size=2):\r\n",
    "    return [container[i: i + batch_size] for i in range(0, len(container), batch_size)]\r\n",
    "\r\n",
    "\r\n",
    "columns = tuple(dataframe.columns)  # Названия столбцов\r\n",
    "pairs = make_batches(columns)  # Делаем пары из столбцов\r\n",
    "pairs_dict = {index: pair for index, pair in enumerate(pairs)}\r\n",
    "\r\n",
    "\r\n",
    "alpha = 0.05 # Уровень значимости\r\n",
    "\r\n",
    "normality = {}\r\n",
    "\r\n",
    "# Устанавливаем факт нормальности распределений\r\n",
    "for num, pair in enumerate(pairs, start=1):\r\n",
    "    print(f\"\\n{num}-ая Пара\", \"=\" * 55)\r\n",
    "    for column in pair:\r\n",
    "        test_result = scipy.stats.shapiro(dataframe[column])\r\n",
    "        is_normal = test_result.pvalue > alpha\r\n",
    "        normality[column] = is_normal\r\n",
    "\r\n",
    "        distribution = \"нормально\" if is_normal else \"не нормально\"\r\n",
    "        sign = \">\" if is_normal else \"<\"\r\n",
    "        print(f\"Столбец {column} распределен {distribution} (p-value={test_result.pvalue:.3f} {sign} {alpha})\")"
   ]
  },
  {
   "cell_type": "markdown",
   "metadata": {},
   "source": [
    "## Часть Б. Проверяем равенство дисперсий для каждой пары\r\n",
    "Для этого необходимо выдвинуть и проверить на заданном уровне значимости 𝛼 для каждой пары выборок гипотезу о равенстве двух дисперсий H<sub>0</sub> : 𝜎<sub>1</sub><sup>2</sup> = 𝜎<sub>2</sub><sup>2</sup>, при альтернативной H<sub>1</sub> : 𝜎<sub>1</sub><sup>2</sup> != 𝜎<sub>2</sub><sup>2</sup>\r\n",
    "\r\n",
    "Для проверки гипотез воспользуемся следующими критериями: критерий Фишера, критерий Барлетта, критерий Левене\r\n",
    "\r\n",
    "Так как критерий Фишера чувствителен к нормальности распределения, выберем для него те пары столбцов, в которы данные распределены по нормальному закону"
   ]
  },
  {
   "cell_type": "code",
   "execution_count": 5,
   "metadata": {},
   "outputs": [
    {
     "name": "stdout",
     "output_type": "stream",
     "text": [
      "Дисперсии в паре столбцов ('couple_1_1', 'couple_1_2') равны? False (p-value=0.000 < 0.05) [fisher]\n",
      "Дисперсии в паре столбцов ('couple_3_1', 'couple_3_2') равны? True (p-value=0.459 > 0.05) [fisher]\n",
      "Дисперсии в паре столбцов ('couple_4_1', 'couple_4_2') равны? True (p-value=0.515 > 0.05) [bartlett]\n",
      "Дисперсии в паре столбцов ('couple_5_1', 'couple_5_2') равны? False (p-value=0.000 < 0.05) [bartlett]\n",
      "Дисперсии в паре столбцов ('couple_2_1', 'couple_2_2') равны? True (p-value=0.291 > 0.05) [levene]\n",
      "Дисперсии в паре столбцов ('couple_6_1', 'couple_6_2') равны? False (p-value=0.036 < 0.05) [levene]\n"
     ]
    }
   ],
   "source": [
    "variance_equality = {}\r\n",
    "\r\n",
    "criterias_for_pairs = {\r\n",
    "    \"fisher\": [0, 2],\r\n",
    "    \"bartlett\": [3, 4],\r\n",
    "    \"levene\": [1, 5],\r\n",
    "}\r\n",
    "\r\n",
    "for criteria, indexes in criterias_for_pairs.items():\r\n",
    "    for index in indexes:\r\n",
    "        pair = pairs_dict[index]\r\n",
    "        col1, col2 = pair\r\n",
    "\r\n",
    "        if criteria == \"fisher\":\r\n",
    "            variance1, variance2 = np.var(dataframe[col1]), np.var(dataframe[col2])\r\n",
    "            F = max([variance1 / variance2, variance2 / variance1])\r\n",
    "            dfd, dfn = sorted([len(dataframe[col1]) - 1, len(dataframe[col2]) - 1])\r\n",
    "            p_value = scipy.stats.f.sf(F, dfn, dfd)\r\n",
    "\r\n",
    "        elif criteria == \"bartlett\":\r\n",
    "            _, p_value = scipy.stats.bartlett(dataframe[col1], dataframe[col2])\r\n",
    "\r\n",
    "        elif criteria == \"levene\": \r\n",
    "            _, p_value = scipy.stats.levene(dataframe[col1], dataframe[col2])\r\n",
    "\r\n",
    "        is_equal = p_value > alpha\r\n",
    "        variance_equality[pair] = is_equal\r\n",
    "\r\n",
    "        sign = \">\" if is_equal else \"<\"\r\n",
    "        print(f\"Дисперсии в паре столбцов {pair} равны? {is_equal} (p-value={p_value:.3f} {sign} {alpha}) [{criteria}]\")"
   ]
  },
  {
   "cell_type": "markdown",
   "metadata": {},
   "source": [
    "## Часть А. Проверить равенство выборочных средних для каждой пары.\r\n",
    "Для этого необходимо выдвинуть гипотезу о равенстве двух выборочных средних 𝐻: 𝑚1 = 𝑚2 при альтернативной 𝐻̅: 𝑚1 ≠ 𝑚2.\r\n",
    "\r\n",
    "Для проверки гипотез воспользуемся следующими критериями: 𝑧-критерий, 𝑡-критерий (критерий Стьюдента), 𝑈-критерий Манна – Уитни."
   ]
  },
  {
   "cell_type": "code",
   "execution_count": 6,
   "metadata": {},
   "outputs": [
    {
     "name": "stdout",
     "output_type": "stream",
     "text": [
      "Мат. ожидания в паре столбцов ('couple_1_1', 'couple_1_2') равны? True (p-value=0.063 > 0.05) [U-критерий Манна-Уитни]\n",
      "Мат. ожидания в паре столбцов ('couple_2_1', 'couple_2_2') равны? False (p-value=0.000 < 0.05) [z-критерий]\n",
      "Мат. ожидания в паре столбцов ('couple_3_1', 'couple_3_2') равны? False (p-value=0.009 < 0.05) [t-критерий]\n",
      "Мат. ожидания в паре столбцов ('couple_4_1', 'couple_4_2') равны? True (p-value=0.751 > 0.05) [t-критерий]\n",
      "Мат. ожидания в паре столбцов ('couple_5_1', 'couple_5_2') равны? False (p-value=0.000 < 0.05) [U-критерий Манна-Уитни]\n",
      "Мат. ожидания в паре столбцов ('couple_6_1', 'couple_6_2') равны? True (p-value=0.145 > 0.05) [U-критерий Манна-Уитни]\n"
     ]
    }
   ],
   "source": [
    "expected_value_equality = {}\r\n",
    "\r\n",
    "for pair in pairs:\r\n",
    "    col1, col2 = pair\r\n",
    "\r\n",
    "    if variance_equality[pair]:\r\n",
    "        if normality[col1] and normality[col2]:\r\n",
    "            criteria = \"t-критерий\"\r\n",
    "            f = scipy.stats.ttest_ind\r\n",
    "        else:\r\n",
    "            criteria = \"z-критерий\"\r\n",
    "            f = weightstats.ztest\r\n",
    "    else:\r\n",
    "        criteria = \"U-критерий Манна-Уитни\"\r\n",
    "        f = scipy.stats.mannwhitneyu\r\n",
    "\r\n",
    "    _, p_value = f(dataframe[col1], dataframe[col2])\r\n",
    "    is_equal = p_value > alpha\r\n",
    "    expected_value_equality[pair] = is_equal\r\n",
    "\r\n",
    "    sign = \">\" if is_equal else \"<\"\r\n",
    "    print(f\"Мат. ожидания в паре столбцов {pair} равны? {is_equal} (p-value={p_value:.3f} {sign} {alpha}) [{criteria}]\")"
   ]
  },
  {
   "cell_type": "markdown",
   "metadata": {},
   "source": [
    "## Задание 2. Дано 12 выборок заданного объема 𝑛 из генеральной совокупности неизвестных законов распределения. \r\n",
    "### Необходимо проверить равенство выборочных дисперсий.\r\n",
    "Для этого нужно выдвинуть и проверить на заданном уровне значимости 𝛼 гипотезу о равенстве выборочных дисперсий 𝐻: 𝜎̂1<sup>2</sup> = 𝜎̂2<sup>2</sup> = ⋯ = 𝜎̂𝑙<sup>2</sup> при альтернативной !𝐻: 𝜎̂𝑖<sup>2</sup> ≠ 𝜎̂𝑗<sup>2</sup>, 𝑖 ≠ 𝑗. \r\n",
    "\r\n",
    "Для проверки гипотез воспользуемся следующими критериями: критерий Кочрена, критерий Бартлетта, критерий Левене."
   ]
  },
  {
   "cell_type": "code",
   "execution_count": 7,
   "metadata": {},
   "outputs": [
    {
     "name": "stdout",
     "output_type": "stream",
     "text": [
      "Выборочные дисперсии равны? False (p-value=0.000 < 0.05) [bartlett]\n",
      "Выборочные дисперсии равны? False (p-value=0.000 < 0.05) [levene]\n"
     ]
    }
   ],
   "source": [
    "criteria_functions = [scipy.stats.bartlett, scipy.stats.levene]\r\n",
    "\r\n",
    "for criteria_function in criteria_functions:\r\n",
    "    _, p_value = criteria_function(*[dataframe[col] for col in columns if normality[col]]) \r\n",
    "    is_equal = p_value > alpha\r\n",
    "\r\n",
    "    sign = \">\" if is_equal else \"<\"\r\n",
    "    print(f\"Выборочные дисперсии равны? {is_equal} (p-value={p_value:.3f} {sign} {alpha}) [{criteria_function.__name__}]\")"
   ]
  },
  {
   "cell_type": "markdown",
   "metadata": {},
   "source": [
    "## Задание 3. \r\n",
    "- Генерируется выборка заданного объема 𝑛 (50) по нормальному закону распределения 𝑁(𝑚, 𝜎). \r\n",
    "- Исследуется и сравнивается поведение двух критериев согласия при нарушении предположения о нормальности 𝑋 = 𝑝𝑁(𝑚, 𝜎2) + (1 − 𝑝)𝐹, где F - распределение Стьюдента.  \r\n",
    "- Параметры распределений задаются самостоятельно. Величина 𝑝 изменяется от 0 до 1 с шагом 0.01. \r\n",
    "- Получаемые зависимости между выходными характеристиками и выбранными параметрами представляются в графической форме. \r\n",
    "- Исследуется поведение указанного критерия при варьировании параметров закона 𝐹."
   ]
  },
  {
   "cell_type": "code",
   "execution_count": 8,
   "metadata": {},
   "outputs": [
    {
     "name": "stdout",
     "output_type": "stream",
     "text": [
      "\n",
      "Sample #6 0.000 < 0.05 [Критерий Шапиро]\n",
      "Распределена ли выборка по нормальному закону?: True [Критерий Колмогорова-Смирнова]\n",
      "Распределена ли выборка по нормальному закону?: True [Критерий Хи-квадрат]\n",
      "\n",
      "Sample #8 1.000 < 0.05 [Критерий Шапиро]\n",
      "Распределена ли выборка по нормальному закону?: True [Критерий Колмогорова-Смирнова]\n",
      "Распределена ли выборка по нормальному закону?: False [Критерий Хи-квадрат]\n",
      "\n",
      "Sample #30 0.000 < 0.05 [Критерий Шапиро]\n",
      "Распределена ли выборка по нормальному закону?: True [Критерий Колмогорова-Смирнова]\n",
      "Распределена ли выборка по нормальному закону?: False [Критерий Хи-квадрат]\n",
      "\n",
      "Sample #44 0.000 < 0.05 [Критерий Шапиро]\n",
      "Распределена ли выборка по нормальному закону?: True [Критерий Колмогорова-Смирнова]\n",
      "Распределена ли выборка по нормальному закону?: False [Критерий Хи-квадрат]\n"
     ]
    },
    {
     "data": {
      "image/png": "[encoded data removed]",
      "text/plain": "<Figure size 1440x720 with 1 Axes>"
     },
     "metadata": {
      "needs_background": "light"
     },
     "output_type": "display_data"
    }
   ],
   "source": [
    "n = 50\r\n",
    "p_values = []\r\n",
    "\r\n",
    "for num, p in enumerate(np.arange(0, 1, 0.01), start=1):\r\n",
    "    use_normal_distribution = np.random.choice([True, False], size=n, p=[p, 1 - p])\r\n",
    "    sample = np.where(use_normal_distribution, np.random.normal(size=n), np.random.standard_t(df=n - 1, size=n))\r\n",
    "\r\n",
    "    shapiro_test = scipy.stats.shapiro(sample)\r\n",
    "    is_normal = shapiro_test.pvalue > alpha\r\n",
    "    p_values.append(shapiro_test.pvalue)\r\n",
    "\r\n",
    "    if is_normal:\r\n",
    "        continue\r\n",
    "    print(f\"\\nSample #{num} {p_value:.3f} < {alpha} [Критерий Шапиро]\")\r\n",
    "\r\n",
    "    _, p_value = scipy.stats.kstest(sample, \"norm\")\r\n",
    "    print(f\"Распределена ли выборка по нормальному закону?: {p_value > alpha} [Критерий Колмогорова-Смирнова]\")\r\n",
    "    _, p_value = scipy.stats.chisquare(sample)\r\n",
    "    print(f\"Распределена ли выборка по нормальному закону?: {p_value > alpha} [Критерий Хи-квадрат]\")\r\n",
    "\r\n",
    "\r\n",
    "x = np.arange(0, 1, 0.01)\r\n",
    "y = p_values\r\n",
    "\r\n",
    "plt.figure(figsize=(20,10))\r\n",
    "plt.scatter(x, y)\r\n",
    "plt.xlabel(\"Вероятность генерации не нормального распределения\")\r\n",
    "plt.ylabel(\"p-value\")\r\n",
    "plt.show()\r\n"
   ]
  },
  {
   "cell_type": "code",
   "execution_count": null,
   "metadata": {},
   "outputs": [],
   "source": []
  }
 ],
 "metadata": {
  "kernelspec": {
   "display_name": "Python 3.8.5 64-bit ('base': conda)",
   "name": "python385jvsc74a57bd086d711d8edd9a7e4da5ea0970306139b0261c59980634677d94522c88074b304"
  },
  "language_info": {
   "codemirror_mode": {
    "name": "ipython",
    "version": 3
   },
   "file_extension": ".py",
   "mimetype": "text/x-python",
   "name": "python",
   "nbconvert_exporter": "python",
   "pygments_lexer": "ipython3",
   "version": "3.8.5"
  },
  "metadata": {
   "interpreter": {
    "hash": "31ec593b7532e15836ef4e277fd30960d0cc1095a6cf852da19f4c11bcf0f387"
   }
  },
  "orig_nbformat": 2
 },
 "nbformat": 4,
 "nbformat_minor": 2
}