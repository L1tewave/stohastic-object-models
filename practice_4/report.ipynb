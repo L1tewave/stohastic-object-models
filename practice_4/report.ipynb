{
 "cells": [
  {
   "cell_type": "markdown",
   "metadata": {},
   "source": [
    "# Практическая работа №4. Дисперсионный анализ"
   ]
  },
  {
   "cell_type": "markdown",
   "metadata": {},
   "source": [
    "## Цели:\r\n",
    "- знакомство с теоретическими основами дисперсионного анализа;\r\n",
    "- формирование навыков выполнения многофакторного дисперсионного анализа с помощью языка программирования Python.\r\n",
    "## Задачи:\r\n",
    "- проверка гипотезы о равенстве групповых математических ожиданий.\r\n",
    "## Исходные данные:\r\n",
    "Успеваемость студентов на экзаменах (<a href=\"https://www.kaggle.com/spscientist/students-performance-in-exams\">Students Performance in Exams</a>). Датасет создан искуственно, в целях обучения data science."
   ]
  },
  {
   "cell_type": "code",
   "execution_count": 1,
   "metadata": {},
   "outputs": [],
   "source": [
    "# Импорты\r\n",
    "# a b c d e f g h i j k l m n o p q r s t u v w x y z\r\n",
    "import numpy as np\r\n",
    "import pandas as pd\r\n",
    "import matplotlib.pyplot as plt\r\n",
    "import time\r\n",
    "import seaborn as sns\r\n",
    "from scipy import stats\r\n",
    "from statsmodels.stats.multicomp import MultiComparison"
   ]
  },
  {
   "cell_type": "code",
   "execution_count": 2,
   "metadata": {},
   "outputs": [
    {
     "name": "stdout",
     "output_type": "stream",
     "text": [
      "<class 'pandas.core.frame.DataFrame'>\n",
      "RangeIndex: 1000 entries, 0 to 999\n",
      "Data columns (total 8 columns):\n",
      " #   Column                       Non-Null Count  Dtype \n",
      "---  ------                       --------------  ----- \n",
      " 0   gender                       1000 non-null   object\n",
      " 1   race/ethnicity               1000 non-null   object\n",
      " 2   parental level of education  1000 non-null   object\n",
      " 3   lunch                        1000 non-null   object\n",
      " 4   test preparation course      1000 non-null   object\n",
      " 5   math score                   1000 non-null   int64 \n",
      " 6   reading score                1000 non-null   int64 \n",
      " 7   writing score                1000 non-null   int64 \n",
      "dtypes: int64(3), object(5)\n",
      "memory usage: 62.6+ KB\n"
     ]
    }
   ],
   "source": [
    "dataframe = pd.read_csv(\"StudentsPerformance.csv\")\r\n",
    "dataframe.info()"
   ]
  },
  {
   "cell_type": "code",
   "execution_count": 3,
   "metadata": {},
   "outputs": [
    {
     "data": {
      "text/html": "<div>\n<style scoped>\n    .dataframe tbody tr th:only-of-type {\n        vertical-align: middle;\n    }\n\n    .dataframe tbody tr th {\n        vertical-align: top;\n    }\n\n    .dataframe thead th {\n        text-align: right;\n    }\n</style>\n<table border=\"1\" class=\"dataframe\">\n  <thead>\n    <tr style=\"text-align: right;\">\n      <th></th>\n      <th>gender</th>\n      <th>race/ethnicity</th>\n      <th>parental level of education</th>\n      <th>lunch</th>\n      <th>test preparation course</th>\n      <th>math score</th>\n      <th>reading score</th>\n      <th>writing score</th>\n    </tr>\n  </thead>\n  <tbody>\n    <tr>\n      <th>0</th>\n      <td>female</td>\n      <td>group B</td>\n      <td>bachelor's degree</td>\n      <td>standard</td>\n      <td>none</td>\n      <td>72</td>\n      <td>72</td>\n      <td>74</td>\n    </tr>\n    <tr>\n      <th>1</th>\n      <td>female</td>\n      <td>group C</td>\n      <td>some college</td>\n      <td>standard</td>\n      <td>completed</td>\n      <td>69</td>\n      <td>90</td>\n      <td>88</td>\n    </tr>\n    <tr>\n      <th>2</th>\n      <td>female</td>\n      <td>group B</td>\n      <td>master's degree</td>\n      <td>standard</td>\n      <td>none</td>\n      <td>90</td>\n      <td>95</td>\n      <td>93</td>\n    </tr>\n    <tr>\n      <th>3</th>\n      <td>male</td>\n      <td>group A</td>\n      <td>associate's degree</td>\n      <td>free/reduced</td>\n      <td>none</td>\n      <td>47</td>\n      <td>57</td>\n      <td>44</td>\n    </tr>\n    <tr>\n      <th>4</th>\n      <td>male</td>\n      <td>group C</td>\n      <td>some college</td>\n      <td>standard</td>\n      <td>none</td>\n      <td>76</td>\n      <td>78</td>\n      <td>75</td>\n    </tr>\n  </tbody>\n</table>\n</div>",
      "text/plain": "   gender race/ethnicity parental level of education         lunch  \\\n0  female        group B           bachelor's degree      standard   \n1  female        group C                some college      standard   \n2  female        group B             master's degree      standard   \n3    male        group A          associate's degree  free/reduced   \n4    male        group C                some college      standard   \n\n  test preparation course  math score  reading score  writing score  \n0                    none          72             72             74  \n1               completed          69             90             88  \n2                    none          90             95             93  \n3                    none          47             57             44  \n4                    none          76             78             75  "
     },
     "execution_count": 3,
     "metadata": {},
     "output_type": "execute_result"
    }
   ],
   "source": [
    "dataframe.head()"
   ]
  },
  {
   "cell_type": "code",
   "execution_count": 46,
   "metadata": {},
   "outputs": [
    {
     "name": "stdout",
     "output_type": "stream",
     "text": [
      "female    518\n",
      "male      482\n",
      "Name: gender, dtype: int64\n",
      "group C    319\n",
      "group D    262\n",
      "group B    190\n",
      "group E    140\n",
      "group A     89\n",
      "Name: race_ethnicity, dtype: int64\n",
      "some college          226\n",
      "associate's degree    222\n",
      "high school           196\n",
      "some high school      179\n",
      "bachelor's degree     118\n",
      "master's degree        59\n",
      "Name: parental_level_of_education, dtype: int64\n",
      "standard        645\n",
      "free/reduced    355\n",
      "Name: lunch, dtype: int64\n",
      "none         642\n",
      "completed    358\n",
      "Name: test_preparation_course, dtype: int64\n"
     ]
    }
   ],
   "source": [
    "new_columns = []\r\n",
    "for column in dataframe.columns:\r\n",
    "    new_columns.append(column.replace(\" \", \"_\").replace(\"/\", \"_\"))\r\n",
    "\r\n",
    "dataframe.columns = new_columns\r\n",
    "\r\n",
    "quantitative_columns = [*dataframe.columns[(dataframe.dtypes.values == np.dtype('int64'))]]\r\n",
    "categorical_columns = [*dataframe.columns[(dataframe.dtypes.values == np.dtype('object'))]]\r\n",
    "\r\n",
    "for column in categorical_columns:\r\n",
    "    print(dataframe[column].value_counts())"
   ]
  },
  {
   "cell_type": "code",
   "execution_count": 5,
   "metadata": {},
   "outputs": [
    {
     "data": {
      "text/plain": "<seaborn.axisgrid.FacetGrid at 0x166bd83d1c0>"
     },
     "execution_count": 5,
     "metadata": {},
     "output_type": "execute_result"
    },
    {
     "data": {
      "image/png": "[encoded data removed]",
      "text/plain": "<Figure size 360x360 with 1 Axes>"
     },
     "metadata": {
      "needs_background": "light"
     },
     "output_type": "display_data"
    }
   ],
   "source": [
    "dataframe[\"avg_score\"] = dataframe[['math_score', 'reading_score', 'writing_score']].mean(axis=1)\r\n",
    "\r\n",
    "sns.displot((dataframe.avg_score), kde=True)"
   ]
  },
  {
   "cell_type": "code",
   "execution_count": 124,
   "metadata": {},
   "outputs": [],
   "source": [
    "def make_groups(column, size=50, by=\"avg_score\", seed=int(time.time())):\r\n",
    "    groups = []\r\n",
    "    group_names = dataframe[column].unique()\r\n",
    "    for group_name in group_names:\r\n",
    "        group = dataframe[by][dataframe[column] == group_name].sample(size, random_state=seed)\r\n",
    "        groups.append(group)\r\n",
    "    return pd.DataFrame(data={f\"group{i}\": group.values for i, group in enumerate(groups, start=1)})\r\n",
    "\r\n",
    "groups1 = make_groups(\"race_ethnicity\", size=50, by=\"avg_score\")\r\n",
    "groups2 = make_groups(\"parental_level_of_education\", size=50, by=\"avg_score\")"
   ]
  },
  {
   "cell_type": "code",
   "execution_count": 30,
   "metadata": {},
   "outputs": [
    {
     "data": {
      "text/html": "<div>\n<style scoped>\n    .dataframe tbody tr th:only-of-type {\n        vertical-align: middle;\n    }\n\n    .dataframe tbody tr th {\n        vertical-align: top;\n    }\n\n    .dataframe thead th {\n        text-align: right;\n    }\n</style>\n<table border=\"1\" class=\"dataframe\">\n  <thead>\n    <tr style=\"text-align: right;\">\n      <th></th>\n      <th>group1</th>\n      <th>group2</th>\n      <th>group3</th>\n      <th>group4</th>\n      <th>group5</th>\n    </tr>\n  </thead>\n  <tbody>\n    <tr>\n      <th>0</th>\n      <td>59.666667</td>\n      <td>85.333333</td>\n      <td>56.0</td>\n      <td>76.000000</td>\n      <td>78.666667</td>\n    </tr>\n    <tr>\n      <th>1</th>\n      <td>64.333333</td>\n      <td>78.000000</td>\n      <td>64.0</td>\n      <td>53.333333</td>\n      <td>55.666667</td>\n    </tr>\n    <tr>\n      <th>2</th>\n      <td>87.000000</td>\n      <td>39.000000</td>\n      <td>59.0</td>\n      <td>73.333333</td>\n      <td>51.000000</td>\n    </tr>\n    <tr>\n      <th>3</th>\n      <td>81.333333</td>\n      <td>71.666667</td>\n      <td>67.0</td>\n      <td>76.000000</td>\n      <td>68.000000</td>\n    </tr>\n    <tr>\n      <th>4</th>\n      <td>84.000000</td>\n      <td>66.333333</td>\n      <td>59.0</td>\n      <td>79.333333</td>\n      <td>80.666667</td>\n    </tr>\n  </tbody>\n</table>\n</div>",
      "text/plain": "      group1     group2  group3     group4     group5\n0  59.666667  85.333333    56.0  76.000000  78.666667\n1  64.333333  78.000000    64.0  53.333333  55.666667\n2  87.000000  39.000000    59.0  73.333333  51.000000\n3  81.333333  71.666667    67.0  76.000000  68.000000\n4  84.000000  66.333333    59.0  79.333333  80.666667"
     },
     "execution_count": 30,
     "metadata": {},
     "output_type": "execute_result"
    }
   ],
   "source": [
    "groups1.head(5)"
   ]
  },
  {
   "cell_type": "markdown",
   "metadata": {},
   "source": [
    "## (#1) Проверка выборки на независимость (Тест $\\chi^2$ Пирсона)"
   ]
  },
  {
   "cell_type": "code",
   "execution_count": 18,
   "metadata": {},
   "outputs": [
    {
     "name": "stdout",
     "output_type": "stream",
     "text": [
      "Выборки независимы? False (p-value=0.000 < α=0.05)\n"
     ]
    }
   ],
   "source": [
    "ALHA_SYM = \"\\u03B1\"\r\n",
    "alpha = 0.05\r\n",
    "\r\n",
    "_, p_value, _, _ = stats.chi2_contingency(groups1, correction=False)\r\n",
    "is_independent = p_value >= alpha\r\n",
    "\r\n",
    "sign = \">=\" if is_independent else \"<\"\r\n",
    "print(f\"Выборки независимы? {is_independent} (p-value={p_value:.3f} {sign} {ALHA_SYM}={alpha})\")"
   ]
  },
  {
   "cell_type": "markdown",
   "metadata": {},
   "source": [
    "## (#2) Проверка выборки на нормальность распределений (Тест Шапиро-Уилка, тест Краскела-Уоллиса)"
   ]
  },
  {
   "cell_type": "code",
   "execution_count": 31,
   "metadata": {},
   "outputs": [
    {
     "name": "stdout",
     "output_type": "stream",
     "text": [
      "group1 распределена нормально? True (p-value=0.121 >= α=0.01)\n",
      "group2 распределена нормально? True (p-value=0.391 >= α=0.01)\n",
      "group3 распределена нормально? True (p-value=0.527 >= α=0.01)\n",
      "group4 распределена нормально? True (p-value=0.648 >= α=0.01)\n",
      "group5 распределена нормально? True (p-value=0.123 >= α=0.01)\n"
     ]
    }
   ],
   "source": [
    "alpha = 0.01\r\n",
    "\r\n",
    "for group in groups1.columns:\r\n",
    "    _, p_value = stats.shapiro(groups1[group].values)\r\n",
    "    is_normal = p_value >= alpha\r\n",
    "\r\n",
    "    sign = \">=\" if is_normal else \"<\"\r\n",
    "    print(f\"{group} распределена нормально? {is_normal} (p-value={p_value:.3f} {sign} {ALHA_SYM}={alpha})\")"
   ]
  },
  {
   "cell_type": "code",
   "execution_count": 32,
   "metadata": {},
   "outputs": [
    {
     "name": "stdout",
     "output_type": "stream",
     "text": [
      "Медианы в группах равны? False (p-value=0.009 < α=0.01)\n"
     ]
    }
   ],
   "source": [
    "alpha = 0.01\r\n",
    "\r\n",
    "_, p_value = stats.kruskal(*groups1.T.values)\r\n",
    "is_equal = p_value >= alpha\r\n",
    "\r\n",
    "sign = \">=\" if is_equal else \"<\"\r\n",
    "print(f\"Медианы в группах равны? {is_equal} (p-value={p_value:.3f} {sign} {ALHA_SYM}={alpha})\")"
   ]
  },
  {
   "cell_type": "markdown",
   "metadata": {},
   "source": [
    "## (#3) Проверка гипотезы об однородности дисперсий (Тест Левене)"
   ]
  },
  {
   "cell_type": "code",
   "execution_count": 33,
   "metadata": {},
   "outputs": [
    {
     "name": "stdout",
     "output_type": "stream",
     "text": [
      "Дисперсии однородны? True (p-value=0.627 >= α=0.05)\n"
     ]
    },
    {
     "data": {
      "text/plain": "<AxesSubplot:>"
     },
     "execution_count": 33,
     "metadata": {},
     "output_type": "execute_result"
    },
    {
     "data": {
      "image/png": "[encoded data removed]",
      "text/plain": "<Figure size 432x288 with 1 Axes>"
     },
     "metadata": {
      "needs_background": "light"
     },
     "output_type": "display_data"
    }
   ],
   "source": [
    "alpha = 0.05\r\n",
    "\r\n",
    "_, p_value = stats.levene(*groups1.T.values)\r\n",
    "is_equal = p_value >= alpha\r\n",
    "\r\n",
    "sign = \">=\" if is_equal else \"<\"\r\n",
    "print(f\"Дисперсии однородны? {is_equal} (p-value={p_value:.3f} {sign} {ALHA_SYM}={alpha})\")\r\n",
    "\r\n",
    "sns.boxplot(data=groups1)"
   ]
  },
  {
   "cell_type": "markdown",
   "metadata": {},
   "source": [
    "## (#4) Средние и стандартные отклонения по группе"
   ]
  },
  {
   "cell_type": "code",
   "execution_count": 34,
   "metadata": {},
   "outputs": [
    {
     "name": "stdout",
     "output_type": "stream",
     "text": [
      "Мат. ожидания\n",
      "group1    68.946667\n",
      "group2    68.446667\n",
      "group3    62.740000\n",
      "group4    70.426667\n",
      "group5    71.340000\n",
      "dtype: float64\n",
      "\n",
      "Стандартные отклонения\n",
      "group1    68.946667\n",
      "group2    68.446667\n",
      "group3    62.740000\n",
      "group4    70.426667\n",
      "group5    71.340000\n",
      "dtype: float64\n"
     ]
    }
   ],
   "source": [
    "means = groups1.mean()\r\n",
    "print(\"Мат. ожидания\")\r\n",
    "print(means)\r\n",
    "\r\n",
    "stds = groups1.mean()\r\n",
    "print(\"\\nСтандартные отклонения\")\r\n",
    "print(stds)"
   ]
  },
  {
   "cell_type": "markdown",
   "metadata": {},
   "source": [
    "## (#5) Проверка гипотезы о равенстве средних (ANOVA, Analysis of variance)\r\n",
    "### Однофакторный - влияние фактора не однозначно"
   ]
  },
  {
   "cell_type": "code",
   "execution_count": 35,
   "metadata": {},
   "outputs": [
    {
     "name": "stdout",
     "output_type": "stream",
     "text": [
      "Мат. ожидания однородны? False (p-value=0.023 < α=0.05)\n"
     ]
    }
   ],
   "source": [
    "alpha = 0.05\r\n",
    "\r\n",
    "_, p_value = stats.f_oneway(*groups1.T.values)\r\n",
    "is_equal = p_value >= alpha\r\n",
    "\r\n",
    "sign = \">=\" if is_equal else \"<\"\r\n",
    "print(f\"Мат. ожидания однородны? {is_equal} (p-value={p_value:.3f} {sign} {ALHA_SYM}={alpha})\")"
   ]
  },
  {
   "cell_type": "markdown",
   "metadata": {},
   "source": [
    "### Двухфакторный"
   ]
  },
  {
   "cell_type": "code",
   "execution_count": 131,
   "metadata": {},
   "outputs": [
    {
     "data": {
      "text/plain": "Index(['gender', 'race_ethnicity', 'parental_level_of_education', 'lunch',\n       'test_preparation_course', 'math_score', 'reading_score',\n       'writing_score', 'avg_score'],\n      dtype='object')"
     },
     "execution_count": 131,
     "metadata": {},
     "output_type": "execute_result"
    }
   ],
   "source": [
    "dataframe.columns"
   ]
  },
  {
   "cell_type": "code",
   "execution_count": 134,
   "metadata": {},
   "outputs": [
    {
     "data": {
      "text/html": "<div>\n<style scoped>\n    .dataframe tbody tr th:only-of-type {\n        vertical-align: middle;\n    }\n\n    .dataframe tbody tr th {\n        vertical-align: top;\n    }\n\n    .dataframe thead th {\n        text-align: right;\n    }\n</style>\n<table border=\"1\" class=\"dataframe\">\n  <thead>\n    <tr style=\"text-align: right;\">\n      <th></th>\n      <th>df</th>\n      <th>sum_sq</th>\n      <th>mean_sq</th>\n      <th>F</th>\n      <th>PR(&gt;F)</th>\n    </tr>\n  </thead>\n  <tbody>\n    <tr>\n      <th>C(race_ethnicity)</th>\n      <td>4.0</td>\n      <td>769.188350</td>\n      <td>192.297088</td>\n      <td>0.892798</td>\n      <td>0.469512</td>\n    </tr>\n    <tr>\n      <th>C(parental_level_of_education)</th>\n      <td>4.0</td>\n      <td>1254.233079</td>\n      <td>313.558270</td>\n      <td>1.455790</td>\n      <td>0.217728</td>\n    </tr>\n    <tr>\n      <th>C(race_ethnicity):C(parental_level_of_education)</th>\n      <td>16.0</td>\n      <td>4890.885836</td>\n      <td>305.680365</td>\n      <td>1.419214</td>\n      <td>0.137202</td>\n    </tr>\n    <tr>\n      <th>Residual</th>\n      <td>175.0</td>\n      <td>37692.732179</td>\n      <td>215.387041</td>\n      <td>NaN</td>\n      <td>NaN</td>\n    </tr>\n  </tbody>\n</table>\n</div>",
      "text/plain": "                                                     df        sum_sq  \\\nC(race_ethnicity)                                   4.0    769.188350   \nC(parental_level_of_education)                      4.0   1254.233079   \nC(race_ethnicity):C(parental_level_of_education)   16.0   4890.885836   \nResidual                                          175.0  37692.732179   \n\n                                                     mean_sq         F  \\\nC(race_ethnicity)                                 192.297088  0.892798   \nC(parental_level_of_education)                    313.558270  1.455790   \nC(race_ethnicity):C(parental_level_of_education)  305.680365  1.419214   \nResidual                                          215.387041       NaN   \n\n                                                    PR(>F)  \nC(race_ethnicity)                                 0.469512  \nC(parental_level_of_education)                    0.217728  \nC(race_ethnicity):C(parental_level_of_education)  0.137202  \nResidual                                               NaN  "
     },
     "execution_count": 134,
     "metadata": {},
     "output_type": "execute_result"
    }
   ],
   "source": [
    "import statsmodels.api as sm\r\n",
    "from statsmodels.formula.api import ols\r\n",
    "\r\n",
    "variable = \"avg_score\"\r\n",
    "factor1 = \"race_ethnicity\"\r\n",
    "factor2 = \"parental_level_of_education\"\r\n",
    "\r\n",
    "model = ols(f\"{variable} ~ C({factor1}) + C({factor2}) + C({factor1}):C({factor2})\", dataframe.sample(200)).fit()\r\n",
    "sm.stats.anova_lm(model)"
   ]
  },
  {
   "cell_type": "markdown",
   "metadata": {},
   "source": [
    "Вывод:\r\n",
    "- Факторы по отдельности имеют существенное влияние на зависимую переменную.\r\n",
    "- Два фактора вместе не оказывают существенного влияния на зависимую переменную."
   ]
  },
  {
   "cell_type": "markdown",
   "metadata": {},
   "source": [
    "## (#6) Как группы различаются между собой? (Тест Тьюки)"
   ]
  },
  {
   "cell_type": "code",
   "execution_count": 36,
   "metadata": {},
   "outputs": [],
   "source": [
    "stacked = groups1.stack().reset_index()\r\n",
    "stacked = stacked.rename(columns={\r\n",
    "    \"level_0\": \"id\",\r\n",
    "    \"level_1\": \"group\",\r\n",
    "    0: \"result\",\r\n",
    "})"
   ]
  },
  {
   "cell_type": "code",
   "execution_count": 38,
   "metadata": {},
   "outputs": [
    {
     "name": "stdout",
     "output_type": "stream",
     "text": [
      " Multiple Comparison of Means - Tukey HSD, FWER=0.05 \n",
      "=====================================================\n",
      "group1 group2 meandiff p-adj   lower    upper  reject\n",
      "-----------------------------------------------------\n",
      "group1 group2     -0.5    0.9  -8.1772  7.1772  False\n",
      "group1 group3  -6.2067  0.175 -13.8838  1.4705  False\n",
      "group1 group4     1.48    0.9  -6.1972  9.1572  False\n",
      "group1 group5   2.3933    0.9  -5.2838 10.0705  False\n",
      "group2 group3  -5.7067 0.2488 -13.3838  1.9705  False\n",
      "group2 group4     1.98    0.9  -5.6972  9.6572  False\n",
      "group2 group5   2.8933 0.8174  -4.7838 10.5705  False\n",
      "group3 group4   7.6867 0.0495   0.0095 15.3638   True\n",
      "group3 group5      8.6 0.0195   0.9228 16.2772   True\n",
      "group4 group5   0.9133    0.9  -6.7638  8.5905  False\n",
      "-----------------------------------------------------\n"
     ]
    },
    {
     "name": "stderr",
     "output_type": "stream",
     "text": [
      "C:\\Users\\igork\\anaconda3\\lib\\site-packages\\statsmodels\\sandbox\\stats\\multicomp.py:775: UserWarning: FixedFormatter should only be used together with FixedLocator\n",
      "  ax1.set_yticklabels(np.insert(self.groupsunique.astype(str), 0, ''))\n"
     ]
    },
    {
     "data": {
      "image/png": "[encoded data removed]",
      "text/plain": "<Figure size 720x432 with 1 Axes>"
     },
     "metadata": {
      "needs_background": "light"
     },
     "output_type": "display_data"
    }
   ],
   "source": [
    "alpha = 0.05\r\n",
    "\r\n",
    "multi_comparison = MultiComparison(stacked['result'], stacked['group'])\r\n",
    "results = multi_comparison.tukeyhsd(alpha)\r\n",
    "\r\n",
    "print(results.summary())\r\n",
    "\r\n",
    "fig = results.plot_simultaneous(xlabel='Значение зависимой переменной')\r\n",
    "fig.get_axes()[0].title.set_text('Средние значения')"
   ]
  },
  {
   "cell_type": "markdown",
   "metadata": {},
   "source": [
    "Видно, что значения доверительного интервала среднего значения в третьей группе значительно отличается от других."
   ]
  },
  {
   "cell_type": "markdown",
   "metadata": {},
   "source": [
    "## Вывод:\r\n",
    "В ходе выполнения лабораторной работы было осуществлено знакомство с теоретическими основами дисперсионного анализа, сформированы навыки выполнения многофакторного дисперсионного анализа с помощью языка программирования Python."
   ]
  }
 ],
 "metadata": {
  "kernelspec": {
   "display_name": "Python 3.8.5 64-bit ('base': conda)",
   "name": "python385jvsc74a57bd0c9c18168ffd4c3bb67d52a8e0569137d14bf7e04130deee71b99de4ade233da8"
  },
  "language_info": {
   "name": "python",
   "version": ""
  },
  "orig_nbformat": 2
 },
 "nbformat": 4,
 "nbformat_minor": 2
}