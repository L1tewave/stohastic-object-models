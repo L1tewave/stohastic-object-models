{
 "cells": [
  {
   "cell_type": "markdown",
   "metadata": {},
   "source": [
    "# Практическая работа №4. Дисперсионный анализ"
   ]
  },
  {
   "cell_type": "markdown",
   "metadata": {},
   "source": [
    "## Цели:\r\n",
    "- знакомство с теоретическими основами дисперсионного анализа;\r\n",
    "- формирование навыков выполнения многофакторного дисперсионного анализа с помощью языка программирования Python.\r\n",
    "## Задачи:\r\n",
    "- проверка гипотезы о равенстве групповых математических ожиданий.\r\n",
    "## Исходные данные:\r\n",
    "Успеваемость студентов на экзаменах (<a href=\"https://www.kaggle.com/spscientist/students-performance-in-exams\">Students Performance in Exams</a>)"
   ]
  },
  {
   "cell_type": "code",
   "execution_count": 36,
   "metadata": {},
   "outputs": [],
   "source": [
    "# Импорты\r\n",
    "# a b c d e f g h i j k l m n o p q r s t u v w x y z\r\n",
    "import numpy as np\r\n",
    "import pandas as pd\r\n",
    "import matplotlib.pyplot as plt\r\n",
    "import time\r\n",
    "import seaborn as sns\r\n",
    "from scipy import stats\r\n",
    "from statsmodels.stats.multicomp import MultiComparison"
   ]
  },
  {
   "cell_type": "code",
   "execution_count": 2,
   "metadata": {},
   "outputs": [
    {
     "name": "stdout",
     "output_type": "stream",
     "text": [
      "<class 'pandas.core.frame.DataFrame'>\n",
      "RangeIndex: 1000 entries, 0 to 999\n",
      "Data columns (total 8 columns):\n",
      " #   Column                       Non-Null Count  Dtype \n",
      "---  ------                       --------------  ----- \n",
      " 0   gender                       1000 non-null   object\n",
      " 1   race/ethnicity               1000 non-null   object\n",
      " 2   parental level of education  1000 non-null   object\n",
      " 3   lunch                        1000 non-null   object\n",
      " 4   test preparation course      1000 non-null   object\n",
      " 5   math score                   1000 non-null   int64 \n",
      " 6   reading score                1000 non-null   int64 \n",
      " 7   writing score                1000 non-null   int64 \n",
      "dtypes: int64(3), object(5)\n",
      "memory usage: 62.6+ KB\n"
     ]
    }
   ],
   "source": [
    "dataframe = pd.read_csv(\"StudentsPerformance.csv\")\r\n",
    "dataframe.info()"
   ]
  },
  {
   "cell_type": "code",
   "execution_count": 3,
   "metadata": {},
   "outputs": [
    {
     "data": {
      "text/html": "<div>\n<style scoped>\n    .dataframe tbody tr th:only-of-type {\n        vertical-align: middle;\n    }\n\n    .dataframe tbody tr th {\n        vertical-align: top;\n    }\n\n    .dataframe thead th {\n        text-align: right;\n    }\n</style>\n<table border=\"1\" class=\"dataframe\">\n  <thead>\n    <tr style=\"text-align: right;\">\n      <th></th>\n      <th>gender</th>\n      <th>race/ethnicity</th>\n      <th>parental level of education</th>\n      <th>lunch</th>\n      <th>test preparation course</th>\n      <th>math score</th>\n      <th>reading score</th>\n      <th>writing score</th>\n    </tr>\n  </thead>\n  <tbody>\n    <tr>\n      <th>0</th>\n      <td>female</td>\n      <td>group B</td>\n      <td>bachelor's degree</td>\n      <td>standard</td>\n      <td>none</td>\n      <td>72</td>\n      <td>72</td>\n      <td>74</td>\n    </tr>\n    <tr>\n      <th>1</th>\n      <td>female</td>\n      <td>group C</td>\n      <td>some college</td>\n      <td>standard</td>\n      <td>completed</td>\n      <td>69</td>\n      <td>90</td>\n      <td>88</td>\n    </tr>\n    <tr>\n      <th>2</th>\n      <td>female</td>\n      <td>group B</td>\n      <td>master's degree</td>\n      <td>standard</td>\n      <td>none</td>\n      <td>90</td>\n      <td>95</td>\n      <td>93</td>\n    </tr>\n    <tr>\n      <th>3</th>\n      <td>male</td>\n      <td>group A</td>\n      <td>associate's degree</td>\n      <td>free/reduced</td>\n      <td>none</td>\n      <td>47</td>\n      <td>57</td>\n      <td>44</td>\n    </tr>\n    <tr>\n      <th>4</th>\n      <td>male</td>\n      <td>group C</td>\n      <td>some college</td>\n      <td>standard</td>\n      <td>none</td>\n      <td>76</td>\n      <td>78</td>\n      <td>75</td>\n    </tr>\n  </tbody>\n</table>\n</div>",
      "text/plain": "   gender race/ethnicity parental level of education         lunch  \\\n0  female        group B           bachelor's degree      standard   \n1  female        group C                some college      standard   \n2  female        group B             master's degree      standard   \n3    male        group A          associate's degree  free/reduced   \n4    male        group C                some college      standard   \n\n  test preparation course  math score  reading score  writing score  \n0                    none          72             72             74  \n1               completed          69             90             88  \n2                    none          90             95             93  \n3                    none          47             57             44  \n4                    none          76             78             75  "
     },
     "execution_count": 3,
     "metadata": {},
     "output_type": "execute_result"
    }
   ],
   "source": [
    "dataframe.head()"
   ]
  },
  {
   "cell_type": "code",
   "execution_count": 4,
   "metadata": {},
   "outputs": [
    {
     "name": "stdout",
     "output_type": "stream",
     "text": [
      "female    518\n",
      "male      482\n",
      "Name: gender, dtype: int64\n",
      "group C    319\n",
      "group D    262\n",
      "group B    190\n",
      "group E    140\n",
      "group A     89\n",
      "Name: race/ethnicity, dtype: int64\n",
      "some college          226\n",
      "associate's degree    222\n",
      "high school           196\n",
      "some high school      179\n",
      "bachelor's degree     118\n",
      "master's degree        59\n",
      "Name: parental_level_of_education, dtype: int64\n",
      "standard        645\n",
      "free/reduced    355\n",
      "Name: lunch, dtype: int64\n",
      "none         642\n",
      "completed    358\n",
      "Name: test_preparation_course, dtype: int64\n"
     ]
    }
   ],
   "source": [
    "new_columns = []\r\n",
    "for column in dataframe.columns:\r\n",
    "    new_columns.append(column.replace(\" \", \"_\"))\r\n",
    "\r\n",
    "dataframe.columns = new_columns\r\n",
    "\r\n",
    "quantitative_columns = [*dataframe.columns[(dataframe.dtypes.values == np.dtype('int64'))]]\r\n",
    "categorical_columns = [*dataframe.columns[(dataframe.dtypes.values == np.dtype('object'))]]\r\n",
    "\r\n",
    "for column in categorical_columns:\r\n",
    "    print(dataframe[column].value_counts())"
   ]
  },
  {
   "cell_type": "code",
   "execution_count": 5,
   "metadata": {},
   "outputs": [
    {
     "data": {
      "text/plain": "<seaborn.axisgrid.FacetGrid at 0x273c46b45b0>"
     },
     "execution_count": 5,
     "metadata": {},
     "output_type": "execute_result"
    },
    {
     "data": {
      "image/png": "[encoded data removed]",
      "text/plain": "<Figure size 360x360 with 1 Axes>"
     },
     "metadata": {
      "needs_background": "light"
     },
     "output_type": "display_data"
    }
   ],
   "source": [
    "dataframe[\"avg_score\"] = dataframe[['math_score', 'reading_score', 'writing_score']].mean(axis=1)\r\n",
    "\r\n",
    "sns.displot((dataframe.avg_score), kde=True)"
   ]
  },
  {
   "cell_type": "code",
   "execution_count": 16,
   "metadata": {},
   "outputs": [],
   "source": [
    "def make_groups(column, size=50, by=\"avg_score\", seed=int(time.time())):\r\n",
    "    groups = []\r\n",
    "    group_names = dataframe[column].unique()\r\n",
    "    for group_name in group_names:\r\n",
    "        group = dataframe[by][dataframe[column] == group_name].sample(size, random_state=seed)\r\n",
    "        groups.append(group)\r\n",
    "    return pd.DataFrame(data={f\"group{i}\": group.values for i, group in enumerate(groups, start=1)})\r\n",
    "\r\n",
    "groups1 = make_groups(\"race/ethnicity\", 50, by=\"avg_score\")\r\n",
    "groups2 = make_groups(\"parental_level_of_education\", 50, by=\"avg_score\")"
   ]
  },
  {
   "cell_type": "markdown",
   "metadata": {},
   "source": [
    "## (#1) Проверка выборки на независимость (Тест $\\chi^2$ Пирсона)"
   ]
  },
  {
   "cell_type": "code",
   "execution_count": 33,
   "metadata": {},
   "outputs": [
    {
     "name": "stdout",
     "output_type": "stream",
     "text": [
      "Выборки независимы? False (p-value=0.000 < α=0.05)\n"
     ]
    }
   ],
   "source": [
    "ALHA_SYM = \"\\u03B1\"\r\n",
    "alpha = 0.05\r\n",
    "\r\n",
    "_, p_value, _, _ = stats.chi2_contingency(groups1, correction=False)\r\n",
    "is_independent = p_value >= alpha\r\n",
    "\r\n",
    "sign = \">=\" if is_independent else \"<\"\r\n",
    "print(f\"Выборки независимы? {is_independent} (p-value={p_value:.3f} {sign} {ALHA_SYM}={alpha})\")"
   ]
  },
  {
   "cell_type": "markdown",
   "metadata": {},
   "source": [
    "## (#2) Проверка выборки на нормальность распределений (Тест Шапиро-Уилка, тест Краскела-Уоллиса)"
   ]
  },
  {
   "cell_type": "code",
   "execution_count": 18,
   "metadata": {},
   "outputs": [
    {
     "name": "stdout",
     "output_type": "stream",
     "text": [
      "group1 распределена нормально? True (p-value=0.148 >= α=0.01)\n",
      "group2 распределена нормально? False (p-value=0.009 < α=0.01)\n",
      "group3 распределена нормально? True (p-value=0.310 >= α=0.01)\n",
      "group4 распределена нормально? True (p-value=0.673 >= α=0.01)\n",
      "group5 распределена нормально? True (p-value=0.289 >= α=0.01)\n"
     ]
    }
   ],
   "source": [
    "alpha = 0.01\r\n",
    "\r\n",
    "for group in groups1.columns:\r\n",
    "    _, p_value = stats.shapiro(groups1[group].values)\r\n",
    "    is_normal = p_value >= alpha\r\n",
    "\r\n",
    "    sign = \">=\" if is_normal else \"<\"\r\n",
    "    print(f\"{group} распределена нормально? {is_normal} (p-value={p_value:.3f} {sign} {ALHA_SYM}={alpha})\")"
   ]
  },
  {
   "cell_type": "code",
   "execution_count": 17,
   "metadata": {},
   "outputs": [
    {
     "name": "stdout",
     "output_type": "stream",
     "text": [
      "Медианы в группах равны? True (p-value=0.011 >= α=0.01)\n"
     ]
    }
   ],
   "source": [
    "alpha = 0.01\r\n",
    "\r\n",
    "_, p_value = stats.kruskal(*groups1.T.values)\r\n",
    "is_equal = p_value >= alpha\r\n",
    "\r\n",
    "sign = \">=\" if is_equal else \"<\"\r\n",
    "print(f\"Медианы в группах равны? {is_equal} (p-value={p_value:.3f} {sign} {ALHA_SYM}={alpha})\")"
   ]
  },
  {
   "cell_type": "markdown",
   "metadata": {},
   "source": [
    "## (#3) Проверка гипотезы об однородности дисперсий (Тест Левене)"
   ]
  },
  {
   "cell_type": "code",
   "execution_count": 19,
   "metadata": {},
   "outputs": [
    {
     "name": "stdout",
     "output_type": "stream",
     "text": [
      "Дисперсии однородны? True (p-value=0.268 >= α=0.05)\n"
     ]
    },
    {
     "data": {
      "text/plain": "<AxesSubplot:>"
     },
     "execution_count": 19,
     "metadata": {},
     "output_type": "execute_result"
    },
    {
     "data": {
      "image/png": "[encoded data removed]",
      "text/plain": "<Figure size 432x288 with 1 Axes>"
     },
     "metadata": {
      "needs_background": "light"
     },
     "output_type": "display_data"
    }
   ],
   "source": [
    "alpha = 0.05\r\n",
    "_, p_value = stats.levene(*groups1.T.values)\r\n",
    "is_equal = p_value >= alpha\r\n",
    "\r\n",
    "sign = \">=\" if is_equal else \"<\"\r\n",
    "print(f\"Дисперсии однородны? {is_equal} (p-value={p_value:.3f} {sign} {ALHA_SYM}={alpha})\")\r\n",
    "sns.boxplot(data=groups1)"
   ]
  },
  {
   "cell_type": "markdown",
   "metadata": {},
   "source": [
    "## (#4) Средние и стандартные отклонения по группе"
   ]
  },
  {
   "cell_type": "code",
   "execution_count": 35,
   "metadata": {},
   "outputs": [
    {
     "name": "stdout",
     "output_type": "stream",
     "text": [
      "Мат. ожидания\n",
      "group1    64.453333\n",
      "group2    68.640000\n",
      "group3    64.560000\n",
      "group4    69.460000\n",
      "group5    73.273333\n",
      "dtype: float64\n",
      "\n",
      "Стандартные отклонения\n",
      "group1    64.453333\n",
      "group2    68.640000\n",
      "group3    64.560000\n",
      "group4    69.460000\n",
      "group5    73.273333\n",
      "dtype: float64\n"
     ]
    }
   ],
   "source": [
    "means = groups1.mean()\r\n",
    "print(\"Мат. ожидания\")\r\n",
    "print(means)\r\n",
    "\r\n",
    "stds = groups1.mean()\r\n",
    "print(\"\\nСтандартные отклонения\")\r\n",
    "print(stds)"
   ]
  },
  {
   "cell_type": "markdown",
   "metadata": {},
   "source": [
    "## (#5) Проверка гипотезы о равенстве средних (ANOVA, Analysis of variance)"
   ]
  },
  {
   "cell_type": "code",
   "execution_count": 30,
   "metadata": {},
   "outputs": [
    {
     "name": "stdout",
     "output_type": "stream",
     "text": [
      "Мат. ожидания однородны? False (p-value=0.015 < α=0.05)\n"
     ]
    }
   ],
   "source": [
    "_, p_value = stats.f_oneway(*groups1.T.values)\r\n",
    "is_equal = p_value >= alpha\r\n",
    "\r\n",
    "sign = \">=\" if is_equal else \"<\"\r\n",
    "print(f\"Мат. ожидания однородны? {is_equal} (p-value={p_value:.3f} {sign} {ALHA_SYM}={alpha})\")"
   ]
  },
  {
   "cell_type": "markdown",
   "metadata": {},
   "source": [
    "## (#6) Как группы различаются между собой? (Тест Тьюки)"
   ]
  },
  {
   "cell_type": "code",
   "execution_count": 41,
   "metadata": {},
   "outputs": [],
   "source": [
    "stacked = groups1.stack().reset_index()\r\n",
    "stacked = stacked.rename(columns={\r\n",
    "    \"level_0\": \"id\",\r\n",
    "    \"level_1\": \"group\",\r\n",
    "    0: \"result\",\r\n",
    "})\r\n"
   ]
  },
  {
   "cell_type": "code",
   "execution_count": 42,
   "metadata": {},
   "outputs": [
    {
     "name": "stdout",
     "output_type": "stream",
     "text": [
      " Multiple Comparison of Means - Tukey HSD, FWER=0.05 \n",
      "=====================================================\n",
      "group1 group2 meandiff p-adj   lower    upper  reject\n",
      "-----------------------------------------------------\n",
      "group1 group2   4.1867 0.5976    -3.89 12.2633  False\n",
      "group1 group3   0.1067    0.9    -7.97  8.1833  False\n",
      "group1 group4   5.0067 0.4353    -3.07 13.0833  False\n",
      "group1 group5     8.82 0.0245   0.7433 16.8967   True\n",
      "group2 group3    -4.08 0.6182 -12.1567  3.9967  False\n",
      "group2 group4     0.82    0.9  -7.2567  8.8967  False\n",
      "group2 group5   4.6333 0.5118  -3.4433   12.71  False\n",
      "group3 group4      4.9 0.4575  -3.1767 12.9767  False\n",
      "group3 group5   8.7133 0.0273   0.6367   16.79   True\n",
      "group4 group5   3.8133 0.6694  -4.2633   11.89  False\n",
      "-----------------------------------------------------\n"
     ]
    },
    {
     "name": "stderr",
     "output_type": "stream",
     "text": [
      "C:\\Users\\igork\\anaconda3\\lib\\site-packages\\statsmodels\\sandbox\\stats\\multicomp.py:775: UserWarning: FixedFormatter should only be used together with FixedLocator\n",
      "  ax1.set_yticklabels(np.insert(self.groupsunique.astype(str), 0, ''))\n"
     ]
    },
    {
     "data": {
      "image/png": "[encoded data removed]",
      "text/plain": "<Figure size 720x432 with 1 Axes>"
     },
     "metadata": {
      "needs_background": "light"
     },
     "output_type": "display_data"
    }
   ],
   "source": [
    "multi_comparison = MultiComparison(stacked['result'], stacked['group'])\r\n",
    "\r\n",
    "results = multi_comparison.tukeyhsd(alpha)\r\n",
    "\r\n",
    "print(results.summary())\r\n",
    "\r\n",
    "fig = results.plot_simultaneous(xlabel='Значение зависимой переменной')\r\n",
    "fig.get_axes()[0].title.set_text('Средние значения')"
   ]
  },
  {
   "cell_type": "code",
   "execution_count": null,
   "metadata": {},
   "outputs": [],
   "source": []
  }
 ],
 "metadata": {
  "kernelspec": {
   "display_name": "Python 3.8.5 64-bit ('base': conda)",
   "name": "python385jvsc74a57bd086d711d8edd9a7e4da5ea0970306139b0261c59980634677d94522c88074b304"
  },
  "language_info": {
   "codemirror_mode": {
    "name": "ipython",
    "version": 3
   },
   "file_extension": ".py",
   "mimetype": "text/x-python",
   "name": "python",
   "nbconvert_exporter": "python",
   "pygments_lexer": "ipython3",
   "version": "3.8.5"
  },
  "orig_nbformat": 2
 },
 "nbformat": 4,
 "nbformat_minor": 2
}