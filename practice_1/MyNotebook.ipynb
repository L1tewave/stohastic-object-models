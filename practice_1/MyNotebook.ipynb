{
 "cells": [
  {
   "cell_type": "markdown",
   "metadata": {},
   "source": [
    "# Первая практическая работа"
   ]
  },
  {
   "cell_type": "markdown",
   "metadata": {},
   "source": [
    "Задачи:\n",
    "- Генерация выборки (подбор готового датасета);\n",
    "- Расчет выборочных характеристик;\n",
    "- Визуальный анализ данных;\n",
    "- Преобразование данных."
   ]
  },
  {
   "cell_type": "markdown",
   "metadata": {},
   "source": [
    "## Libraries"
   ]
  },
  {
   "cell_type": "code",
   "execution_count": 2,
   "metadata": {},
   "outputs": [],
   "source": [
    "import matplotlib.pyplot as plt\n",
    "import seaborn as sns\n",
    "import pandas as pd\n",
    "import numpy as np\n",
    "\n",
    "%matplotlib inline"
   ]
  },
  {
   "cell_type": "markdown",
   "metadata": {},
   "source": [
    "## Датасет"
   ]
  },
  {
   "cell_type": "markdown",
   "metadata": {},
   "source": [
    "Датасет содержит данные об открытых экзопланетах. Данные были первоначально собраны и продолжают обновляться Ханно Рейном в открытом репозитории [OpenExoplanetCatalogue](https://github.com/OpenExoplanetCatalogue/open_exoplanet_catalogue)."
   ]
  },
  {
   "cell_type": "code",
   "execution_count": 39,
   "metadata": {},
   "outputs": [],
   "source": [
    "data = pd.read_csv(\"dataset/oec.csv\", delimiter=\",\")"
   ]
  },
  {
   "cell_type": "code",
   "execution_count": 40,
   "metadata": {},
   "outputs": [
    {
     "data": {
      "text/html": [
       "<div>\n",
       "<style scoped>\n",
       "    .dataframe tbody tr th:only-of-type {\n",
       "        vertical-align: middle;\n",
       "    }\n",
       "\n",
       "    .dataframe tbody tr th {\n",
       "        vertical-align: top;\n",
       "    }\n",
       "\n",
       "    .dataframe thead th {\n",
       "        text-align: right;\n",
       "    }\n",
       "</style>\n",
       "<table border=\"1\" class=\"dataframe\">\n",
       "  <thead>\n",
       "    <tr style=\"text-align: right;\">\n",
       "      <th></th>\n",
       "      <th>PlanetIdentifier</th>\n",
       "      <th>TypeFlag</th>\n",
       "      <th>PlanetaryMassJpt</th>\n",
       "      <th>RadiusJpt</th>\n",
       "      <th>PeriodDays</th>\n",
       "      <th>SemiMajorAxisAU</th>\n",
       "      <th>Eccentricity</th>\n",
       "      <th>PeriastronDeg</th>\n",
       "      <th>LongitudeDeg</th>\n",
       "      <th>AscendingNodeDeg</th>\n",
       "      <th>...</th>\n",
       "      <th>LastUpdated</th>\n",
       "      <th>RightAscension</th>\n",
       "      <th>Declination</th>\n",
       "      <th>DistFromSunParsec</th>\n",
       "      <th>HostStarMassSlrMass</th>\n",
       "      <th>HostStarRadiusSlrRad</th>\n",
       "      <th>HostStarMetallicity</th>\n",
       "      <th>HostStarTempK</th>\n",
       "      <th>HostStarAgeGyr</th>\n",
       "      <th>ListsPlanetIsOn</th>\n",
       "    </tr>\n",
       "  </thead>\n",
       "  <tbody>\n",
       "    <tr>\n",
       "      <th>0</th>\n",
       "      <td>HD 143761 b</td>\n",
       "      <td>0</td>\n",
       "      <td>1.0450</td>\n",
       "      <td>NaN</td>\n",
       "      <td>39.845800</td>\n",
       "      <td>0.2196</td>\n",
       "      <td>0.037</td>\n",
       "      <td>270.6</td>\n",
       "      <td>NaN</td>\n",
       "      <td>NaN</td>\n",
       "      <td>...</td>\n",
       "      <td>16/07/11</td>\n",
       "      <td>16 01 03</td>\n",
       "      <td>+33 18 13</td>\n",
       "      <td>17.236</td>\n",
       "      <td>0.889</td>\n",
       "      <td>1.362</td>\n",
       "      <td>-0.31</td>\n",
       "      <td>5627.0</td>\n",
       "      <td>NaN</td>\n",
       "      <td>Confirmed planets</td>\n",
       "    </tr>\n",
       "    <tr>\n",
       "      <th>1</th>\n",
       "      <td>HD 143761 c</td>\n",
       "      <td>0</td>\n",
       "      <td>0.0790</td>\n",
       "      <td>NaN</td>\n",
       "      <td>102.540000</td>\n",
       "      <td>0.4123</td>\n",
       "      <td>0.050</td>\n",
       "      <td>190.0</td>\n",
       "      <td>NaN</td>\n",
       "      <td>NaN</td>\n",
       "      <td>...</td>\n",
       "      <td>16/07/11</td>\n",
       "      <td>16 01 03</td>\n",
       "      <td>+33 18 13</td>\n",
       "      <td>17.236</td>\n",
       "      <td>0.889</td>\n",
       "      <td>1.362</td>\n",
       "      <td>-0.31</td>\n",
       "      <td>5627.0</td>\n",
       "      <td>NaN</td>\n",
       "      <td>Confirmed planets</td>\n",
       "    </tr>\n",
       "    <tr>\n",
       "      <th>2</th>\n",
       "      <td>KOI-1843.03</td>\n",
       "      <td>0</td>\n",
       "      <td>0.0014</td>\n",
       "      <td>0.054</td>\n",
       "      <td>0.176891</td>\n",
       "      <td>0.0048</td>\n",
       "      <td>NaN</td>\n",
       "      <td>NaN</td>\n",
       "      <td>NaN</td>\n",
       "      <td>NaN</td>\n",
       "      <td>...</td>\n",
       "      <td>13/07/15</td>\n",
       "      <td>19 00 03.14</td>\n",
       "      <td>+40 13 14.7</td>\n",
       "      <td>NaN</td>\n",
       "      <td>0.460</td>\n",
       "      <td>0.450</td>\n",
       "      <td>0.00</td>\n",
       "      <td>3584.0</td>\n",
       "      <td>NaN</td>\n",
       "      <td>Controversial</td>\n",
       "    </tr>\n",
       "    <tr>\n",
       "      <th>3</th>\n",
       "      <td>KOI-1843.01</td>\n",
       "      <td>0</td>\n",
       "      <td>NaN</td>\n",
       "      <td>0.114</td>\n",
       "      <td>4.194525</td>\n",
       "      <td>0.0390</td>\n",
       "      <td>NaN</td>\n",
       "      <td>NaN</td>\n",
       "      <td>NaN</td>\n",
       "      <td>NaN</td>\n",
       "      <td>...</td>\n",
       "      <td>NaN</td>\n",
       "      <td>19 00 03.14</td>\n",
       "      <td>+40 13 14.7</td>\n",
       "      <td>NaN</td>\n",
       "      <td>0.460</td>\n",
       "      <td>0.450</td>\n",
       "      <td>0.00</td>\n",
       "      <td>3584.0</td>\n",
       "      <td>NaN</td>\n",
       "      <td>Controversial</td>\n",
       "    </tr>\n",
       "    <tr>\n",
       "      <th>4</th>\n",
       "      <td>KOI-1843.02</td>\n",
       "      <td>0</td>\n",
       "      <td>NaN</td>\n",
       "      <td>0.071</td>\n",
       "      <td>6.356006</td>\n",
       "      <td>0.0520</td>\n",
       "      <td>NaN</td>\n",
       "      <td>NaN</td>\n",
       "      <td>NaN</td>\n",
       "      <td>NaN</td>\n",
       "      <td>...</td>\n",
       "      <td>NaN</td>\n",
       "      <td>19 00 03.14</td>\n",
       "      <td>+40 13 14.7</td>\n",
       "      <td>NaN</td>\n",
       "      <td>0.460</td>\n",
       "      <td>0.450</td>\n",
       "      <td>0.00</td>\n",
       "      <td>3584.0</td>\n",
       "      <td>NaN</td>\n",
       "      <td>Controversial</td>\n",
       "    </tr>\n",
       "  </tbody>\n",
       "</table>\n",
       "<p>5 rows × 25 columns</p>\n",
       "</div>"
      ],
      "text/plain": [
       "  PlanetIdentifier  TypeFlag  PlanetaryMassJpt  RadiusJpt  PeriodDays  \\\n",
       "0      HD 143761 b         0            1.0450        NaN   39.845800   \n",
       "1      HD 143761 c         0            0.0790        NaN  102.540000   \n",
       "2      KOI-1843.03         0            0.0014      0.054    0.176891   \n",
       "3      KOI-1843.01         0               NaN      0.114    4.194525   \n",
       "4      KOI-1843.02         0               NaN      0.071    6.356006   \n",
       "\n",
       "   SemiMajorAxisAU  Eccentricity  PeriastronDeg  LongitudeDeg  \\\n",
       "0           0.2196         0.037          270.6           NaN   \n",
       "1           0.4123         0.050          190.0           NaN   \n",
       "2           0.0048           NaN            NaN           NaN   \n",
       "3           0.0390           NaN            NaN           NaN   \n",
       "4           0.0520           NaN            NaN           NaN   \n",
       "\n",
       "   AscendingNodeDeg  ...  LastUpdated  RightAscension  Declination  \\\n",
       "0               NaN  ...     16/07/11        16 01 03    +33 18 13   \n",
       "1               NaN  ...     16/07/11        16 01 03    +33 18 13   \n",
       "2               NaN  ...     13/07/15     19 00 03.14  +40 13 14.7   \n",
       "3               NaN  ...          NaN     19 00 03.14  +40 13 14.7   \n",
       "4               NaN  ...          NaN     19 00 03.14  +40 13 14.7   \n",
       "\n",
       "  DistFromSunParsec  HostStarMassSlrMass HostStarRadiusSlrRad  \\\n",
       "0            17.236                0.889                1.362   \n",
       "1            17.236                0.889                1.362   \n",
       "2               NaN                0.460                0.450   \n",
       "3               NaN                0.460                0.450   \n",
       "4               NaN                0.460                0.450   \n",
       "\n",
       "  HostStarMetallicity HostStarTempK  HostStarAgeGyr    ListsPlanetIsOn  \n",
       "0               -0.31        5627.0             NaN  Confirmed planets  \n",
       "1               -0.31        5627.0             NaN  Confirmed planets  \n",
       "2                0.00        3584.0             NaN      Controversial  \n",
       "3                0.00        3584.0             NaN      Controversial  \n",
       "4                0.00        3584.0             NaN      Controversial  \n",
       "\n",
       "[5 rows x 25 columns]"
      ]
     },
     "execution_count": 40,
     "metadata": {},
     "output_type": "execute_result"
    }
   ],
   "source": [
    "data.head()"
   ]
  },
  {
   "cell_type": "code",
   "execution_count": 41,
   "metadata": {},
   "outputs": [
    {
     "data": {
      "text/plain": [
       "Index(['PlanetIdentifier', 'TypeFlag', 'PlanetaryMassJpt', 'RadiusJpt',\n",
       "       'PeriodDays', 'SemiMajorAxisAU', 'Eccentricity', 'PeriastronDeg',\n",
       "       'LongitudeDeg', 'AscendingNodeDeg', 'InclinationDeg', 'SurfaceTempK',\n",
       "       'AgeGyr', 'DiscoveryMethod', 'DiscoveryYear', 'LastUpdated',\n",
       "       'RightAscension', 'Declination', 'DistFromSunParsec',\n",
       "       'HostStarMassSlrMass', 'HostStarRadiusSlrRad', 'HostStarMetallicity',\n",
       "       'HostStarTempK', 'HostStarAgeGyr', 'ListsPlanetIsOn'],\n",
       "      dtype='object')"
      ]
     },
     "execution_count": 41,
     "metadata": {},
     "output_type": "execute_result"
    }
   ],
   "source": [
    "data.columns"
   ]
  },
  {
   "cell_type": "code",
   "execution_count": 42,
   "metadata": {},
   "outputs": [
    {
     "data": {
      "text/plain": [
       "(3584, 25)"
      ]
     },
     "execution_count": 42,
     "metadata": {},
     "output_type": "execute_result"
    }
   ],
   "source": [
    "data.shape"
   ]
  },
  {
   "cell_type": "markdown",
   "metadata": {},
   "source": [
    "## Описание датасета"
   ]
  },
  {
   "cell_type": "markdown",
   "metadata": {},
   "source": [
    "Всего 3584 объекта, 25 признаков (если считать идентификатор):\n",
    "1. PlanetIdentifier - идентификатор планеты\n",
    "2. TypeFlag - тип звездной системы:\n",
    "    - 0 - одиночная звезда\n",
    "    - 1 - двойная система P-типа (подробнее по [типам](https://ru.wikipedia.org/wiki/Жизнь_у_двойных_звёзд))\n",
    "    - 2 - двойная система S-типа \n",
    "    - 3 - планета-сирота\n",
    "3. PlanetaryMassJpt - оценочная масса планеты в массах Юпитера\n",
    "4. RadiusJpt - оценочный радиус планеты в радиусах Юпитера\n",
    "5. PeriodDays - период обращения вокруг звезды\n",
    "6. SemiMajorAxisAU - Большая полуось орбиты планеты в астрономических единицах\n",
    "7. Eccentricity - Эксцентриситет орбиты\n",
    "8. PeriastronDeg - Периастр в градусах\n",
    "9. LongtitudeDeg - Долгота в градусах\n",
    "10. AscendingNodeDeg - [Восходящий узел](https://ru.wikipedia.org/wiki/Узел_орбиты) в градусах\n",
    "11. InclinationDeg -  Наклонение орбиты в градусах\n",
    "12. SurfaceTempK - Температура на поверхности\n",
    "13. AgeGyr - Возраст в годах * 10^9\n",
    "14. DiscoveryMethod - Метод, с помощью которого открыли планету\n",
    "15. DiscoveryYear - Год открытия\n",
    "16. LastUpdated - Дата последнего обновления данных\n",
    "17. RightAscension - [Прямое восхождение](https://ru.wikipedia.org/wiki/Прямое_восхождение)\n",
    "18. Declination - [Склонение](https://ru.wikipedia.org/wiki/Склонение_(астрономия))\n",
    "19. DistFromSunParsec - Расстояние от Солнца в парсеках (3,2616 световых лет)\n",
    "20. HostStarMassSlrMass - Масса родительской звезды в массах Солнца\n",
    "21. HostStarRadiusSlrRad - Радиус родительской звезды в радиусах Солнца\n",
    "22. HostStarMetallicity - [Металличность](https://ru.wikipedia.org/wiki/Металличность) родительской звезды (логарифмическое отношение к солнечной)\n",
    "23. HostStarTempK - Температура родительской звезды в кельвинах\n",
    "24. HostStarAgeGyr - Возраст родительсокй звезды в годах * 10^9\n",
    "25. ListsPlanetIsOn - Список статусов планеты"
   ]
  },
  {
   "cell_type": "markdown",
   "metadata": {},
   "source": [
    "Константы:\n",
    "\n",
    "Масса Юпитера: 1.8991766e+27 кг\n",
    "\n",
    "Масса Солнца: 1.9891e+30 кг\n",
    "\n",
    "Радиус Юпитера: 69911000 м\n",
    "\n",
    "Радиус Солнца: 6.96e+08 м"
   ]
  },
  {
   "cell_type": "code",
   "execution_count": 43,
   "metadata": {},
   "outputs": [
    {
     "name": "stdout",
     "output_type": "stream",
     "text": [
      "<class 'pandas.core.frame.DataFrame'>\n",
      "RangeIndex: 3584 entries, 0 to 3583\n",
      "Data columns (total 25 columns):\n",
      " #   Column                Non-Null Count  Dtype  \n",
      "---  ------                --------------  -----  \n",
      " 0   PlanetIdentifier      3584 non-null   object \n",
      " 1   TypeFlag              3584 non-null   int64  \n",
      " 2   PlanetaryMassJpt      1313 non-null   float64\n",
      " 3   RadiusJpt             2774 non-null   float64\n",
      " 4   PeriodDays            3485 non-null   float64\n",
      " 5   SemiMajorAxisAU       1406 non-null   float64\n",
      " 6   Eccentricity          1108 non-null   float64\n",
      " 7   PeriastronDeg         328 non-null    float64\n",
      " 8   LongitudeDeg          43 non-null     float64\n",
      " 9   AscendingNodeDeg      46 non-null     float64\n",
      " 10  InclinationDeg        665 non-null    float64\n",
      " 11  SurfaceTempK          741 non-null    float64\n",
      " 12  AgeGyr                2 non-null      float64\n",
      " 13  DiscoveryMethod       3521 non-null   object \n",
      " 14  DiscoveryYear         3574 non-null   float64\n",
      " 15  LastUpdated           3576 non-null   object \n",
      " 16  RightAscension        3574 non-null   object \n",
      " 17  Declination           3574 non-null   object \n",
      " 18  DistFromSunParsec     2133 non-null   float64\n",
      " 19  HostStarMassSlrMass   3416 non-null   float64\n",
      " 20  HostStarRadiusSlrRad  3263 non-null   float64\n",
      " 21  HostStarMetallicity   2509 non-null   float64\n",
      " 22  HostStarTempK         3455 non-null   float64\n",
      " 23  HostStarAgeGyr        517 non-null    float64\n",
      " 24  ListsPlanetIsOn       3584 non-null   object \n",
      "dtypes: float64(18), int64(1), object(6)\n",
      "memory usage: 700.1+ KB\n"
     ]
    }
   ],
   "source": [
    "data.info()"
   ]
  },
  {
   "cell_type": "markdown",
   "metadata": {},
   "source": [
    "## Расчет выборочных характеристик"
   ]
  },
  {
   "cell_type": "code",
   "execution_count": 44,
   "metadata": {},
   "outputs": [
    {
     "data": {
      "text/html": [
       "<div>\n",
       "<style scoped>\n",
       "    .dataframe tbody tr th:only-of-type {\n",
       "        vertical-align: middle;\n",
       "    }\n",
       "\n",
       "    .dataframe tbody tr th {\n",
       "        vertical-align: top;\n",
       "    }\n",
       "\n",
       "    .dataframe thead th {\n",
       "        text-align: right;\n",
       "    }\n",
       "</style>\n",
       "<table border=\"1\" class=\"dataframe\">\n",
       "  <thead>\n",
       "    <tr style=\"text-align: right;\">\n",
       "      <th></th>\n",
       "      <th>TypeFlag</th>\n",
       "      <th>PlanetaryMassJpt</th>\n",
       "      <th>RadiusJpt</th>\n",
       "      <th>PeriodDays</th>\n",
       "      <th>SemiMajorAxisAU</th>\n",
       "      <th>Eccentricity</th>\n",
       "      <th>PeriastronDeg</th>\n",
       "      <th>LongitudeDeg</th>\n",
       "      <th>AscendingNodeDeg</th>\n",
       "      <th>InclinationDeg</th>\n",
       "      <th>SurfaceTempK</th>\n",
       "      <th>AgeGyr</th>\n",
       "      <th>DiscoveryYear</th>\n",
       "      <th>DistFromSunParsec</th>\n",
       "      <th>HostStarMassSlrMass</th>\n",
       "      <th>HostStarRadiusSlrRad</th>\n",
       "      <th>HostStarMetallicity</th>\n",
       "      <th>HostStarTempK</th>\n",
       "      <th>HostStarAgeGyr</th>\n",
       "    </tr>\n",
       "  </thead>\n",
       "  <tbody>\n",
       "    <tr>\n",
       "      <th>count</th>\n",
       "      <td>3584.000000</td>\n",
       "      <td>1313.000000</td>\n",
       "      <td>2774.000000</td>\n",
       "      <td>3485.000000</td>\n",
       "      <td>1406.000000</td>\n",
       "      <td>1108.000000</td>\n",
       "      <td>328.000000</td>\n",
       "      <td>43.000000</td>\n",
       "      <td>46.000000</td>\n",
       "      <td>665.000000</td>\n",
       "      <td>741.000000</td>\n",
       "      <td>2.000000</td>\n",
       "      <td>3574.000000</td>\n",
       "      <td>2133.000000</td>\n",
       "      <td>3416.000000</td>\n",
       "      <td>3263.000000</td>\n",
       "      <td>2509.000000</td>\n",
       "      <td>3455.000000</td>\n",
       "      <td>517.000000</td>\n",
       "    </tr>\n",
       "    <tr>\n",
       "      <th>mean</th>\n",
       "      <td>0.097656</td>\n",
       "      <td>2.890944</td>\n",
       "      <td>0.371190</td>\n",
       "      <td>537.248317</td>\n",
       "      <td>2.000170</td>\n",
       "      <td>0.166910</td>\n",
       "      <td>150.363823</td>\n",
       "      <td>144.200847</td>\n",
       "      <td>90.624476</td>\n",
       "      <td>82.973840</td>\n",
       "      <td>871.714170</td>\n",
       "      <td>1.502750</td>\n",
       "      <td>2013.300504</td>\n",
       "      <td>554.912346</td>\n",
       "      <td>0.983225</td>\n",
       "      <td>1.495629</td>\n",
       "      <td>0.016228</td>\n",
       "      <td>5505.514501</td>\n",
       "      <td>4.635355</td>\n",
       "    </tr>\n",
       "    <tr>\n",
       "      <th>std</th>\n",
       "      <td>0.424554</td>\n",
       "      <td>10.204485</td>\n",
       "      <td>0.416871</td>\n",
       "      <td>7509.660676</td>\n",
       "      <td>19.352699</td>\n",
       "      <td>0.189760</td>\n",
       "      <td>117.859945</td>\n",
       "      <td>127.865952</td>\n",
       "      <td>93.047968</td>\n",
       "      <td>21.402768</td>\n",
       "      <td>699.314463</td>\n",
       "      <td>2.117431</td>\n",
       "      <td>6.159674</td>\n",
       "      <td>847.566803</td>\n",
       "      <td>0.319063</td>\n",
       "      <td>3.071298</td>\n",
       "      <td>0.193495</td>\n",
       "      <td>1204.271777</td>\n",
       "      <td>4.657679</td>\n",
       "    </tr>\n",
       "    <tr>\n",
       "      <th>min</th>\n",
       "      <td>0.000000</td>\n",
       "      <td>0.000008</td>\n",
       "      <td>0.002300</td>\n",
       "      <td>0.090706</td>\n",
       "      <td>0.004420</td>\n",
       "      <td>0.000000</td>\n",
       "      <td>-233.000000</td>\n",
       "      <td>-174.640000</td>\n",
       "      <td>-5.112604</td>\n",
       "      <td>-0.000543</td>\n",
       "      <td>102.200000</td>\n",
       "      <td>0.005500</td>\n",
       "      <td>1781.000000</td>\n",
       "      <td>1.295000</td>\n",
       "      <td>0.012000</td>\n",
       "      <td>0.000014</td>\n",
       "      <td>-2.090000</td>\n",
       "      <td>540.000000</td>\n",
       "      <td>0.002200</td>\n",
       "    </tr>\n",
       "    <tr>\n",
       "      <th>25%</th>\n",
       "      <td>0.000000</td>\n",
       "      <td>0.150000</td>\n",
       "      <td>0.141062</td>\n",
       "      <td>4.757940</td>\n",
       "      <td>0.053000</td>\n",
       "      <td>0.020000</td>\n",
       "      <td>66.750000</td>\n",
       "      <td>37.167396</td>\n",
       "      <td>1.509500</td>\n",
       "      <td>85.058000</td>\n",
       "      <td>321.800000</td>\n",
       "      <td>0.754125</td>\n",
       "      <td>2013.000000</td>\n",
       "      <td>60.000000</td>\n",
       "      <td>0.830000</td>\n",
       "      <td>0.810000</td>\n",
       "      <td>-0.050000</td>\n",
       "      <td>5113.000000</td>\n",
       "      <td>2.000000</td>\n",
       "    </tr>\n",
       "    <tr>\n",
       "      <th>50%</th>\n",
       "      <td>0.000000</td>\n",
       "      <td>0.940000</td>\n",
       "      <td>0.209600</td>\n",
       "      <td>13.071630</td>\n",
       "      <td>0.169500</td>\n",
       "      <td>0.100000</td>\n",
       "      <td>139.700000</td>\n",
       "      <td>162.280000</td>\n",
       "      <td>69.821251</td>\n",
       "      <td>87.800000</td>\n",
       "      <td>719.600000</td>\n",
       "      <td>1.502750</td>\n",
       "      <td>2014.000000</td>\n",
       "      <td>333.000000</td>\n",
       "      <td>0.977000</td>\n",
       "      <td>1.000000</td>\n",
       "      <td>0.020000</td>\n",
       "      <td>5634.000000</td>\n",
       "      <td>4.000000</td>\n",
       "    </tr>\n",
       "    <tr>\n",
       "      <th>75%</th>\n",
       "      <td>0.000000</td>\n",
       "      <td>2.500000</td>\n",
       "      <td>0.321518</td>\n",
       "      <td>49.514000</td>\n",
       "      <td>1.250000</td>\n",
       "      <td>0.247282</td>\n",
       "      <td>243.000000</td>\n",
       "      <td>252.625834</td>\n",
       "      <td>169.175000</td>\n",
       "      <td>89.140000</td>\n",
       "      <td>1310.900000</td>\n",
       "      <td>2.251375</td>\n",
       "      <td>2016.000000</td>\n",
       "      <td>773.130000</td>\n",
       "      <td>1.105000</td>\n",
       "      <td>1.250000</td>\n",
       "      <td>0.100000</td>\n",
       "      <td>5940.000000</td>\n",
       "      <td>6.300000</td>\n",
       "    </tr>\n",
       "    <tr>\n",
       "      <th>max</th>\n",
       "      <td>3.000000</td>\n",
       "      <td>263.000000</td>\n",
       "      <td>6.000000</td>\n",
       "      <td>320000.000000</td>\n",
       "      <td>662.000000</td>\n",
       "      <td>0.956000</td>\n",
       "      <td>791.000000</td>\n",
       "      <td>339.300000</td>\n",
       "      <td>320.800000</td>\n",
       "      <td>305.000000</td>\n",
       "      <td>7112.000000</td>\n",
       "      <td>3.000000</td>\n",
       "      <td>2017.000000</td>\n",
       "      <td>8500.000000</td>\n",
       "      <td>4.500000</td>\n",
       "      <td>51.100000</td>\n",
       "      <td>0.560000</td>\n",
       "      <td>29300.000000</td>\n",
       "      <td>80.000000</td>\n",
       "    </tr>\n",
       "  </tbody>\n",
       "</table>\n",
       "</div>"
      ],
      "text/plain": [
       "          TypeFlag  PlanetaryMassJpt    RadiusJpt     PeriodDays  \\\n",
       "count  3584.000000       1313.000000  2774.000000    3485.000000   \n",
       "mean      0.097656          2.890944     0.371190     537.248317   \n",
       "std       0.424554         10.204485     0.416871    7509.660676   \n",
       "min       0.000000          0.000008     0.002300       0.090706   \n",
       "25%       0.000000          0.150000     0.141062       4.757940   \n",
       "50%       0.000000          0.940000     0.209600      13.071630   \n",
       "75%       0.000000          2.500000     0.321518      49.514000   \n",
       "max       3.000000        263.000000     6.000000  320000.000000   \n",
       "\n",
       "       SemiMajorAxisAU  Eccentricity  PeriastronDeg  LongitudeDeg  \\\n",
       "count      1406.000000   1108.000000     328.000000     43.000000   \n",
       "mean          2.000170      0.166910     150.363823    144.200847   \n",
       "std          19.352699      0.189760     117.859945    127.865952   \n",
       "min           0.004420      0.000000    -233.000000   -174.640000   \n",
       "25%           0.053000      0.020000      66.750000     37.167396   \n",
       "50%           0.169500      0.100000     139.700000    162.280000   \n",
       "75%           1.250000      0.247282     243.000000    252.625834   \n",
       "max         662.000000      0.956000     791.000000    339.300000   \n",
       "\n",
       "       AscendingNodeDeg  InclinationDeg  SurfaceTempK    AgeGyr  \\\n",
       "count         46.000000      665.000000    741.000000  2.000000   \n",
       "mean          90.624476       82.973840    871.714170  1.502750   \n",
       "std           93.047968       21.402768    699.314463  2.117431   \n",
       "min           -5.112604       -0.000543    102.200000  0.005500   \n",
       "25%            1.509500       85.058000    321.800000  0.754125   \n",
       "50%           69.821251       87.800000    719.600000  1.502750   \n",
       "75%          169.175000       89.140000   1310.900000  2.251375   \n",
       "max          320.800000      305.000000   7112.000000  3.000000   \n",
       "\n",
       "       DiscoveryYear  DistFromSunParsec  HostStarMassSlrMass  \\\n",
       "count    3574.000000        2133.000000          3416.000000   \n",
       "mean     2013.300504         554.912346             0.983225   \n",
       "std         6.159674         847.566803             0.319063   \n",
       "min      1781.000000           1.295000             0.012000   \n",
       "25%      2013.000000          60.000000             0.830000   \n",
       "50%      2014.000000         333.000000             0.977000   \n",
       "75%      2016.000000         773.130000             1.105000   \n",
       "max      2017.000000        8500.000000             4.500000   \n",
       "\n",
       "       HostStarRadiusSlrRad  HostStarMetallicity  HostStarTempK  \\\n",
       "count           3263.000000          2509.000000    3455.000000   \n",
       "mean               1.495629             0.016228    5505.514501   \n",
       "std                3.071298             0.193495    1204.271777   \n",
       "min                0.000014            -2.090000     540.000000   \n",
       "25%                0.810000            -0.050000    5113.000000   \n",
       "50%                1.000000             0.020000    5634.000000   \n",
       "75%                1.250000             0.100000    5940.000000   \n",
       "max               51.100000             0.560000   29300.000000   \n",
       "\n",
       "       HostStarAgeGyr  \n",
       "count      517.000000  \n",
       "mean         4.635355  \n",
       "std          4.657679  \n",
       "min          0.002200  \n",
       "25%          2.000000  \n",
       "50%          4.000000  \n",
       "75%          6.300000  \n",
       "max         80.000000  "
      ]
     },
     "execution_count": 44,
     "metadata": {},
     "output_type": "execute_result"
    }
   ],
   "source": [
    "data.describe()"
   ]
  },
  {
   "cell_type": "code",
   "execution_count": 104,
   "metadata": {},
   "outputs": [
    {
     "data": {
      "text/plain": [
       "0.3711896948449642"
      ]
     },
     "execution_count": 104,
     "metadata": {},
     "output_type": "execute_result"
    }
   ],
   "source": [
    "np.nanmean(data['RadiusJpt'])"
   ]
  },
  {
   "cell_type": "code",
   "execution_count": 105,
   "metadata": {},
   "outputs": [
    {
     "data": {
      "text/plain": [
       "0.1737186488547459"
      ]
     },
     "execution_count": 105,
     "metadata": {},
     "output_type": "execute_result"
    }
   ],
   "source": [
    "np.nanvar(data['RadiusJpt'])"
   ]
  },
  {
   "cell_type": "code",
   "execution_count": 107,
   "metadata": {},
   "outputs": [
    {
     "data": {
      "text/plain": [
       "0.2096"
      ]
     },
     "execution_count": 107,
     "metadata": {},
     "output_type": "execute_result"
    }
   ],
   "source": [
    "np.nanmedian(data['RadiusJpt'])"
   ]
  },
  {
   "cell_type": "code",
   "execution_count": 109,
   "metadata": {},
   "outputs": [
    {
     "data": {
      "text/plain": [
       "0.41679569198199"
      ]
     },
     "execution_count": 109,
     "metadata": {},
     "output_type": "execute_result"
    }
   ],
   "source": [
    "np.nanstd(data['RadiusJpt'])"
   ]
  },
  {
   "cell_type": "markdown",
   "metadata": {},
   "source": [
    "## Графический анализ данных"
   ]
  },
  {
   "cell_type": "markdown",
   "metadata": {},
   "source": [
    "Создади категориальную переменную на основе \"TypeFlag\", для более удобного восприятия типа родительской звезды"
   ]
  },
  {
   "cell_type": "code",
   "execution_count": 45,
   "metadata": {},
   "outputs": [
    {
     "name": "stdout",
     "output_type": "stream",
     "text": [
      "Одиночная звезда         3396\n",
      "Двойная звезда S-типа     156\n",
      "Двойная звезда P-типа      29\n",
      "Планета-сирота              3\n",
      "dtype: int64\n"
     ]
    }
   ],
   "source": [
    "def system_type_classify(row):\n",
    "    if row.TypeFlag == 0:\n",
    "        return \"Одиночная звезда\"\n",
    "    if row.TypeFlag == 1:\n",
    "        return \"Двойная звезда P-типа\"\n",
    "    if row.TypeFlag == 2:\n",
    "        return \"Двойная звезда S-типа\"\n",
    "    return \"Планета-сирота\"\n",
    "type_ = data.apply(system_type_classify, axis=\"columns\")\n",
    "print(type_.value_counts())"
   ]
  },
  {
   "cell_type": "code",
   "execution_count": 79,
   "metadata": {},
   "outputs": [],
   "source": [
    "data[\"SystemType\"] = type_"
   ]
  },
  {
   "cell_type": "markdown",
   "metadata": {},
   "source": [
    "Большинство планет находят у одиночных звезд:"
   ]
  },
  {
   "cell_type": "code",
   "execution_count": 93,
   "metadata": {},
   "outputs": [
    {
     "data": {
      "text/plain": [
       "<AxesSubplot:ylabel='SystemType'>"
      ]
     },
     "execution_count": 93,
     "metadata": {},
     "output_type": "execute_result"
    },
    {
     "data": {
      "image/png": "[encoded data removed]",
      "text/plain": [
       "<Figure size 432x288 with 1 Axes>"
      ]
     },
     "metadata": {},
     "output_type": "display_data"
    }
   ],
   "source": [
    "data[\"SystemType\"].value_counts().plot.pie(autopct='%1.1f%%')"
   ]
  },
  {
   "cell_type": "markdown",
   "metadata": {},
   "source": [
    "Абсолютное большинство экзопланет находятся с помощью двух методов:"
   ]
  },
  {
   "cell_type": "code",
   "execution_count": 92,
   "metadata": {},
   "outputs": [
    {
     "data": {
      "text/plain": [
       "<AxesSubplot:ylabel='DiscoveryMethod'>"
      ]
     },
     "execution_count": 92,
     "metadata": {},
     "output_type": "execute_result"
    },
    {
     "data": {
      "image/png": "[encoded data removed]",
      "text/plain": [
       "<Figure size 432x288 with 1 Axes>"
      ]
     },
     "metadata": {},
     "output_type": "display_data"
    }
   ],
   "source": [
    "data[\"DiscoveryMethod\"].value_counts().plot.pie(autopct='%1.1f%%')"
   ]
  },
  {
   "cell_type": "markdown",
   "metadata": {},
   "source": [
    "Распределение найденных планет по удаленности от Солнечной системы:"
   ]
  },
  {
   "cell_type": "code",
   "execution_count": 47,
   "metadata": {},
   "outputs": [
    {
     "data": {
      "text/plain": [
       "<seaborn.axisgrid.FacetGrid at 0x1a2ce14d070>"
      ]
     },
     "execution_count": 47,
     "metadata": {},
     "output_type": "execute_result"
    },
    {
     "data": {
      "text/plain": [
       "<Figure size 720x1080 with 0 Axes>"
      ]
     },
     "metadata": {},
     "output_type": "display_data"
    },
    {
     "data": {
      "image/png": "[encoded data removed]",
      "text/plain": [
       "<Figure size 360x360 with 1 Axes>"
      ]
     },
     "metadata": {
      "needs_background": "light"
     },
     "output_type": "display_data"
    }
   ],
   "source": [
    "plt.figure(figsize=(10, 15))\n",
    "sns.displot(data[\"DistFromSunParsec\"], kde=True)"
   ]
  },
  {
   "cell_type": "markdown",
   "metadata": {},
   "source": [
    "Распределение двух самых популярных методов поиска по годам:"
   ]
  },
  {
   "cell_type": "code",
   "execution_count": 73,
   "metadata": {},
   "outputs": [
    {
     "name": "stderr",
     "output_type": "stream",
     "text": [
      "C:\\Users\\igork\\anaconda3\\lib\\site-packages\\seaborn\\distributions.py:2551: FutureWarning: `distplot` is a deprecated function and will be removed in a future version. Please adapt your code to use either `displot` (a figure-level function with similar flexibility) or `histplot` (an axes-level function for histograms).\n",
      "  warnings.warn(msg, FutureWarning)\n",
      "C:\\Users\\igork\\anaconda3\\lib\\site-packages\\seaborn\\distributions.py:2551: FutureWarning: `distplot` is a deprecated function and will be removed in a future version. Please adapt your code to use either `displot` (a figure-level function with similar flexibility) or `histplot` (an axes-level function for histograms).\n",
      "  warnings.warn(msg, FutureWarning)\n"
     ]
    },
    {
     "data": {
      "image/png": "[encoded data removed]",
      "text/plain": [
       "<Figure size 720x360 with 1 Axes>"
      ]
     },
     "metadata": {
      "needs_background": "light"
     },
     "output_type": "display_data"
    }
   ],
   "source": [
    "plt.figure(figsize=(10,5))\n",
    "sns.distplot(data[\"DiscoveryYear\"][data[\"DiscoveryMethod\"]=='transit'], label=\"transit\")\n",
    "sns.distplot(data[\"DiscoveryYear\"][data[\"DiscoveryMethod\"]=='RV'], label=\"RV\")\n",
    "plt.ylabel(\"density\")\n",
    "plt.legend(('transit avg = '+ str(np.round(np.mean(data[\"DiscoveryYear\"][data[\"DiscoveryMethod\"]==0]),2)),\n",
    "            'RV avg = ' + str(np.round(np.mean(data[\"DiscoveryYear\"][data[\"DiscoveryMethod\"]==1]),2))))\n",
    "plt.show()"
   ]
  },
  {
   "cell_type": "markdown",
   "metadata": {},
   "source": [
    "Вывод: Транзитивный метод поиска экзопланет начал преобладать над методом Доплеровской спектроскопии в серидине 2010-х годов."
   ]
  },
  {
   "cell_type": "code",
   "execution_count": 101,
   "metadata": {},
   "outputs": [
    {
     "data": {
      "text/plain": [
       "<seaborn.axisgrid.JointGrid at 0x1a2d50b17c0>"
      ]
     },
     "execution_count": 101,
     "metadata": {},
     "output_type": "execute_result"
    },
    {
     "data": {
      "image/png": "[encoded data removed]",
      "text/plain": [
       "<Figure size 432x432 with 3 Axes>"
      ]
     },
     "metadata": {
      "needs_background": "light"
     },
     "output_type": "display_data"
    }
   ],
   "source": [
    "sns.jointplot(x=data['DistFromSunParsec'], y=data['HostStarTempK'], kind=\"kde\", dropna=True)"
   ]
  },
  {
   "cell_type": "markdown",
   "metadata": {},
   "source": [
    "Вывод: Чем дальше находится планета, тем труднее её найти. Поэтому самые дальние планеты находят у звезд с наибольшей светимостью."
   ]
  },
  {
   "cell_type": "code",
   "execution_count": 114,
   "metadata": {},
   "outputs": [
    {
     "data": {
      "image/png": "[encoded data removed]",
      "text/plain": [
       "<Figure size 432x288 with 1 Axes>"
      ]
     },
     "metadata": {
      "needs_background": "light"
     },
     "output_type": "display_data"
    }
   ],
   "source": [
    "plt.title(\"DiscoveryMethod vs Planer Radius\")\n",
    "ax = sns.boxplot(x=\"DiscoveryMethod\", y=\"RadiusJpt\", data=data)\n",
    "plt.ylabel(\"Planer radius in Jupyter rad\")\n",
    "plt.show()"
   ]
  },
  {
   "cell_type": "markdown",
   "metadata": {},
   "source": [
    "Вывод: Каждый метод имеет свои границы применимости при поиске экзопланет."
   ]
  },
  {
   "cell_type": "code",
   "execution_count": 98,
   "metadata": {},
   "outputs": [
    {
     "data": {
      "text/plain": [
       "<seaborn.axisgrid.JointGrid at 0x1a2d4e4b640>"
      ]
     },
     "execution_count": 98,
     "metadata": {},
     "output_type": "execute_result"
    },
    {
     "data": {
      "image/png": "[encoded data removed]",
      "text/plain": [
       "<Figure size 432x432 with 3 Axes>"
      ]
     },
     "metadata": {
      "needs_background": "light"
     },
     "output_type": "display_data"
    }
   ],
   "source": [
    "sns.jointplot(x=data['RadiusJpt'], y=data['PlanetaryMassJpt'], kind='kde', dropna=True)"
   ]
  },
  {
   "cell_type": "markdown",
   "metadata": {},
   "source": [
    "Вывод: Планеты похожие на Землю найти сложнее."
   ]
  },
  {
   "cell_type": "code",
   "execution_count": 118,
   "metadata": {},
   "outputs": [
    {
     "data": {
      "text/plain": [
       "<seaborn.axisgrid.FacetGrid at 0x1a2d2c37910>"
      ]
     },
     "execution_count": 118,
     "metadata": {},
     "output_type": "execute_result"
    },
    {
     "data": {
      "image/png": "[encoded data removed]",
      "text/plain": [
       "<Figure size 360x360 with 1 Axes>"
      ]
     },
     "metadata": {
      "needs_background": "light"
     },
     "output_type": "display_data"
    }
   ],
   "source": [
    "sns.displot(data[\"DiscoveryYear\"], kde=True)"
   ]
  },
  {
   "cell_type": "markdown",
   "metadata": {},
   "source": [
    "Вывод: Что не удивительно, экзопланеты активно начали открывать после 1990-х, что можно связать с запуском космического телескопа Кеплер."
   ]
  }
 ],
 "metadata": {
  "kernelspec": {
   "display_name": "Python 3",
   "language": "python",
   "name": "python3"
  },
  "language_info": {
   "codemirror_mode": {
    "name": "ipython",
    "version": 3
   },
   "file_extension": ".py",
   "mimetype": "text/x-python",
   "name": "python",
   "nbconvert_exporter": "python",
   "pygments_lexer": "ipython3",
   "version": "3.8.5"
  }
 },
 "nbformat": 4,
 "nbformat_minor": 4
}
